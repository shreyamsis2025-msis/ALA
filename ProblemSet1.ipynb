{
  "nbformat": 4,
  "nbformat_minor": 0,
  "metadata": {
    "colab": {
      "provenance": [],
      "include_colab_link": true
    },
    "kernelspec": {
      "name": "python3",
      "display_name": "Python 3"
    },
    "language_info": {
      "name": "python"
    }
  },
  "cells": [
    {
      "cell_type": "markdown",
      "metadata": {
        "id": "view-in-github",
        "colab_type": "text"
      },
      "source": [
        "<a href=\"https://colab.research.google.com/github/shreyamsis2025-msis/ALA/blob/main/ProblemSet1.ipynb\" target=\"_parent\"><img src=\"https://colab.research.google.com/assets/colab-badge.svg\" alt=\"Open In Colab\"/></a>"
      ]
    },
    {
      "cell_type": "code",
      "execution_count": null,
      "metadata": {
        "colab": {
          "base_uri": "https://localhost:8080/",
          "height": 669
        },
        "id": "kHiqmYxH1KU7",
        "outputId": "d2a84627-8b80-4241-9d74-53807f7d99fa"
      },
      "outputs": [
        {
          "output_type": "stream",
          "name": "stdout",
          "text": [
            "Collecting gensim\n",
            "  Downloading gensim-4.3.3-cp311-cp311-manylinux_2_17_x86_64.manylinux2014_x86_64.whl.metadata (8.1 kB)\n",
            "Collecting numpy<2.0,>=1.18.5 (from gensim)\n",
            "  Downloading numpy-1.26.4-cp311-cp311-manylinux_2_17_x86_64.manylinux2014_x86_64.whl.metadata (61 kB)\n",
            "\u001b[2K     \u001b[90m━━━━━━━━━━━━━━━━━━━━━━━━━━━━━━━━━━━━━━━━\u001b[0m \u001b[32m61.0/61.0 kB\u001b[0m \u001b[31m5.6 MB/s\u001b[0m eta \u001b[36m0:00:00\u001b[0m\n",
            "\u001b[?25hCollecting scipy<1.14.0,>=1.7.0 (from gensim)\n",
            "  Downloading scipy-1.13.1-cp311-cp311-manylinux_2_17_x86_64.manylinux2014_x86_64.whl.metadata (60 kB)\n",
            "\u001b[2K     \u001b[90m━━━━━━━━━━━━━━━━━━━━━━━━━━━━━━━━━━━━━━━━\u001b[0m \u001b[32m60.6/60.6 kB\u001b[0m \u001b[31m2.5 MB/s\u001b[0m eta \u001b[36m0:00:00\u001b[0m\n",
            "\u001b[?25hRequirement already satisfied: smart-open>=1.8.1 in /usr/local/lib/python3.11/dist-packages (from gensim) (7.3.0.post1)\n",
            "Requirement already satisfied: wrapt in /usr/local/lib/python3.11/dist-packages (from smart-open>=1.8.1->gensim) (1.17.3)\n",
            "Downloading gensim-4.3.3-cp311-cp311-manylinux_2_17_x86_64.manylinux2014_x86_64.whl (26.7 MB)\n",
            "\u001b[2K   \u001b[90m━━━━━━━━━━━━━━━━━━━━━━━━━━━━━━━━━━━━━━━━\u001b[0m \u001b[32m26.7/26.7 MB\u001b[0m \u001b[31m46.5 MB/s\u001b[0m eta \u001b[36m0:00:00\u001b[0m\n",
            "\u001b[?25hDownloading numpy-1.26.4-cp311-cp311-manylinux_2_17_x86_64.manylinux2014_x86_64.whl (18.3 MB)\n",
            "\u001b[2K   \u001b[90m━━━━━━━━━━━━━━━━━━━━━━━━━━━━━━━━━━━━━━━━\u001b[0m \u001b[32m18.3/18.3 MB\u001b[0m \u001b[31m21.5 MB/s\u001b[0m eta \u001b[36m0:00:00\u001b[0m\n",
            "\u001b[?25hDownloading scipy-1.13.1-cp311-cp311-manylinux_2_17_x86_64.manylinux2014_x86_64.whl (38.6 MB)\n",
            "\u001b[2K   \u001b[90m━━━━━━━━━━━━━━━━━━━━━━━━━━━━━━━━━━━━━━━━\u001b[0m \u001b[32m38.6/38.6 MB\u001b[0m \u001b[31m34.6 MB/s\u001b[0m eta \u001b[36m0:00:00\u001b[0m\n",
            "\u001b[?25hInstalling collected packages: numpy, scipy, gensim\n",
            "  Attempting uninstall: numpy\n",
            "    Found existing installation: numpy 2.0.2\n",
            "    Uninstalling numpy-2.0.2:\n",
            "      Successfully uninstalled numpy-2.0.2\n",
            "  Attempting uninstall: scipy\n",
            "    Found existing installation: scipy 1.16.1\n",
            "    Uninstalling scipy-1.16.1:\n",
            "      Successfully uninstalled scipy-1.16.1\n",
            "\u001b[31mERROR: pip's dependency resolver does not currently take into account all the packages that are installed. This behaviour is the source of the following dependency conflicts.\n",
            "opencv-contrib-python 4.12.0.88 requires numpy<2.3.0,>=2; python_version >= \"3.9\", but you have numpy 1.26.4 which is incompatible.\n",
            "opencv-python 4.12.0.88 requires numpy<2.3.0,>=2; python_version >= \"3.9\", but you have numpy 1.26.4 which is incompatible.\n",
            "thinc 8.3.6 requires numpy<3.0.0,>=2.0.0, but you have numpy 1.26.4 which is incompatible.\n",
            "tsfresh 0.21.0 requires scipy>=1.14.0; python_version >= \"3.10\", but you have scipy 1.13.1 which is incompatible.\n",
            "opencv-python-headless 4.12.0.88 requires numpy<2.3.0,>=2; python_version >= \"3.9\", but you have numpy 1.26.4 which is incompatible.\u001b[0m\u001b[31m\n",
            "\u001b[0mSuccessfully installed gensim-4.3.3 numpy-1.26.4 scipy-1.13.1\n"
          ]
        },
        {
          "output_type": "display_data",
          "data": {
            "application/vnd.colab-display-data+json": {
              "pip_warning": {
                "packages": [
                  "numpy"
                ]
              },
              "id": "4f66a03d0bbf4971999ec33f920d92d7"
            }
          },
          "metadata": {}
        }
      ],
      "source": [
        "!pip install gensim"
      ]
    },
    {
      "cell_type": "code",
      "source": [
        "import numpy as np\n",
        "import torch\n",
        "import matplotlib.pyplot as plt\n",
        "plt.style.use('dark_background')\n",
        "%matplotlib inline\n",
        "import sys\n",
        "from sklearn.preprocessing import StandardScaler, OneHotEncoder, MinMaxScaler\n",
        "import nltk\n",
        "import gensim.downloader\n",
        "from nltk.tokenize import word_tokenize"
      ],
      "metadata": {
        "id": "9mY-EKy06VwK"
      },
      "execution_count": null,
      "outputs": []
    },
    {
      "cell_type": "code",
      "source": [
        "# 1st question\n",
        "v1 = torch.tensor([1,2,3],dtype=torch.float64)\n",
        "v2 = torch.tensor([1,1,1],dtype=torch.float64)\n",
        "\n",
        "#a\n",
        "print(torch.sqrt(torch.dot(v1,v1)))\n",
        "print(torch.sqrt(torch.dot(v2,v2)))\n",
        "\n",
        "print((torch.sqrt(torch.dot(v1,v1)/3)))\n",
        "print((torch.sqrt(torch.dot(v2,v2)/3)))\n",
        "\n",
        "#b\n",
        "v1_mc = v1 - torch.mean(v1)\n",
        "v2_mc = v2 - torch.mean(v2)\n",
        "print(v1_mc)\n",
        "print(v2_mc)\n",
        "\n",
        "#c\n",
        "print(torch.mean(v1_mc))\n",
        "print(torch.mean(v2_mc))\n",
        "\n",
        "#d\n",
        "std_v1 = torch.sqrt(torch.mean(v1_mc**2))\n",
        "std_v2 = torch.sqrt(torch.mean(v2_mc**2))\n",
        "print(std_v1)\n",
        "print(std_v2)\n",
        "\n",
        "#e\n",
        "#Refer practise\n",
        "\n",
        "#f\n",
        "print(v1_mc/std_v1)\n",
        "print(v2_mc/std_v2)"
      ],
      "metadata": {
        "colab": {
          "base_uri": "https://localhost:8080/"
        },
        "id": "5e843hBhzJyT",
        "outputId": "d4fbd075-28d5-422a-cadb-cfc7d3adcc0d"
      },
      "execution_count": null,
      "outputs": [
        {
          "output_type": "stream",
          "name": "stdout",
          "text": [
            "tensor(3.7417, dtype=torch.float64)\n",
            "tensor(1.7321, dtype=torch.float64)\n",
            "tensor(2.1602, dtype=torch.float64)\n",
            "tensor(1., dtype=torch.float64)\n",
            "tensor([-1.,  0.,  1.], dtype=torch.float64)\n",
            "tensor([0., 0., 0.], dtype=torch.float64)\n",
            "tensor(0., dtype=torch.float64)\n",
            "tensor(0., dtype=torch.float64)\n",
            "tensor(0.8165, dtype=torch.float64)\n",
            "tensor(0., dtype=torch.float64)\n",
            "tensor([-1.2247,  0.0000,  1.2247], dtype=torch.float64)\n",
            "tensor([nan, nan, nan], dtype=torch.float64)\n"
          ]
        }
      ]
    },
    {
      "cell_type": "code",
      "source": [
        "# 2nd Question\n",
        "a = torch.tensor([0.0, -1.0, -2.0])\n",
        "b = torch.tensor([0.0,  1.0,  2.0])\n",
        "print(a)\n",
        "print(b)\n",
        "\n",
        "rms = torch.sqrt(((a[1])**2 + (a[1])**2 + (a[1])**2 )/3)\n",
        "print(rms)\n",
        "\n",
        "print(torch.mean(a))\n",
        "print(torch.mean(b))\n",
        "print(torch.mean(-3 * b))\n",
        "\n",
        "a_mc = a - torch.mean(a)\n",
        "v = torch.mean(a_mc**2)\n",
        "s = torch.sqrt(v)\n",
        "print(f'Standard Deviation: {s}')\n",
        "\n",
        "print(f'Standard Deviation -3a: { -3 * s}')\n",
        "\n",
        "corr = np.corrcoef(a,b)\n",
        "print(corr)\n",
        "\n",
        "print(torch.norm(a - b))\n",
        "\n",
        "print((180.0/torch.pi)*(torch.acos(torch.dot(a,b) / (torch.norm(a) * torch.norm(b)))))"
      ],
      "metadata": {
        "colab": {
          "base_uri": "https://localhost:8080/"
        },
        "id": "VCC6Ng246YKK",
        "outputId": "4247044f-4d7e-407c-cf3b-36869088a1b1"
      },
      "execution_count": null,
      "outputs": [
        {
          "output_type": "stream",
          "name": "stdout",
          "text": [
            "tensor([ 0., -1., -2.])\n",
            "tensor([0., 1., 2.])\n",
            "tensor(1.)\n",
            "tensor(-1.)\n",
            "tensor(1.)\n",
            "tensor(-3.)\n",
            "Standard Deviation: 0.8164966106414795\n",
            "Standard Deviation -3a: -2.4494898319244385\n",
            "[[ 1. -1.]\n",
            " [-1.  1.]]\n",
            "tensor(4.4721)\n",
            "tensor(180.)\n"
          ]
        }
      ]
    },
    {
      "cell_type": "code",
      "source": [
        "#Practise\n",
        "c = torch.tensor([1,2,3,4],dtype=torch.float64)\n",
        "d = 2 * c\n",
        "c_mc = c - torch.mean(c)\n",
        "v_c = torch.mean(c_mc**2)\n",
        "s_c = torch.sqrt(v_c)\n",
        "print(f'Standard Deviation: {s_c}')\n",
        "\n",
        "d_mc = d - torch.mean(d)\n",
        "v_d = torch.mean(d_mc**2)\n",
        "s_d = torch.sqrt(v_d)\n",
        "print(f'Standard Deviation: {s_d}')\n",
        "\n",
        "print(2*s_c)"
      ],
      "metadata": {
        "colab": {
          "base_uri": "https://localhost:8080/"
        },
        "id": "swGRfo5qDmlh",
        "outputId": "0eacf13b-c70f-4eb2-a6aa-8c4dc92ca064"
      },
      "execution_count": null,
      "outputs": [
        {
          "output_type": "stream",
          "name": "stdout",
          "text": [
            "Standard Deviation: 1.118033988749895\n",
            "Standard Deviation: 2.23606797749979\n",
            "tensor(2.2361, dtype=torch.float64)\n"
          ]
        }
      ]
    },
    {
      "cell_type": "markdown",
      "source": [
        "3. Solved in class\n",
        "\n",
        "    Investment-C or Investment-B is the best"
      ],
      "metadata": {
        "id": "8l6oHzdDJ2Tm"
      }
    },
    {
      "cell_type": "code",
      "source": [
        "# 4th adjacency\n",
        "A = torch.tensor([[0,1,1,0],\n",
        "                  [1,0,0,1],\n",
        "                  [0,0,0,1],\n",
        "                  [1,0,0,0]\n",
        "                  ],dtype=torch.float64)\n",
        "e3 = torch.tensor([0,0,1,0],dtype=torch.float64)\n",
        "print(torch.matmul(A,e3))\n",
        "A"
      ],
      "metadata": {
        "colab": {
          "base_uri": "https://localhost:8080/"
        },
        "id": "BcUDaPoNMaYi",
        "outputId": "a13389ee-f05c-41f3-f462-150a891c98b6"
      },
      "execution_count": null,
      "outputs": [
        {
          "output_type": "stream",
          "name": "stdout",
          "text": [
            "tensor([1., 0., 0., 0.], dtype=torch.float64)\n"
          ]
        },
        {
          "output_type": "execute_result",
          "data": {
            "text/plain": [
              "tensor([[0., 1., 1., 0.],\n",
              "        [1., 0., 0., 1.],\n",
              "        [0., 0., 0., 1.],\n",
              "        [1., 0., 0., 0.]], dtype=torch.float64)"
            ]
          },
          "metadata": {},
          "execution_count": 5
        }
      ]
    },
    {
      "cell_type": "code",
      "source": [
        "# 6th question\n",
        "X = torch.tensor([1,1],dtype=torch.float64)\n",
        "A = torch.tensor([[np.cos(180/4), -np.sin(180/4)],\n",
        "                  [np.sin(180/4), np.cos(180/4)]],dtype=torch.float64)\n",
        "B = torch.tensor([[4,0],\n",
        "                 [0,4]],dtype=torch.float64)\n",
        "print(A)\n",
        "print(torch.matmul(A,X))\n",
        "print(torch.matmul(B,X))"
      ],
      "metadata": {
        "colab": {
          "base_uri": "https://localhost:8080/"
        },
        "id": "lzRnGLfs2SOI",
        "outputId": "3a01ae0a-b7f6-426b-e270-562323e4287c"
      },
      "execution_count": null,
      "outputs": [
        {
          "output_type": "stream",
          "name": "stdout",
          "text": [
            "tensor([[ 0.5253, -0.8509],\n",
            "        [ 0.8509,  0.5253]], dtype=torch.float64)\n",
            "tensor([-0.3256,  1.3762], dtype=torch.float64)\n",
            "tensor([4., 4.], dtype=torch.float64)\n"
          ]
        }
      ]
    },
    {
      "cell_type": "code",
      "source": [
        "# 7th question\n",
        "A = torch.tensor([[0,0,0,0,1],\n",
        "                  [1,0,0,0,0],\n",
        "                  [0,1,0,0,0],\n",
        "                  [0,0,1,0,0],\n",
        "                  [0,0,0,1,0]])\n",
        "x = torch.tensor([1,2,3,4,5])\n",
        "\n",
        "print(torch.matmul(A,x))\n",
        "a = torch.matmul(A,A)\n",
        "c = torch.matmul(A,A)\n",
        "d = torch.matmul(a,c)\n",
        "e = torch.matmul(d,A)\n",
        "print(e)\n",
        "\n"
      ],
      "metadata": {
        "colab": {
          "base_uri": "https://localhost:8080/"
        },
        "id": "tMSKCVa-GwLs",
        "outputId": "c586e45e-6af4-466e-e9b8-1e43de1f8f3b"
      },
      "execution_count": null,
      "outputs": [
        {
          "output_type": "stream",
          "name": "stdout",
          "text": [
            "tensor([5, 1, 2, 3, 4])\n",
            "tensor([[1, 0, 0, 0, 0],\n",
            "        [0, 1, 0, 0, 0],\n",
            "        [0, 0, 1, 0, 0],\n",
            "        [0, 0, 0, 1, 0],\n",
            "        [0, 0, 0, 0, 1]])\n"
          ]
        }
      ]
    }
  ]
}