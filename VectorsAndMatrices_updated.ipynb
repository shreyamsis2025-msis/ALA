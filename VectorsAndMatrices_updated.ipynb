{
  "cells": [
    {
      "cell_type": "markdown",
      "metadata": {
        "id": "view-in-github",
        "colab_type": "text"
      },
      "source": [
        "<a href=\"https://colab.research.google.com/github/shreyamsis2025-msis/ALA/blob/main/VectorsAndMatrices_updated.ipynb\" target=\"_parent\"><img src=\"https://colab.research.google.com/assets/colab-badge.svg\" alt=\"Open In Colab\"/></a>"
      ]
    },
    {
      "cell_type": "markdown",
      "metadata": {
        "id": "M7g7bxFCHxGP"
      },
      "source": [
        "$${\\color{yellow}{\\text{Applied Linear Algebra: Vectors and Matrices}}}$$\n",
        "\n"
      ]
    },
    {
      "cell_type": "markdown",
      "metadata": {
        "id": "H6RvcDldxHPO"
      },
      "source": [
        "---\n",
        "\n",
        "Restart the session after executing the following cell\n",
        "\n",
        "---"
      ]
    },
    {
      "cell_type": "code",
      "execution_count": null,
      "metadata": {
        "colab": {
          "base_uri": "https://localhost:8080/"
        },
        "id": "LapV0XR-wxSI",
        "outputId": "d3840a82-5777-4a62-e86a-d8c62fdeb521"
      },
      "outputs": [
        {
          "name": "stdout",
          "output_type": "stream",
          "text": [
            "Requirement already satisfied: gensim in /usr/local/lib/python3.12/dist-packages (4.3.3)\n",
            "Requirement already satisfied: numpy<2.0,>=1.18.5 in /usr/local/lib/python3.12/dist-packages (from gensim) (1.26.4)\n",
            "Requirement already satisfied: scipy<1.14.0,>=1.7.0 in /usr/local/lib/python3.12/dist-packages (from gensim) (1.13.1)\n",
            "Requirement already satisfied: smart-open>=1.8.1 in /usr/local/lib/python3.12/dist-packages (from gensim) (7.3.0.post1)\n",
            "Requirement already satisfied: wrapt in /usr/local/lib/python3.12/dist-packages (from smart-open>=1.8.1->gensim) (1.17.3)\n"
          ]
        }
      ],
      "source": [
        "!pip install gensim"
      ]
    },
    {
      "cell_type": "code",
      "execution_count": null,
      "metadata": {
        "id": "2Gc9U_HRv-OQ"
      },
      "outputs": [],
      "source": [
        "!pip install yfinance --quiet"
      ]
    },
    {
      "cell_type": "markdown",
      "metadata": {
        "id": "jDK9fC6uiBGE"
      },
      "source": [
        "---\n",
        "\n",
        "Load essential libraries\n",
        "\n",
        "---"
      ]
    },
    {
      "cell_type": "code",
      "execution_count": null,
      "metadata": {
        "id": "20W0d4ruQjE4"
      },
      "outputs": [],
      "source": [
        "import numpy as np\n",
        "import pandas as pd\n",
        "import torch\n",
        "import matplotlib.pyplot as plt\n",
        "plt.style.use('dark_background')\n",
        "%matplotlib inline\n",
        "import sys\n",
        "from sklearn.preprocessing import StandardScaler, OneHotEncoder, MinMaxScaler\n",
        "import nltk\n",
        "# import gensim.downloader\n",
        "from nltk.tokenize import word_tokenize\n",
        "import yfinance as yf\n",
        "import seaborn as sns"
      ]
    },
    {
      "cell_type": "code",
      "execution_count": null,
      "metadata": {
        "colab": {
          "base_uri": "https://localhost:8080/"
        },
        "id": "8C7OORX781Su",
        "outputId": "e3ca52c6-a9eb-4fcf-8270-43b7ce57bc7b"
      },
      "outputs": [
        {
          "name": "stdout",
          "output_type": "stream",
          "text": [
            "Mounted at /content/drive\n"
          ]
        }
      ],
      "source": [
        "from google.colab import drive\n",
        "drive.mount('/content/drive')"
      ]
    },
    {
      "cell_type": "markdown",
      "metadata": {
        "id": "sfYXkqmLiVLM"
      },
      "source": [
        "---\n",
        "\n",
        "Mount Google Drive folder if running Google Colab\n",
        "\n",
        "---"
      ]
    },
    {
      "cell_type": "code",
      "execution_count": null,
      "metadata": {
        "colab": {
          "base_uri": "https://localhost:8080/"
        },
        "id": "VYzBBBxqiaGa",
        "outputId": "6ee37044-15a4-4919-e6f6-c26a260ece0a"
      },
      "outputs": [
        {
          "name": "stdout",
          "output_type": "stream",
          "text": [
            "Mounted at /content/drive\n"
          ]
        }
      ],
      "source": [
        "## Mount Google drive folder if running in Colab\n",
        "if('google.colab' in sys.modules):\n",
        "    from google.colab import drive\n",
        "    drive.mount('/content/drive', force_remount = True)\n",
        "    DIR = '/content/drive/MyDrive/ALA'\n",
        "    DATA_DIR = DIR+'/Data/'\n",
        "else:\n",
        "    DATA_DIR = 'Data/'"
      ]
    },
    {
      "cell_type": "markdown",
      "metadata": {
        "id": "avVZ6D1ZgEUT"
      },
      "source": [
        "---\n",
        "\n",
        "**We will now use Pytorch to create tensors**\n",
        "\n",
        "The patient data matrix:\n",
        "\n",
        "![patient data matrix](https://1drv.ms/i/s!AjTcbXuSD3I3hsxIkL4V93-CGq8RkQ?embed=1&width=1000)\n",
        "\n",
        "**Notation**:\n",
        "\n",
        "Zeroth patient vector $\\mathbf{x}^{(0)}= \\begin{bmatrix}72\\\\120\\\\37.3\\\\104\\\\32.5\\end{bmatrix}$ and zeroth feature (heart rate vector) $\\mathbf{x}_0 = \\begin{bmatrix}72\\\\85\\\\68\\\\90\\\\84\\\\78\\end{bmatrix}.$\n",
        "\n",
        "---\n",
        "\n"
      ]
    },
    {
      "cell_type": "code",
      "execution_count": null,
      "metadata": {
        "colab": {
          "base_uri": "https://localhost:8080/"
        },
        "id": "zrPnepAEvr0O",
        "outputId": "e5dd230e-1645-41a3-ffdf-855a91994e5f"
      },
      "outputs": [
        {
          "name": "stdout",
          "output_type": "stream",
          "text": [
            "tensor([[ 72.0000, 120.0000,  37.3000, 104.0000,  32.5000],\n",
            "        [ 85.0000, 130.0000,  37.0000, 110.0000,  14.0000],\n",
            "        [ 68.0000, 110.0000,  38.5000, 125.0000,  34.0000],\n",
            "        [ 90.0000, 140.0000,  38.0000, 130.0000,  26.0000],\n",
            "        [ 84.0000, 132.0000,  38.3000, 146.0000,  30.0000],\n",
            "        [ 78.0000, 128.0000,  37.2000, 102.0000,  12.0000]])\n",
            "torch.Size([6, 5])\n",
            "<class 'torch.Tensor'>\n",
            "tensor([ 72.0000, 120.0000,  37.3000, 104.0000,  32.5000])\n",
            "tensor([ 72.0000, 120.0000,  37.3000, 104.0000,  32.5000])\n",
            "------------\n",
            "tensor(37.3000)\n",
            "tensor([37.3000, 37.0000, 38.5000, 38.0000, 38.3000, 37.2000])\n"
          ]
        }
      ],
      "source": [
        "## Create a patient data matrix as a constant tensor\n",
        "X = torch.tensor([[72, 120, 37.3, 104, 32.5],\n",
        "                  [85, 130, 37.0, 110, 14],\n",
        "                  [68, 110, 38.5, 125, 34],\n",
        "                  [90, 140, 38.0, 130, 26],\n",
        "                  [84, 132, 38.3, 146, 30],\n",
        "                  [78, 128, 37.2, 102, 12]])\n",
        "print(X)\n",
        "print(X.shape)\n",
        "print(type(X))\n",
        "print(X[0]) # this is patient-0 information which is a rank-1 tensor\n",
        "print(X[0, :]) # patient-0 all features\n",
        "print('------------')\n",
        "print(X[0, 2]) # feature-2 of patient-0, temperature of patient-0\n",
        "print(X[:, 2]) # feature-2 of all patients, temperature of all patients"
      ]
    },
    {
      "cell_type": "markdown",
      "metadata": {
        "id": "cevtn_b4gek5"
      },
      "source": [
        "---\n",
        "\n",
        "**Convert a PyTorch object into a numpy array**\n",
        "\n",
        "---"
      ]
    },
    {
      "cell_type": "code",
      "execution_count": null,
      "metadata": {
        "colab": {
          "base_uri": "https://localhost:8080/"
        },
        "id": "JrYQ2moygfPu",
        "outputId": "c4f6727c-09b9-4ff4-b295-d2cc8bf4e3e6"
      },
      "outputs": [
        {
          "name": "stdout",
          "output_type": "stream",
          "text": [
            "[[ 72.  120.   37.3 104.   32.5]\n",
            " [ 85.  130.   37.  110.   14. ]\n",
            " [ 68.  110.   38.5 125.   34. ]\n",
            " [ 90.  140.   38.  130.   26. ]\n",
            " [ 84.  132.   38.3 146.   30. ]\n",
            " [ 78.  128.   37.2 102.   12. ]]\n",
            "<class 'numpy.ndarray'>\n"
          ]
        }
      ],
      "source": [
        "print(X.numpy())\n",
        "print(type(X.numpy()))"
      ]
    },
    {
      "cell_type": "markdown",
      "metadata": {
        "id": "QS3MmzwsgkWU"
      },
      "source": [
        "---\n",
        "\n",
        "**Addition and subtraction of vectors, scalar multiplication (apply operation componentwise)**\n",
        "\n",
        "![vector addition](https://1drv.ms/i/c/37720f927b6ddc34/IQQ03G17kg9yIIA3NokBAAAAAZLAaAoWwhtn8Vk26NotALo?width=256)\n",
        "\n",
        "![vector subtracton](https://1drv.ms/i/c/37720f927b6ddc34/IQQ03G17kg9yIIA3M4kBAAAAAU_n_mAEv006QFZm_sUj2Dc?width=256)\n",
        "\n",
        "![vector multiplication](https://1drv.ms/i/c/37720f927b6ddc34/IQQ03G17kg9yIIA3NIkBAAAAAa_qL04bLT4kWoNeHcrR9LQ?width=256)\n",
        "\n",
        "![vector geometry1](https://1drv.ms/i/c/37720f927b6ddc34/IQSGNMr5z3SSRry7LSKL7LybAcGYuzgw5smabV8-6DudXIs?width=230)\n",
        "\n",
        "![vector geometry2](https://1drv.ms/i/c/37720f927b6ddc34/IQQ03G17kg9yIIA3WokBAAAAAQi8FPV9YCebl5WnyEKJ3vg?width=213&height=192)\n",
        "\n",
        "\n",
        "---"
      ]
    },
    {
      "cell_type": "code",
      "execution_count": null,
      "metadata": {
        "colab": {
          "base_uri": "https://localhost:8080/"
        },
        "id": "TgPtJP0sglQP",
        "outputId": "057bf264-b36a-4221-e59b-cc292311141c"
      },
      "outputs": [
        {
          "name": "stdout",
          "output_type": "stream",
          "text": [
            "tensor([153.0000, 240.0000,  75.5000, 235.0000,  48.0000])\n",
            "tensor([ 17.0000,  20.0000,  -1.5000, -15.0000, -20.0000])\n",
            "tensor([37.3000, 37.0000, 38.5000, 38.0000, 38.3000, 37.2000])\n",
            "tensor([ 99.1400,  98.6000, 101.3000, 100.4000, 100.9400,  98.9600])\n",
            "tensor([[ 72.0000, 120.0000,  37.3000, 104.0000,  32.5000],\n",
            "        [ 85.0000, 130.0000,  37.0000, 110.0000,  14.0000],\n",
            "        [ 68.0000, 110.0000,  38.5000, 125.0000,  34.0000],\n",
            "        [ 90.0000, 140.0000,  38.0000, 130.0000,  26.0000],\n",
            "        [ 84.0000, 132.0000,  38.3000, 146.0000,  30.0000],\n",
            "        [ 78.0000, 128.0000,  37.2000, 102.0000,  12.0000]])\n",
            "tensor([ 79.5000, 126.6667,  37.7167, 119.5000,  24.7500])\n",
            "tensor([[ -7.5000,  -6.6667,  -0.4167, -15.5000,   7.7500],\n",
            "        [  5.5000,   3.3333,  -0.7167,  -9.5000, -10.7500],\n",
            "        [-11.5000, -16.6667,   0.7833,   5.5000,   9.2500],\n",
            "        [ 10.5000,  13.3333,   0.2833,  10.5000,   1.2500],\n",
            "        [  4.5000,   5.3333,   0.5833,  26.5000,   5.2500],\n",
            "        [ -1.5000,   1.3333,  -0.5167, -17.5000, -12.7500]])\n"
          ]
        }
      ],
      "source": [
        "# Vector addition\n",
        "print(X[1, :] + X[2, :])\n",
        "\n",
        "# Vector subtraction\n",
        "print(X[1, :] - X[2, :])\n",
        "\n",
        "# Scalar-vector multiplication\n",
        "print(X[:, 2])\n",
        "print((9/5)*X[:, 2]+32) # 0peration not defined in pen & paper but in computation is referred to as\n",
        "# broadcasting\n",
        "\n",
        "# Average patient\n",
        "x_avg = (1/6)*(X[0, :] + X[1, :] + X[2, :] + X[3, :] + X[4, :] + X[5, :])\n",
        "x_avg = torch.mean(X, dim = 0) # dim = 0 means top-to-bottom or along dim-0\n",
        "\n",
        "# Another broadcasting example\n",
        "print(X)\n",
        "print(x_avg)\n",
        "print(X - x_avg)"
      ]
    },
    {
      "cell_type": "markdown",
      "metadata": {
        "id": "1t_qXrlCROKA"
      },
      "source": [
        "---\n",
        "\n",
        "Application of vector subtraction in natural language processing (NLP): download the word embedding model trained on Wikipedia articles.\n",
        "\n",
        "---"
      ]
    },
    {
      "cell_type": "code",
      "execution_count": null,
      "metadata": {
        "colab": {
          "base_uri": "https://localhost:8080/"
        },
        "id": "_e13FnW0RUwy",
        "outputId": "0f6e760c-331a-4eb0-a5a4-624bff4474d1"
      },
      "outputs": [
        {
          "name": "stdout",
          "output_type": "stream",
          "text": [
            "[==================================================] 100.0% 66.0/66.0MB downloaded\n"
          ]
        }
      ],
      "source": [
        "model = gensim.downloader.load('glove-wiki-gigaword-50')"
      ]
    },
    {
      "cell_type": "markdown",
      "metadata": {
        "id": "7YRVJferRlK5"
      },
      "source": [
        "---\n",
        "\n",
        "Now we will see what embedding vector comes as a result of applying the model for the words *cricket* and *football*.\n",
        "\n",
        "Next, we will do an *intuitive* subtraction of word embeddings as in\n",
        "\n",
        "1. Cricket without Tendulkar\n",
        "2. Football without Messi\n",
        "\n",
        "Note that the embedding vectors have 50 components corresponding to the 50-dimensional embedding of model suggested by the name '**glove-wiki-gigaword-50**'\n",
        "\n",
        "---"
      ]
    },
    {
      "cell_type": "code",
      "execution_count": null,
      "metadata": {
        "colab": {
          "base_uri": "https://localhost:8080/"
        },
        "id": "HVVFzeQyR3Wb",
        "outputId": "e3a00f3e-f3e8-4a87-b779-6bafef11da57"
      },
      "outputs": [
        {
          "name": "stdout",
          "output_type": "stream",
          "text": [
            "[-0.7716      0.41267997 -1.725968   -0.10445005 -1.1475699  -0.854661\n",
            " -1.089      -0.08342999  0.62349    -1.67822    -0.2488078  -0.49199998\n",
            "  0.18756002 -1.67098     0.6117872   0.42784432  1.05656     0.91583097\n",
            " -0.03299999 -0.04422501  0.200326   -0.33737004  0.31068     1.37842\n",
            " -1.13689    -0.57445    -0.70685995  0.41552    -0.28937     0.54485\n",
            "  1.0492998   0.62732    -0.8105     -1.27723    -0.02612001  0.53963\n",
            " -0.14065999 -0.738244   -0.30487    -1.18129     0.05651999 -0.993618\n",
            " -0.911399   -0.09289992  0.535432    0.26259995 -0.63031     0.64473\n",
            "  0.77843     0.15099996]\n",
            "[-2.06898     0.66804904 -1.077512    0.79964995 -0.27109998 -0.26289004\n",
            " -0.881       0.377503   -0.10869002 -2.47329    -0.23453003 -0.58438\n",
            "  0.10404003 -0.52671003 -0.03030002  0.237764    0.19168997  1.60344\n",
            " -0.42980003  0.59058     0.59800005 -0.67075     0.45888     1.4538\n",
            " -1.15642    -1.63534    -1.1248189  -0.20879    -0.00812     0.25545004\n",
            "  1.92044     0.30049008  0.19949001 -0.675167   -0.15230002  0.13278002\n",
            " -0.29492003 -0.55414    -0.30988902 -0.34549004 -0.72603    -1.20504\n",
            " -0.45038998  0.51834     0.12448996  0.787596   -1.13398     0.91365004\n",
            " -0.280479    0.76741004]\n",
            "[ 1.29738    -0.25536907 -0.648456   -0.9041     -0.8764699  -0.59177095\n",
            " -0.208      -0.460933    0.73218     0.79506993 -0.01427777  0.09237999\n",
            "  0.08352    -1.14427     0.6420872   0.19008031  0.8648701  -0.6876091\n",
            "  0.39680004 -0.63480496 -0.39767405  0.33337998 -0.1482     -0.07537997\n",
            "  0.01952994  1.06089     0.41795897  0.62431    -0.28125     0.28939995\n",
            " -0.8711401   0.3268299  -1.00999    -0.602063    0.12618001  0.40684998\n",
            "  0.15426004 -0.18410403  0.00501901 -0.8358      0.78255     0.21142197\n",
            " -0.46100903 -0.6112399   0.41094202 -0.52499604  0.50367004 -0.26892006\n",
            "  1.0589089  -0.6164101 ]\n"
          ]
        }
      ],
      "source": [
        "# Cricket without Tendulkar\n",
        "a = model['cricket'] - model['tendulkar']\n",
        "\n",
        "# Football without Messi\n",
        "b = model['football'] - model['messi']\n",
        "print(a)\n",
        "print(b)\n",
        "\n",
        "# How different is cricket-without-tendulkar from\n",
        "# football-without-messi?\n",
        "print(a-b)"
      ]
    },
    {
      "cell_type": "markdown",
      "metadata": {
        "id": "O6nbdX9IAYu6"
      },
      "source": [
        "---\n",
        "\n",
        "Understanding pen & paper versions of tensors w.r.t. their representations in the code\n",
        "\n",
        "---"
      ]
    },
    {
      "cell_type": "code",
      "execution_count": null,
      "metadata": {
        "colab": {
          "base_uri": "https://localhost:8080/"
        },
        "id": "WhYNdr8DAj2V",
        "outputId": "6bf079c3-eafa-444c-bd60-f32108bbce33"
      },
      "outputs": [
        {
          "name": "stdout",
          "output_type": "stream",
          "text": [
            "tensor([1., 2., 3.], dtype=torch.float64)\n",
            "torch.Size([3])\n",
            "-------\n",
            "tensor([[1., 2., 3.]], dtype=torch.float64)\n",
            "torch.Size([1, 3])\n",
            "tensor([[1.],\n",
            "        [2.],\n",
            "        [3.]], dtype=torch.float64)\n",
            "torch.Size([3, 1])\n"
          ]
        }
      ],
      "source": [
        "# Pen & paper: 3-vector, Code: rank-1 tensor\n",
        "a_vector = torch.tensor([1.0, 2.0, 3.0], dtype = torch.float64)\n",
        "print(a_vector)\n",
        "print(a_vector.shape)\n",
        "print('-------')\n",
        "# Pen & paper: 1x3-matrix, Code: rank-2 tensor\n",
        "a_matrix_version1 = torch.tensor([[1.0, 2.0, 3.0]], dtype = torch.float64)\n",
        "print(a_matrix_version1)\n",
        "print(a_matrix_version1.shape)\n",
        "# Pen & paper: 3x1-matrix, Code: rank-2 tensor\n",
        "a_matrix_version2 = torch.tensor([[1.0], [2.0], [3.0]], dtype = torch.float64)\n",
        "print(a_matrix_version2)\n",
        "print(a_matrix_version2.shape)"
      ]
    },
    {
      "cell_type": "markdown",
      "metadata": {
        "id": "8VPICS8ggvvg"
      },
      "source": [
        "---\n",
        "\n",
        "A tensor of rank 3 corresponding to 4 time stamps (hourly), 3 samples (patients), 2 features (HR and BP). Assume that admission time is 9AM.\n",
        "\n",
        "---"
      ]
    },
    {
      "cell_type": "code",
      "execution_count": null,
      "metadata": {
        "colab": {
          "base_uri": "https://localhost:8080/"
        },
        "id": "yQAvgkRkWAM8",
        "outputId": "68821816-376a-4f25-9c1c-fe286e59957c"
      },
      "outputs": [
        {
          "name": "stdout",
          "output_type": "stream",
          "text": [
            "tensor([[[ 74., 128.],\n",
            "         [ 79., 116.],\n",
            "         [ 71., 116.]],\n",
            "\n",
            "        [[ 78., 118.],\n",
            "         [ 82., 124.],\n",
            "         [ 72., 128.]],\n",
            "\n",
            "        [[ 84., 138.],\n",
            "         [ 84., 130.],\n",
            "         [ 74., 120.]],\n",
            "\n",
            "        [[ 82., 126.],\n",
            "         [ 76., 156.],\n",
            "         [ 82., 132.]]])\n"
          ]
        }
      ],
      "source": [
        "# A rank-3 patient tensor with shape (4, 3, 2)\n",
        "# with meaning for\n",
        "# dim-0 as 4 hourly timestamps,\n",
        "# dim-1 as 3 patients, and\n",
        "# dim-2 as 2 features (HR and BP)\n",
        "# T = torch.tensor([[[HR, BP], [HR, BP], [HR, BP]],\n",
        "#                   [[HR, BP], [HR, BP], [HR, BP]],\n",
        "#                   [[HR, BP], [HR, BP], [HR, BP]],\n",
        "#                   [[HR, BP], [HR, BP], [HR, BP]]])\n",
        "T = torch.tensor([[[74., 128], [79, 116], [71, 116]],\n",
        "                 [[78, 118], [82, 124], [72, 128]],\n",
        "                 [[84, 138], [84, 130], [74, 120]],\n",
        "                 [[82, 126], [76, 156], [82, 132]]])\n",
        "print(T)"
      ]
    },
    {
      "cell_type": "markdown",
      "metadata": {
        "id": "JV0fpSojg2EZ"
      },
      "source": [
        "---\n",
        "\n",
        "**Accessing elements of a tensor**\n",
        "\n",
        "---"
      ]
    },
    {
      "cell_type": "code",
      "execution_count": null,
      "metadata": {
        "colab": {
          "base_uri": "https://localhost:8080/"
        },
        "id": "1GbZuDYqg22n",
        "outputId": "d68b277b-2465-4477-b8c9-7069bfb1cb43"
      },
      "outputs": [
        {
          "data": {
            "text/plain": [
              "tensor([ 82., 132.])"
            ]
          },
          "execution_count": 18,
          "metadata": {},
          "output_type": "execute_result"
        }
      ],
      "source": [
        "## Accessing elements of a tensor\n",
        "# Rank-3 tensor T has axes order (timestamps, patients, features)\n",
        "\n",
        "# Element of T at postion 3 w.r.t. dim-0, position 2 w.r.t. dim-1,\n",
        "# position-1 w.r.t dim-2\n",
        "print(T[3, 2, 1]) # BP of patient-2 at noon\n",
        "print(T[2,1,0])\n",
        "\n",
        "# Element-0 of object T which is also the info for all patients at\n",
        "# admission time 9AM\n",
        "print(T[0]) # patients' info at admission time\n",
        "print(T[-1]) # first element of T from the tail, patients' info at noon\n",
        "\n",
        "\n",
        "# Patient-2 info at noon\n",
        "T[-1, 2]\n"
      ]
    },
    {
      "cell_type": "markdown",
      "metadata": {
        "id": "ekY1yrw62N7T"
      },
      "source": [
        "---\n",
        "\n",
        "Understanding shapes\n",
        "\n",
        "---"
      ]
    },
    {
      "cell_type": "code",
      "execution_count": null,
      "metadata": {
        "colab": {
          "base_uri": "https://localhost:8080/"
        },
        "id": "SrvQxSe22SUE",
        "outputId": "4d38a53f-f2e9-4f3d-beb4-2f786deb54e1"
      },
      "outputs": [
        {
          "name": "stdout",
          "output_type": "stream",
          "text": [
            "tensor([[[[1., 2., 3.]]]])\n",
            "torch.Size([1, 1, 1, 3])\n"
          ]
        }
      ],
      "source": [
        "#a = torch.tensor([1.0, 2.0, 3.0])\n",
        "#a = torch.tensor([[1.0, 2.0, 3.0]])\n",
        "a = torch.tensor([[[[1.0, 2.0, 3.0]]]])\n",
        "print(a)\n",
        "print(a.shape)"
      ]
    },
    {
      "cell_type": "markdown",
      "metadata": {
        "id": "SW2_NDTCjIL5"
      },
      "source": [
        "---\n",
        "\n",
        "**Broadcasting**\n",
        "\n",
        "---"
      ]
    },
    {
      "cell_type": "code",
      "execution_count": null,
      "metadata": {
        "colab": {
          "base_uri": "https://localhost:8080/"
        },
        "id": "1PjnkDnr_qSn",
        "outputId": "294c8e45-cd84-4502-9208-47c68ac143b5"
      },
      "outputs": [
        {
          "name": "stdout",
          "output_type": "stream",
          "text": [
            "torch.Size([3])\n",
            "torch.Size([1])\n",
            "tensor([-3., -2., -1.])\n"
          ]
        }
      ],
      "source": [
        "# A simple broadcasting example\n",
        "a = torch.tensor([1.0, 2.0, 3.0])\n",
        "b = torch.tensor([4.0])\n",
        "print(a.shape)\n",
        "print(b.shape)\n",
        "print(a-b)"
      ]
    },
    {
      "cell_type": "code",
      "execution_count": null,
      "metadata": {
        "colab": {
          "base_uri": "https://localhost:8080/"
        },
        "id": "zhtxw34i_RNt",
        "outputId": "78839553-348e-42b1-d6f0-723ed376303a"
      },
      "outputs": [
        {
          "name": "stdout",
          "output_type": "stream",
          "text": [
            "tensor([[ 74., 128.],\n",
            "        [ 78., 118.],\n",
            "        [ 84., 138.],\n",
            "        [ 82., 126.]])\n",
            "torch.Size([4, 2])\n",
            "---------\n",
            "tensor([[[ 74., 128.]],\n",
            "\n",
            "        [[ 78., 118.]],\n",
            "\n",
            "        [[ 84., 138.]],\n",
            "\n",
            "        [[ 82., 126.]]])\n",
            "torch.Size([4, 1, 2])\n",
            "---------\n",
            "tensor([[[ 74., 128.],\n",
            "         [ 79., 116.],\n",
            "         [ 71., 116.]],\n",
            "\n",
            "        [[ 78., 118.],\n",
            "         [ 82., 124.],\n",
            "         [ 72., 128.]],\n",
            "\n",
            "        [[ 84., 138.],\n",
            "         [ 84., 130.],\n",
            "         [ 74., 120.]],\n",
            "\n",
            "        [[ 82., 126.],\n",
            "         [ 76., 156.],\n",
            "         [ 82., 132.]]])\n",
            "torch.Size([4, 3, 2])\n"
          ]
        }
      ],
      "source": [
        "# How to add a new axis to a tensor using the unsqueeze() function\n",
        "#print(T)\n",
        "#print(T.shape)\n",
        "T_patient0 = T[:, 0, :]\n",
        "print(T_patient0)\n",
        "print(T_patient0.shape)\n",
        "print('---------')\n",
        "T_patient0_new = torch.unsqueeze(T_patient0, 1)\n",
        "print(T_patient0_new)\n",
        "print(T_patient0_new.shape)\n",
        "print('---------')\n",
        "print(T)\n",
        "print(T.shape)"
      ]
    },
    {
      "cell_type": "code",
      "execution_count": null,
      "metadata": {
        "colab": {
          "base_uri": "https://localhost:8080/"
        },
        "id": "DEPPWVsWjI4X",
        "outputId": "66a5b172-a814-4e26-ec3a-a0e010c6deb3"
      },
      "outputs": [
        {
          "data": {
            "text/plain": [
              "tensor([[[  0.,   0.],\n",
              "         [  5., -12.],\n",
              "         [ -3., -12.]],\n",
              "\n",
              "        [[  0.,   0.],\n",
              "         [  4.,   6.],\n",
              "         [ -6.,  10.]],\n",
              "\n",
              "        [[  0.,   0.],\n",
              "         [  0.,  -8.],\n",
              "         [-10., -18.]],\n",
              "\n",
              "        [[  0.,   0.],\n",
              "         [ -6.,  30.],\n",
              "         [  0.,   6.]]])"
            ]
          },
          "execution_count": 24,
          "metadata": {},
          "output_type": "execute_result"
        }
      ],
      "source": [
        "# How different are the patients from patient-0?\n",
        "#T - T_patient0 # does not work for broadcasting\n",
        "# T - T_patient0\n",
        "\n",
        "# How different are the patients compared to their time at admission\n",
        "T-T_patient0_new"
      ]
    },
    {
      "cell_type": "markdown",
      "metadata": {
        "id": "0o6kEXfCpDzo"
      },
      "source": [
        "---\n",
        "\n",
        "**Exercise**: interpret $\\texttt{T[:, -1, :]}$\n",
        "\n",
        "---"
      ]
    },
    {
      "cell_type": "code",
      "execution_count": null,
      "metadata": {
        "colab": {
          "base_uri": "https://localhost:8080/"
        },
        "id": "X6lEPZEWo6wo",
        "outputId": "f794796b-77f0-41b9-eebc-5072060ec059"
      },
      "outputs": [
        {
          "data": {
            "text/plain": [
              "tensor([[ 71., 116.],\n",
              "        [ 72., 128.],\n",
              "        [ 74., 120.],\n",
              "        [ 82., 132.]])"
            ]
          },
          "execution_count": 25,
          "metadata": {},
          "output_type": "execute_result"
        }
      ],
      "source": [
        "# Last patient's info at all timestamps\n",
        "T[:, -1, :]"
      ]
    },
    {
      "cell_type": "markdown",
      "metadata": {
        "id": "9Zq396h0_5yB"
      },
      "source": [
        "---\n",
        "\n",
        "Broadcasting exercise\n",
        "\n",
        "---"
      ]
    },
    {
      "cell_type": "code",
      "execution_count": null,
      "metadata": {
        "colab": {
          "base_uri": "https://localhost:8080/"
        },
        "id": "-PqnqW9Z_-Sb",
        "outputId": "b35efa8d-f1af-4da7-bdd0-915a7e72c86f"
      },
      "outputs": [
        {
          "name": "stdout",
          "output_type": "stream",
          "text": [
            "tensor([[[-1,  0,  4],\n",
            "         [ 3,  0, -1],\n",
            "         [ 1,  4, -4],\n",
            "         [-4,  4, -4],\n",
            "         [-1,  0, -3]],\n",
            "\n",
            "        [[ 5,  1,  1],\n",
            "         [ 2, -4,  4],\n",
            "         [-2, -2,  2],\n",
            "         [ 2,  0,  0],\n",
            "         [-3,  5,  0]],\n",
            "\n",
            "        [[-3,  0,  5],\n",
            "         [-5, -3,  1],\n",
            "         [ 4,  0,  4],\n",
            "         [ 1,  3, -2],\n",
            "         [ 3,  3, -5]],\n",
            "\n",
            "        [[ 2,  0,  5],\n",
            "         [ 0,  3, -2],\n",
            "         [-2, -3,  1],\n",
            "         [ 2, -3, -4],\n",
            "         [ 2,  1, -3]]])\n"
          ]
        }
      ],
      "source": [
        "T = torch.randint(-5, 6, (4, 5, 3))\n",
        "print(T)\n",
        "# v = torch.tensor([1.0, 2.0, 3.0])\n",
        "# print(v)"
      ]
    },
    {
      "cell_type": "markdown",
      "metadata": {
        "id": "gc9EJuZQhD9i"
      },
      "source": [
        "---\n",
        "\n",
        "$l_2$ norm or the geometric length of a vector denoted as $\\lVert \\mathbf{a}\\rVert$ tells us how long a vector is. In 2-dimensions, $$\\mathbf{a}=\\begin{bmatrix}a_1\\\\a_2\\end{bmatrix}\\Rightarrow \\lVert\\mathbf{a}\\rVert_2 = \\sqrt{a_1^2+a_2^2}$$ and in $n$-dimensions, $$\\mathbf{a}=\\begin{bmatrix}a_1\\\\a_2\\\\\\vdots\\\\a_n\\end{bmatrix}\\Rightarrow\\lVert \\mathbf{a}\\rVert_2 = \\sqrt{a_1^2+a_2^2+\\cdots+a_n^2}.$$\n",
        "\n",
        "![vector norm](https://1drv.ms/i/c/37720f927b6ddc34/IQT817WmpQjlRqZ1R0d5Cfv6AUW6c4robL-gk06i9wmCaFU?width=500)\n",
        "\n",
        "---"
      ]
    },
    {
      "cell_type": "code",
      "execution_count": null,
      "metadata": {
        "colab": {
          "base_uri": "https://localhost:8080/"
        },
        "id": "OM65UP4_hEso",
        "outputId": "81c32520-403d-458c-aabf-2cf04441dfb2"
      },
      "outputs": [
        {
          "name": "stdout",
          "output_type": "stream",
          "text": [
            "tensor([ 76., 124.], dtype=torch.float64)\n"
          ]
        },
        {
          "data": {
            "text/plain": [
              "tensor(145.4373, dtype=torch.float64)"
            ]
          },
          "execution_count": 47,
          "metadata": {},
          "output_type": "execute_result"
        }
      ],
      "source": [
        "## l2 norm of a vector\n",
        "x = torch.tensor([76.0, 124.0], dtype = torch.float64)\n",
        "print(x)\n",
        "torch.norm(x)"
      ]
    },
    {
      "cell_type": "markdown",
      "metadata": {
        "id": "SRbanrUmwLX7"
      },
      "source": [
        "\n",
        "---\n",
        "\n",
        "**Dot Product of Vectors**\n",
        "\n",
        "A scalar resulting from an elementwise multiplication and addition: $$\\mathbf{a}{\\color{cyan}\\cdot}\\mathbf{b} = {\\color{red}{a_1b_1}}+{\\color{green}{a_2b_2}}+\\cdots+{\\color{magenta}{a_nb_n}}$$\n",
        "\n",
        "The <font color=\"cyan\">dot</font> ${\\color{cyan}\\cdot}$ represents the computation of the dot product.\n",
        "\n",
        "\n",
        "---"
      ]
    },
    {
      "cell_type": "code",
      "execution_count": null,
      "metadata": {
        "colab": {
          "base_uri": "https://localhost:8080/"
        },
        "id": "s91XY1JZwU2w",
        "outputId": "84fe2c45-5b61-4ec8-f9e3-c231cefd2549"
      },
      "outputs": [
        {
          "data": {
            "text/plain": [
              "tensor(32., dtype=torch.float64)"
            ]
          },
          "execution_count": 50,
          "metadata": {},
          "output_type": "execute_result"
        }
      ],
      "source": [
        "## Dot product of vectors\n",
        "a = torch.tensor([1.0, 2.0, 3.0], dtype = torch.float64)\n",
        "b = torch.tensor([4.0, 5.0, 6.0], dtype = torch.float64)\n",
        "torch.dot(a, b)"
      ]
    },
    {
      "cell_type": "markdown",
      "metadata": {
        "id": "2-b90m-QXyFp"
      },
      "source": [
        "---\n",
        "\n",
        "The dot product is a measure of similarity between vectors (or, how aligned they are geometrically).\n",
        "\n",
        "![dot product](https://1drv.ms/i/c/37720f927b6ddc34/IQTbcGSjdbhSTJ7J39d5BCWAAWS6-y5U6J87vHuDWeAqGwM?width=6000)\n",
        "---"
      ]
    },
    {
      "cell_type": "code",
      "execution_count": null,
      "metadata": {
        "colab": {
          "base_uri": "https://localhost:8080/"
        },
        "id": "3GxZ95uXXz3P",
        "outputId": "005e11ed-7fc2-4b31-8ecf-b7f16dbf8b80"
      },
      "outputs": [
        {
          "name": "stdout",
          "output_type": "stream",
          "text": [
            "tensor(10.)\n",
            "tensor(0.)\n",
            "tensor(-5.)\n"
          ]
        }
      ],
      "source": [
        "a = torch.tensor([1.0, 2.0])\n",
        "b = torch.tensor([2.0, 4.0])\n",
        "c = torch.tensor([-2.0, 1.0])\n",
        "d = torch.tensor([-1.0, -2.0])\n",
        "print(torch.dot(a, b))\n",
        "print(torch.dot(a, c))\n",
        "print(torch.dot(a, d))"
      ]
    },
    {
      "cell_type": "markdown",
      "metadata": {
        "id": "U6CS4_8byCs8"
      },
      "source": [
        "---\n",
        "\n",
        "Cauchy-Schwarz inequality $-1\\leq\\frac{\\mathbf{x}\\cdot{\\mathbf{y}}}{\\lVert\\mathbf{x}\\rVert_2\\lVert\\mathbf{y}\\rVert_2}\\leq1.$\n",
        "\n",
        "This is a normalized measure of similarity (or extent of alignment) between vectors.\n",
        "\n",
        "Angle between vectors $\\mathbf{x}$ and $\\mathbf{y} = \\cos^{-1}\\left(\\frac{\\mathbf{x}\\cdot{\\mathbf{y}}}{\\lVert\\mathbf{x}\\rVert_2\\lVert\\mathbf{y}\\rVert_2}\\right).$\n",
        "\n",
        "![angle](https://1drv.ms/i/c/37720f927b6ddc34/IQQ03G17kg9yIIA3WokBAAAAAQi8FPV9YCebl5WnyEKJ3vg?width=213&height=400)\n",
        "\n",
        "\n",
        "---"
      ]
    },
    {
      "cell_type": "code",
      "execution_count": null,
      "metadata": {
        "colab": {
          "base_uri": "https://localhost:8080/"
        },
        "id": "q4UhBnPUx7TV",
        "outputId": "fbd32d16-12c7-4966-c53f-841b65622294"
      },
      "outputs": [
        {
          "name": "stdout",
          "output_type": "stream",
          "text": [
            "tensor(1.4142)\n",
            "tensor(0.6435)\n",
            "tensor(36.8699)\n"
          ]
        }
      ],
      "source": [
        "x = torch.tensor([1.0, 2.0])\n",
        "y = torch.tensor([2.0, 1.0])\n",
        "\n",
        "# Linear difference between x and y\n",
        "print(torch.norm(x - y))\n",
        "\n",
        "# Angle difference between x and y in radians\n",
        "print(torch.acos(torch.dot(x,y) / (torch.norm(x) * torch.norm(y))))\n",
        "\n",
        "# Angle difference between x and y in degrees\n",
        "print((180.0/torch.pi)*(torch.acos(torch.dot(x,y) / (torch.norm(x) * torch.norm(y)))))"
      ]
    },
    {
      "cell_type": "markdown",
      "metadata": {
        "id": "1bnmEkg3Tctx"
      },
      "source": [
        "---\n",
        "\n",
        "Application of the Cauchy-Schwarz inequality: is \"Cricket without Tendulkar\" same as \"Football without Messi\"?\n",
        "\n",
        "---"
      ]
    },
    {
      "cell_type": "code",
      "execution_count": null,
      "metadata": {
        "colab": {
          "base_uri": "https://localhost:8080/"
        },
        "id": "KrmCknO5TkNZ",
        "outputId": "4f81daf0-a158-4f38-ce56-3643e0e7fc64"
      },
      "outputs": [
        {
          "name": "stdout",
          "output_type": "stream",
          "text": [
            "tensor(4.2349, dtype=torch.float64)\n",
            "tensor(0.7420, dtype=torch.float64)\n",
            "tensor(42.5126, dtype=torch.float64)\n"
          ]
        }
      ],
      "source": [
        "a = torch.tensor(model['cricket'] - model['tendulkar'], dtype = torch.float64)\n",
        "b = torch.tensor(model['football'] - model['messi'], dtype = torch.float64)\n",
        "\n",
        "# Linear difference between and a and b\n",
        "print(torch.norm(a-b))\n",
        "\n",
        "# Angle difference between a and b in radians\n",
        "print(torch.acos(torch.dot(a, b) / (torch.norm(a) * torch.norm(b))))\n",
        "\n",
        "# Angle difference between a and b in degrees\n",
        "print((180.0/torch.pi)*(torch.acos(torch.dot(a, b) / (torch.norm(a) * torch.norm(b)))))"
      ]
    },
    {
      "cell_type": "code",
      "execution_count": null,
      "metadata": {
        "colab": {
          "base_uri": "https://localhost:8080/"
        },
        "id": "oDD91UnCHmbO",
        "outputId": "099c79f9-7915-440c-e187-2b8ada28de55"
      },
      "outputs": [
        {
          "name": "stdout",
          "output_type": "stream",
          "text": [
            "tensor(42.5126, dtype=torch.float64)\n",
            "tensor(103.5210, dtype=torch.float64)\n"
          ]
        }
      ],
      "source": [
        "c = torch.tensor(model['soup'] - model['salt'], dtype = torch.float64)\n",
        "\n",
        "# Angle difference between a and b in degrees\n",
        "print((180.0/torch.pi)*(torch.acos(torch.dot(a, b) / (torch.norm(a) * torch.norm(b)))))\n",
        "\n",
        "# Angle difference between a and c in degrees\n",
        "print((180.0/torch.pi)*(torch.acos(torch.dot(a, c) / (torch.norm(a) * torch.norm(c)))))\n",
        "\n",
        "# cricket-without-tendulkar has approximately the same similarity w.r.t.\n",
        "# football-without-messi and tennis-without-federer"
      ]
    },
    {
      "cell_type": "markdown",
      "metadata": {
        "id": "ayzM_0_synRF"
      },
      "source": [
        "\n",
        "---\n",
        "\n",
        "**Hadamard Product of Vectors**\n",
        "\n",
        "A vector resulting from an elementwise multiplication: $$\\mathbf{a}{\\color{cyan}\\otimes}\\mathbf{b} = \\begin{bmatrix}{\\color{red}{a_1\\times b_1}}\\\\{\\color{green}{a_2\\times b_2}}\\\\\\vdots\\\\{\\color{magenta}{a_n\\times b_n}}\\end{bmatrix}.$$\n",
        "\n",
        "The <font color=\"cyan\">$\\otimes$</font> represents the computation of the Hadamard product.\n",
        "\n",
        "---"
      ]
    },
    {
      "cell_type": "code",
      "execution_count": null,
      "metadata": {
        "colab": {
          "base_uri": "https://localhost:8080/"
        },
        "id": "UPojS0rIzR8p",
        "outputId": "51642e30-9740-45f3-a97e-36c6151d170c"
      },
      "outputs": [
        {
          "name": "stdout",
          "output_type": "stream",
          "text": [
            "tensor([ 4., 10., 18.], dtype=torch.float64)\n",
            "tensor([ 4., 10., 18.], dtype=torch.float64)\n"
          ]
        }
      ],
      "source": [
        "## Hadamard product\n",
        "a = torch.tensor([1.0, 2.0, 3.0], dtype = torch.float64)\n",
        "b = torch.tensor([4.0, 5.0, 6.0], dtype = torch.float64)\n",
        "\n",
        "# Element-wise multiplication (Hadamard product)\n",
        "print(a*b)\n",
        "print(torch.mul(a, b))"
      ]
    },
    {
      "cell_type": "markdown",
      "metadata": {
        "id": "oruyV_EjhqCR"
      },
      "source": [
        "---\n",
        "\n",
        "A matrix-vector product is simply a sequence of dot products of the rows of the matrix (seen as vectors) with the vector\n",
        "\n",
        "![matvec product](https://1drv.ms/i/c/37720f927b6ddc34/IQQ1cQ8fZdFmS4cnGkBlsZbAAaL2zMtzWdjHe-HCMt4UTA0?width=700)\n",
        "\n",
        "---"
      ]
    },
    {
      "cell_type": "code",
      "execution_count": null,
      "metadata": {
        "colab": {
          "base_uri": "https://localhost:8080/"
        },
        "id": "A_IScSWzhpi7",
        "outputId": "7fc59b18-54bf-49ae-8fa2-6eb400e63f0d"
      },
      "outputs": [
        {
          "name": "stdout",
          "output_type": "stream",
          "text": [
            "tensor([0., 0.])\n"
          ]
        }
      ],
      "source": [
        "## Matrix-vector product\n",
        "A = torch.tensor([[1.0, 2.0, 4.0],\n",
        "                  [2.0, -1.0, 3.0]])\n",
        "x = torch.tensor([4.0, 2.0, -2.0])\n",
        "\n",
        "# Matrix-vector multiplication\n",
        "print(torch.matmul(A, x))"
      ]
    },
    {
      "cell_type": "markdown",
      "metadata": {
        "id": "uTnGSJ3vT4EN"
      },
      "source": [
        "---\n",
        "\n",
        "Here we create a simple sentence in English and tokenize it\n",
        "\n",
        "---"
      ]
    },
    {
      "cell_type": "code",
      "execution_count": null,
      "metadata": {
        "id": "pQ73kkevT5L3"
      },
      "outputs": [],
      "source": [
        "sentence = 'i swam quickly across the river to get to the other bank'\n",
        "nltk.download('punkt_tab')\n"
      ]
    },
    {
      "cell_type": "markdown",
      "metadata": {
        "id": "M40pqI8UUbX4"
      },
      "source": [
        "---\n",
        "\n",
        "Generate the word embeddings for the tokens and store them in a matrix $\\mathbf{X}$ such that each row of the matrix corresponds to a token.\n",
        "\n",
        "---"
      ]
    },
    {
      "cell_type": "code",
      "execution_count": null,
      "metadata": {
        "id": "1mKKVRyxUh5V"
      },
      "outputs": [],
      "source": []
    },
    {
      "cell_type": "markdown",
      "metadata": {
        "id": "0Z0pZQisxtY-"
      },
      "source": [
        "---\n",
        "\n",
        "A matrix-matrix product is simply a sequence of matrix-vector products.\n",
        "\n",
        "![matmatprod](https://1drv.ms/i/c/37720f927b6ddc34/IQQ-B3z7tbWHQqBrW9k2ElDVAUc5fWzM24txLkgBK7f8Yac?width=550)\n",
        "\n",
        "\n",
        "---"
      ]
    },
    {
      "cell_type": "markdown",
      "metadata": {
        "id": "h5cHHVQOuT0z"
      },
      "source": [
        "---\n",
        "\n",
        "Matrix-matrix product using patient data matrix and a weights matrix:\n",
        "\n",
        "![patient dataset](https://1drv.ms/i/s!AjTcbXuSD3I3hspfrgklysOtJMOjaA?embed=1&width=800)\n",
        "\n",
        "$$\\mathbf{Z} = \\mathbf{XW}.$$\n",
        "\n",
        "---"
      ]
    },
    {
      "cell_type": "code",
      "execution_count": null,
      "metadata": {
        "colab": {
          "base_uri": "https://localhost:8080/"
        },
        "id": "njrrw_MnuUpo",
        "outputId": "27c076cb-4fdd-4d66-e396-b552ae94e608"
      },
      "outputs": [
        {
          "output_type": "stream",
          "name": "stdout",
          "text": [
            "Patient data matrix X:\n",
            " tensor([[ 72.0000, 120.0000,  37.3000, 104.0000,  32.5000],\n",
            "        [ 85.0000, 130.0000,  37.0000, 110.0000,  14.0000],\n",
            "        [ 68.0000, 110.0000,  38.5000, 125.0000,  34.0000],\n",
            "        [ 90.0000, 140.0000,  38.0000, 130.0000,  26.0000],\n",
            "        [ 84.0000, 132.0000,  38.3000, 146.0000,  30.0000],\n",
            "        [ 78.0000, 128.0000,  37.2000, 102.0000,  12.0000]],\n",
            "       dtype=torch.float64)\n",
            "Weights matrix:\n",
            " tensor([[-0.1000,  0.5000,  0.3000],\n",
            "        [ 0.9000,  0.3000,  0.5000],\n",
            "        [-1.5000,  0.4000,  0.1000],\n",
            "        [ 0.1000,  0.1000, -1.0000],\n",
            "        [-1.2000,  0.5000, -0.8000]], dtype=torch.float64)\n",
            "Raw zcores matrix:\n",
            " tensor([[ 16.2500, 113.5700, -44.6700],\n",
            "        [ 47.2000, 114.3000, -27.0000],\n",
            "        [  6.1500, 111.9000, -72.9500],\n",
            "        [ 41.8000, 128.2000, -50.0000],\n",
            "        [ 31.5500, 126.5200, -74.9700],\n",
            "        [ 47.4000, 108.4800, -20.4800]], dtype=torch.float64)\n"
          ]
        }
      ],
      "source": [
        "# Patients data matrix\n",
        "X = torch.tensor([[72, 120, 37.3, 104, 32.5],\n",
        "                 [85, 130, 37.0, 110, 14],\n",
        "                 [68, 110, 38.5, 125, 34],\n",
        "                 [90, 140, 38.0, 130, 26],\n",
        "                 [84, 132, 38.3, 146, 30],\n",
        "                 [78, 128, 37.2, 102, 12]], dtype = torch.float64)\n",
        "print(f'Patient data matrix X:\\n {X}') #f-string in Python\n",
        "\n",
        "# Weights matrix\n",
        "W = torch.tensor([[-0.1, 0.5, 0.3],\n",
        "                  [0.9, 0.3, 0.5],\n",
        "                  [-1.5, 0.4, 0.1],\n",
        "                  [0.1, 0.1, -1.0],\n",
        "                  [-1.2, 0.5, -0.8]], dtype = torch.float64)\n",
        "print(f'Weights matrix:\\n {W}')\n",
        "\n",
        "# Raw scores matrix (matrix-matrix multiplication)\n",
        "Z = torch.matmul(X, W)\n",
        "print(f'Raw zcores matrix:\\n {Z}')\n",
        "# The raw scores are also referred to as the logits"
      ]
    },
    {
      "cell_type": "markdown",
      "metadata": {
        "id": "qWigLvBRucwi"
      },
      "source": [
        "---\n",
        "\n",
        "**Version-1** view of the matrix-matrix product $\\mathbf{Z} = \\mathbf{XW}$:\n",
        "\n",
        "*What a particular neuron understands about a particular patient.*\n",
        "\n",
        "![matrix-matrix product version-1](https://1drv.ms/i/c/37720f927b6ddc34/IQQdAOCwtndURKA-h4yvpTqlAYjBjlcweRSeMYkPvf7dwmQ?width=660)\n",
        "\n",
        "$$\\begin{align*}[\\mathbf{Z}]_{i,j} &= (i,j)\\text{-th element of }\\mathbf{Z}\\\\&=\\text{what the }j\\text{th neuron learns about the } i\\text{th patient}\\\\&=\\mathbf{x}^{(i)}\\cdot\\mathbf{w}_j\\\\& = {\\mathbf{x}^{(i)}}^\\mathrm{T}\\mathbf{w}_j\\\\\\Rightarrow \\underbrace{[\\mathbf{Z}]_{{\\color{yellow}0},{\\color{cyan}2}}}_{{\\color{yellow}0}\\text{th patient},\\,{\\color{cyan}2}\\text{nd neuron}} &= \\mathbf{x}^{({\\color{yellow}0})}\\cdot\\mathbf{w}_{{\\color{cyan}2}}\\\\ &= \\begin{bmatrix}72\\\\120\\\\37.3\\\\104\\\\32.5\\end{bmatrix}\\cdot\\begin{bmatrix}0.3\\\\0.5\\\\0.1\\\\-1.0\\\\-0.8\\end{bmatrix}\\\\ &= -44.67.\\end{align*}$$\n",
        "\n",
        "---"
      ]
    },
    {
      "cell_type": "code",
      "execution_count": null,
      "metadata": {
        "colab": {
          "base_uri": "https://localhost:8080/"
        },
        "id": "q-rGT4NaueRk",
        "outputId": "f2b62c6e-c832-4f50-9855-398f756ab150"
      },
      "outputs": [
        {
          "output_type": "execute_result",
          "data": {
            "text/plain": [
              "tensor(-44.6700, dtype=torch.float64)"
            ]
          },
          "metadata": {},
          "execution_count": 34
        }
      ],
      "source": [
        "## The (0, 2)-th element of the matrix-matrix product XW\n",
        "torch.dot(X[0, :], W[:, 2])\n",
        "#torch.matmul(X[0, :], W[:, 2]) (not recommended)"
      ]
    },
    {
      "cell_type": "markdown",
      "metadata": {
        "id": "RzqALUS-ugoU"
      },
      "source": [
        "---\n",
        "\n",
        "**Version-2** view of the matrix-matrix product $\\mathbf{Z} = \\mathbf{XW}$:\n",
        "\n",
        "*What a particular neuron understands about all the patients.*\n",
        "\n",
        "![matrix-matrix product version-2](https://1drv.ms/i/c/37720f927b6ddc34/IQRm1-w-6TG0R4C4J4BizyzyAWIbcHzbEjgmx-0JFREdHsE?width=660)\n",
        "\n",
        "$$\\begin{align*}\\mathbf{z}_j &= \\mathbf{X}\\mathbf{w}_j\\\\&=\\text{what the } j\\text{th neuron learns about the all the patients}\\\\&=w_{j,0}\\times\\textbf{HR}+w_{j,1}\\times\\textbf{BP}+w_{j,2}\\times\\textbf{Temp}+w_{j,3}\\times\\textbf{Sugar}+w_{j,4}\\times\\textbf{Vitamin D}\\\\&= w_{j,0}\\mathbf{x}_0+w_{j,1}\\mathbf{x}_1+w_{j,2}\\mathbf{x}_2+w_{j,3}\\mathbf{x}_3+w_{j,4}\\mathbf{x}_4\\\\\\Rightarrow\\underbrace{\\mathbf{z}_{{\\color{cyan}0}}}_{{\\color{cyan}0}\\text{th neuron understanding}} &= \\underbrace{\\mathbf{X}}_{\\color{yellow}{\\text{all patients}}}\\ \\underbrace{\\mathbf{w}_{{\\color{cyan}0}}}_{{\\color{cyan}0}\\text{th neuron weights}}\\\\&= {\\color{cyan}{-0.1}}\\times\\begin{bmatrix}{\\color{yellow}{72}}\\\\{\\color{yellow}{85}}\\\\{\\color{yellow}{68}}\\\\{\\color{yellow}{90}}\\\\{\\color{yellow}{84}}\\\\{\\color{yellow}{78}}\\end{bmatrix}+{\\color{cyan}{0.9}}\\times\\begin{bmatrix}{\\color{yellow}{120}}\\\\{\\color{yellow}{130}}\\\\{\\color{yellow}{110}}\\\\{\\color{yellow}{140}}\\\\{\\color{yellow}{132}}\\\\{\\color{yellow}{128}}\\end{bmatrix}+({\\color{cyan}{-1.5}})\\times\\begin{bmatrix}{\\color{yellow}{37.3}}\\\\{\\color{yellow}{37.0}}\\\\{\\color{yellow}{38.5}}\\\\{\\color{yellow}{38.0}}\\\\{\\color{yellow}{38.3}}\\\\{\\color{yellow}{37.2}}\\end{bmatrix}+{\\color{cyan}{0.1}}\\times\\begin{bmatrix}{\\color{yellow}{104}}\\\\{\\color{yellow}{110}}\\\\{\\color{yellow}{125}}\\\\{\\color{yellow}{130}}\\\\{\\color{yellow}{146}}\\\\{\\color{yellow}{102}}\\end{bmatrix}+({\\color{cyan}{-1.2}})\\times\\begin{bmatrix}{\\color{yellow}{32.5}}\\\\{\\color{yellow}{14}}\\\\{\\color{yellow}{34}}\\\\{\\color{yellow}{26}}\\\\{\\color{yellow}{30}}\\\\{\\color{yellow}{12}}\\end{bmatrix}\\\\&=\\begin{bmatrix}16.25\\\\47.20\\\\6.15\\\\41.80\\\\31.55\\\\47.40\\end{bmatrix}.\\end{align*}$$\n",
        "\n",
        "\n",
        "\n",
        "---"
      ]
    },
    {
      "cell_type": "code",
      "execution_count": null,
      "metadata": {
        "colab": {
          "base_uri": "https://localhost:8080/"
        },
        "id": "sJbmVTzuukEh",
        "outputId": "5d30ca32-2924-44a9-cb0b-4f50d30edd08"
      },
      "outputs": [
        {
          "output_type": "execute_result",
          "data": {
            "text/plain": [
              "tensor([16.2500, 47.2000,  6.1500, 41.8000, 31.5500, 47.4000],\n",
              "       dtype=torch.float64)"
            ]
          },
          "metadata": {},
          "execution_count": 35
        }
      ],
      "source": [
        "## The 0-th column of the matrix-matrix product XW\n",
        "torch.matmul(X, W[:, 0])"
      ]
    },
    {
      "cell_type": "markdown",
      "metadata": {
        "id": "jrQE8b2xukgE"
      },
      "source": [
        "---\n",
        "\n",
        "**Version-3** view of the matrix-matrix product $\\mathbf{Z} = \\mathbf{XW}$:\n",
        "\n",
        "*What all neurons understand about a particular patient.*\n",
        "\n",
        "![matrix-matrix product version-3](https://1drv.ms/i/c/37720f927b6ddc34/IQRfO-qEJQ9mQYLH_f-lyjeQAaWV4FrDjTjaEHJpPB1PmCg?width=660)\n",
        "\n",
        "$$\\begin{align*}{\\mathbf{z}^{(i)}}^\\mathrm{T}&={\\mathbf{x}^{(i)}}^\\mathrm{T}\\mathbf{W}\\\\&= \\text{what is learned about the }i\\text{th patient by all the neurons}\\\\&=i\\text{th HR }\\times{\\mathbf{w}^{(0)}}^\\mathrm{T}+i\\text{th BP }\\times{\\mathbf{w}^{(1)}}^\\mathrm{T}+i\\text{th Temp }\\times{\\mathbf{w}^{(2)}}^\\mathrm{T}+i\\text{th Sugar }\\times{\\mathbf{w}^{(3)}}^\\mathrm{T}+i\\text{th Vitamin D }\\times{\\mathbf{w}^{(4)}}^\\mathrm{T}\\\\&=x^{(i)}_0\\times{\\mathbf{w}^{(0)}}^\\mathrm{T}+x^{(i)}_1\\times{\\mathbf{w}^{(1)}}^\\mathrm{T}+x^{(i)}_2\\times{\\mathbf{w}^{(2)}}^\\mathrm{T}+x^{(i)}_3\\times{\\mathbf{w}^{(3)}}^\\mathrm{T}+x^{(i)}_4\\times{\\mathbf{w}^{(4)}}^\\mathrm{T}\\\\\\underbrace{\\Rightarrow{{\\mathbf{z}^{({\\color{yellow}0})}}^\\mathrm{T}}}_{{\\color{yellow}{0}}\\text{th patient understanding}}&=\\underbrace{{{\\mathbf{x}^{({\\color{yellow}0})}}^\\mathrm{T}}}_{{\\color{yellow}{0}}\\text{th patient}}\\ \\underbrace{\\mathbf{W}}_{{\\color{cyan}{\\text{all neurons}}}}\\\\ &= {\\color{yellow}{72}}\\times\\begin{bmatrix}{\\color{cyan}{-0.1}} & {\\color{cyan}{0.5}} & {\\color{cyan}{0.3}}\\end{bmatrix} \\\\&+ {\\color{yellow}{120}}\\times\\begin{bmatrix}{\\color{cyan}{0.9}} & {\\color{cyan}{0.3}} & {\\color{cyan}{0.5}}\\end{bmatrix}\\\\&+{\\color{yellow}{37.3}}\\times\\begin{bmatrix}{\\color{cyan}{-1.5}} & {\\color{cyan}{0.4}} & {\\color{cyan}{0.1}}\\end{bmatrix}\\\\&+{\\color{yellow}{104}}\\times\\begin{bmatrix}{\\color{cyan}{0.1}} & {\\color{cyan}{0.1}} & {\\color{cyan}{-1.0}}\\end{bmatrix}\\\\&+{\\color{yellow}{32.5}}\\times\\begin{bmatrix}{\\color{cyan}{-1.2}} & {\\color{cyan}{0.5}} & {\\color{cyan}{-0.8}}\\end{bmatrix}\\\\&=\\begin{bmatrix}16.25 & 113.57 & 7.33\\end{bmatrix}.\\end{align*}$$\n",
        "\n",
        "\n",
        "---"
      ]
    },
    {
      "cell_type": "code",
      "execution_count": null,
      "metadata": {
        "colab": {
          "base_uri": "https://localhost:8080/"
        },
        "id": "Y0KMgb1KA7eE",
        "outputId": "6691c5e9-40e6-4f4d-fa65-2e1b3ea07dc2"
      },
      "outputs": [
        {
          "output_type": "execute_result",
          "data": {
            "text/plain": [
              "tensor([[ 16.2500, 113.5700, -44.6700],\n",
              "        [ 47.2000, 114.3000, -27.0000],\n",
              "        [  6.1500, 111.9000, -72.9500],\n",
              "        [ 41.8000, 128.2000, -50.0000],\n",
              "        [ 31.5500, 126.5200, -74.9700],\n",
              "        [ 47.4000, 108.4800, -20.4800]], dtype=torch.float64)"
            ]
          },
          "metadata": {},
          "execution_count": 36
        }
      ],
      "source": [
        "Z"
      ]
    },
    {
      "cell_type": "code",
      "execution_count": null,
      "metadata": {
        "colab": {
          "base_uri": "https://localhost:8080/"
        },
        "id": "o-Nv7NOLun5e",
        "outputId": "b61e1bf4-ec2c-4728-b521-70b6091863b8"
      },
      "outputs": [
        {
          "output_type": "execute_result",
          "data": {
            "text/plain": [
              "tensor([ 16.2500, 113.5700, -44.6700], dtype=torch.float64)"
            ]
          },
          "metadata": {},
          "execution_count": 37
        }
      ],
      "source": [
        "## The 0-th row of the matrix-matrix product XW\n",
        "torch.matmul(X[0, :], W)"
      ]
    },
    {
      "cell_type": "markdown",
      "metadata": {
        "id": "mVoJRc6kUtI2"
      },
      "source": [
        "---\n",
        "\n",
        "The similarity between each pair of words represented in the word embeddings matrix $\\mathbf{X}_\\mathrm{word}$ is the matrix-matrix product $\\mathbf{X}_\\mathrm{word}\\mathbf{X}_\\mathrm{word}^\\mathrm{T}.$\n",
        "\n",
        "---"
      ]
    },
    {
      "cell_type": "code",
      "execution_count": null,
      "metadata": {
        "id": "ms9Qg5AoVJy_"
      },
      "outputs": [],
      "source": []
    },
    {
      "cell_type": "markdown",
      "metadata": {
        "id": "NLWq_5p3usNO"
      },
      "source": [
        "---\n",
        "\n",
        "The softmax function: takes a $k$-vector $\\mathbf{z}$ as input and returns a vector $\\mathbf{a}$ of the same shape as the output which is referred to as the softmax-activated scores.\n",
        "\n",
        "$\\begin{align*}\\mathbf{a}&=\\text{softmax}(\\mathbf{z})=\\begin{bmatrix}\\dfrac{e^{z_1}}{e^{z_1}+e^{z_2}+\\cdots+e^{z_k}}\\\\\\dfrac{e^{z_2}}{e^{z_1}+e^{z_2}+\\cdots+e^{z_k}}\\\\\\vdots\\\\\\dfrac{e^{z_k}}{e^{z_1}+e^{z_2}+\\cdots+e^{z_k}}\\end{bmatrix}.\\end{align*}$\n",
        "\n",
        "In the following example, we consider a raw scores vector $\\mathbf{z}$ with 3 components which leads to the softmax-activated scores vectors $\\mathbf{a}$ which can be interpreted as the predicted probabilities that the sample belongs to each one of the output classes:\n",
        "\n",
        "![softmax](https://1drv.ms/i/s!AjTcbXuSD3I3hscmdol7J2G4GDo5WQ?embed=1&width=660)\n",
        "\n",
        "\n",
        "---"
      ]
    },
    {
      "cell_type": "code",
      "execution_count": null,
      "metadata": {
        "colab": {
          "base_uri": "https://localhost:8080/"
        },
        "id": "hgbn1YaJc5i-",
        "outputId": "054e3847-e792-4bb9-9b2c-913745b92847"
      },
      "outputs": [
        {
          "output_type": "stream",
          "name": "stdout",
          "text": [
            "tensor([1., 2., 3.], dtype=torch.float64)\n",
            "tensor([0.0900, 0.2447, 0.6652], dtype=torch.float64)\n",
            "tensor(1.0000, dtype=torch.float64)\n"
          ]
        }
      ],
      "source": [
        "z = torch.tensor([1.0, 2.0, 3.0], dtype = torch.float64)\n",
        "print(z)\n",
        "softmax = torch.nn.Softmax(dim = 0)\n",
        "a = softmax(z)\n",
        "print(a)\n",
        "print(torch.sum(a))"
      ]
    },
    {
      "cell_type": "code",
      "execution_count": null,
      "metadata": {
        "colab": {
          "base_uri": "https://localhost:8080/"
        },
        "id": "ILhIBVoKr3fb",
        "outputId": "a130b2b5-cb26-4ff1-8bcb-ccdd40abf1e1"
      },
      "outputs": [
        {
          "output_type": "stream",
          "name": "stdout",
          "text": [
            "Raw zcores matrix:\n",
            " tensor([[ 16.2500, 113.5700, -44.6700],\n",
            "        [ 47.2000, 114.3000, -27.0000],\n",
            "        [  6.1500, 111.9000, -72.9500],\n",
            "        [ 41.8000, 128.2000, -50.0000],\n",
            "        [ 31.5500, 126.5200, -74.9700],\n",
            "        [ 47.4000, 108.4800, -20.4800]], dtype=torch.float64)\n",
            "Softmax scores matrix:\n",
            " tensor([[5.4258e-43, 1.0000e+00, 1.8934e-69],\n",
            "        [7.2250e-30, 1.0000e+00, 4.3071e-62],\n",
            "        [1.1840e-46, 1.0000e+00, 5.2561e-81],\n",
            "        [2.9989e-38, 1.0000e+00, 4.0618e-78],\n",
            "        [5.6892e-42, 1.0000e+00, 3.1189e-88],\n",
            "        [2.9737e-27, 1.0000e+00, 9.8488e-57]], dtype=torch.float64)\n"
          ]
        }
      ],
      "source": [
        "# Raw scores matrix (matrix-matrix multiplication)\n",
        "Z = torch.matmul(X, W)\n",
        "print(f'Raw zcores matrix:\\n {Z}')\n",
        "\n",
        "# Calculate the softmax scores\n",
        "softmax = torch.nn.Softmax(dim = 1)\n",
        "A = softmax(Z)\n",
        "print(f'Softmax scores matrix:\\n {A}')"
      ]
    },
    {
      "cell_type": "markdown",
      "metadata": {
        "id": "VCo2ano8mH_x"
      },
      "source": [
        "---\n",
        "\n",
        "Standardization of data to get rid of the effects of units.\n",
        "\n",
        "The standard deviation of a vector is a measure of how much the components or elements of that vector typically deviate from their average value. For an $n$-vector $\\mathbf{x},$ the standard deviation is denoted and calculated as\n",
        "$$\\mathbf{x} = \\begin{bmatrix}x_1\\\\x_2\\\\\\vdots\\\\x_n\\end{bmatrix}\\Rightarrow\\text{std}(\\mathbf{x}) = \\sqrt{\\frac{\\left[x_1-\\text{avg}(\\mathbf{x})\\right]^2+\\cdots+\\left[x_n-\\text{avg}(\\mathbf{x})\\right]^2}{n}}.$$ The quantity inside the square root above is the average squared deviation which is also called the variance denoted as $$\\text{var}(\\mathbf{x}) = \\frac{\\left[x_1-\\text{avg}(\\mathbf{x})\\right]^2+\\cdots+\\left[x_n-\\text{avg}(\\mathbf{x})\\right]^2}{n}.$$\n",
        "\n",
        "This means $\\text{std}(\\mathbf{x}) = \\sqrt{\\text{var}(\\mathbf{x})}.$\n",
        "\n",
        "A large standard deviation indicates that the components of the vector typically deviate a lot from their average value or mean.\n",
        "\n",
        "The following component plot of a vector of heart rate values has the 1-standard deviation-above and below the mean represented as red-dotted lines:\n",
        "\n",
        "![standard deviation](https://1drv.ms/i/c/37720f927b6ddc34/IQQB_uF-TUO8SpoodLWz7sQPAc4POmYfY3hPjlX3vpYfKlY?width=540)\n",
        "\n",
        "---"
      ]
    },
    {
      "cell_type": "code",
      "execution_count": null,
      "metadata": {
        "colab": {
          "base_uri": "https://localhost:8080/"
        },
        "id": "IioKqqpymL2i",
        "outputId": "b507b95d-6aae-4620-9e0a-763d94c7170d"
      },
      "outputs": [
        {
          "output_type": "stream",
          "name": "stdout",
          "text": [
            "Heart rate vector:\n",
            " tensor([72., 85., 68., 90., 84., 78.], dtype=torch.float64)\n",
            "Average heart rate: 79.5\n",
            "Deviations in heart rate vector:\n",
            " tensor([ -7.5000,   5.5000, -11.5000,  10.5000,   4.5000,  -1.5000],\n",
            "       dtype=torch.float64)\n",
            "Squared-deviations in heart rate vector:\n",
            " tensor([ 56.2500,  30.2500, 132.2500, 110.2500,  20.2500,   2.2500],\n",
            "       dtype=torch.float64)\n",
            "Average squared deviation or variance in the heart rate: 58.583333333333336\n",
            "Standard deviation of the heart rate: 7.65397500213669\n",
            "Standardized heart rate vector:\n",
            "tensor([-0.9799,  0.7186, -1.5025,  1.3718,  0.5879, -0.1960],\n",
            "       dtype=torch.float64)\n"
          ]
        }
      ],
      "source": [
        "# Heart rate vector\n",
        "a = X[:, 0]\n",
        "print(f'Heart rate vector:\\n {a}')\n",
        "\n",
        "# BP vector\n",
        "b = X[:, 1]\n",
        "#print(f'Blood pressure vector:\\n {b}')\n",
        "\n",
        "# Average heart rate\n",
        "print(f'Average heart rate: {torch.mean(a)}')\n",
        "\n",
        "# Average BP\n",
        "#print(torch.mean(b))\n",
        "\n",
        "# Mean-centered heart rate vector or the de-meaned heart rate vector or the\n",
        "# deviations in heart rate vectors\n",
        "a_mc = a - torch.mean(a)\n",
        "print(f'Deviations in heart rate vector:\\n {a_mc}')\n",
        "\n",
        "# The average of the components of the mean-centered heart rate vector is zero\n",
        "#print(torch.mean(a_mc))\n",
        "\n",
        "# The squared deviations vector\n",
        "print(f'Squared-deviations in heart rate vector:\\n {a_mc**2}')\n",
        "\n",
        "# The average of the squared deviations vector a.k.a. the variance in\n",
        "# the heart rate\n",
        "v = torch.mean(a_mc**2)\n",
        "print(f'Average squared deviation or variance in the heart rate: {v}')\n",
        "\n",
        "# Square-root of the average of the squared deviations vector\n",
        "# which is the same as the square root of the variance a.k.a. the\n",
        "# standard deviation in the heart rate\n",
        "s = torch.sqrt(v)\n",
        "print(f'Standard deviation of the heart rate: {s}')\n",
        "\n",
        "# Standardized heart rate vector a.k.a. the z-scores of the heart rate is\n",
        "# obtained by subtracting the mean heart rate and dividing by the\n",
        "# deviation of the heart rates\n",
        "z = a_mc / s #same as (a-np.mean(a)) / np.std(a)\n",
        "print(f'Standardized heart rate vector:\\n{z}')"
      ]
    },
    {
      "cell_type": "markdown",
      "metadata": {
        "id": "qMaz_7oNMFYM"
      },
      "source": [
        "---\n",
        "\n",
        "Suppose heart rate is measured in beats per hour instead of beats per minute. How do the z-scores look like now?\n",
        "\n",
        "---"
      ]
    },
    {
      "cell_type": "code",
      "execution_count": null,
      "metadata": {
        "colab": {
          "base_uri": "https://localhost:8080/"
        },
        "id": "NuCt2XMjzwj9",
        "outputId": "ccddf909-c165-4ca8-efa3-aea6db698b96"
      },
      "outputs": [
        {
          "output_type": "stream",
          "name": "stdout",
          "text": [
            "Heart rate vector:\n",
            " tensor([4320., 5100., 4080., 5400., 5040., 4680.], dtype=torch.float64)\n",
            "Average heart rate: 4770.0\n",
            "Deviations in heart rate vector:\n",
            " tensor([-450.,  330., -690.,  630.,  270.,  -90.], dtype=torch.float64)\n",
            "Squared-deviations in heart rate vector:\n",
            " tensor([202500., 108900., 476100., 396900.,  72900.,   8100.],\n",
            "       dtype=torch.float64)\n",
            "Average squared deviation or variance in the heart rate: 210900.0\n",
            "Standard deviation of the heart rate: 459.23850012820134\n",
            "Standardized heart rate vector:\n",
            "tensor([-0.9799,  0.7186, -1.5025,  1.3718,  0.5879, -0.1960],\n",
            "       dtype=torch.float64)\n"
          ]
        }
      ],
      "source": [
        "# Suppose heart rate is measured in beats per hour instead of beats per minute\n",
        "a = X[:, 0]*60\n",
        "print(f'Heart rate vector:\\n {a}')\n",
        "\n",
        "# BP vector\n",
        "b = X[:, 1]\n",
        "#print(f'Blood pressure vector:\\n {b}')\n",
        "\n",
        "# Average heart rate\n",
        "print(f'Average heart rate: {torch.mean(a)}')\n",
        "\n",
        "# Average BP\n",
        "#print(torch.mean(b))\n",
        "\n",
        "# Mean-centered heart rate vector or the de-meaned heart rate vector or the\n",
        "# deviations in heart rate vectors\n",
        "a_mc = a - torch.mean(a)\n",
        "print(f'Deviations in heart rate vector:\\n {a_mc}')\n",
        "\n",
        "# The average of the components of the mean-centered heart rate vector is zero\n",
        "#print(torch.mean(a_mc))\n",
        "\n",
        "# The squared deviations vector\n",
        "print(f'Squared-deviations in heart rate vector:\\n {a_mc**2}')\n",
        "\n",
        "# The average of the squared deviations vector a.k.a. the variance in\n",
        "# the heart rate\n",
        "v = torch.mean(a_mc**2)\n",
        "print(f'Average squared deviation or variance in the heart rate: {v}')\n",
        "\n",
        "# Square-root of the average of the squared deviations vector\n",
        "# which is the same as the square root of the variance a.k.a. the\n",
        "# standard deviation in the heart rate\n",
        "s = torch.sqrt(v)\n",
        "print(f'Standard deviation of the heart rate: {s}')\n",
        "\n",
        "# Standardized heart rate vector a.k.a. the z-scores of the heart rate\n",
        "z = a_mc / s\n",
        "print(f'Standardized heart rate vector:\\n{z}')\n",
        "# The z-scores are the same as before when the heart rate was in beats per minute"
      ]
    },
    {
      "cell_type": "markdown",
      "metadata": {
        "id": "qA6qAaCW9RQ_"
      },
      "source": [
        "---\n",
        "\n",
        "One-hot encoding of the true output labels\n",
        "\n",
        "\n",
        "![patient dataset](https://1drv.ms/i/s!AjTcbXuSD3I3hspfrgklysOtJMOjaA?embed=1&width=800)\n",
        "\n",
        "---"
      ]
    },
    {
      "cell_type": "code",
      "execution_count": null,
      "metadata": {
        "colab": {
          "base_uri": "https://localhost:8080/"
        },
        "id": "7ABCvj-19baz",
        "outputId": "93ecf6fc-5f14-4b9b-89e1-88267feb479c"
      },
      "outputs": [
        {
          "output_type": "stream",
          "name": "stdout",
          "text": [
            "['non-diabetic' 'diabetic' 'non-diabetic' 'pre-diabetic' 'diabetic'\n",
            " 'pre-diabetic']\n",
            "<class 'numpy.ndarray'>\n",
            "(6,)\n",
            "------\n",
            "[['non-diabetic']\n",
            " ['diabetic']\n",
            " ['non-diabetic']\n",
            " ['pre-diabetic']\n",
            " ['diabetic']\n",
            " ['pre-diabetic']]\n",
            "<class 'numpy.ndarray'>\n",
            "(6, 1)\n",
            "-------\n",
            "tensor([[0., 1., 0.],\n",
            "        [1., 0., 0.],\n",
            "        [0., 1., 0.],\n",
            "        [0., 0., 1.],\n",
            "        [1., 0., 0.],\n",
            "        [0., 0., 1.]], dtype=torch.float64)\n"
          ]
        }
      ],
      "source": [
        "# The following does not work in PyTorch\n",
        "#y = torch.tensor(['non-diabetic', 'diabetic'])\n",
        "\n",
        "# Create a 1D-numpy array of output labels (equivalent to a rank-1 tensor in\n",
        "# PyTorch which itself is equivalent to a vector in pen & paper)\n",
        "y = np.array(['non-diabetic',\n",
        "              'diabetic',\n",
        "              'non-diabetic',\n",
        "              'pre-diabetic',\n",
        "              'diabetic',\n",
        "              'pre-diabetic'])\n",
        "print(y)\n",
        "print(type(y))\n",
        "print(y.shape)\n",
        "y = y.reshape(-1, 1)\n",
        "print('------')\n",
        "print(y)\n",
        "print(type(y))\n",
        "print(y.shape)\n",
        "print('-------')\n",
        "# Creating a one-hot encoder object\n",
        "ohe = OneHotEncoder(sparse_output = False)\n",
        "# Create the one-hot encoded true output labels matrix\n",
        "Y = torch.tensor(ohe.fit_transform(y), dtype = torch.float64)\n",
        "print(Y)"
      ]
    },
    {
      "cell_type": "markdown",
      "metadata": {
        "id": "tBg3HSbDFUQT"
      },
      "source": [
        "---\n",
        "\n",
        "The forward propagation\n",
        "\n",
        "---"
      ]
    },
    {
      "cell_type": "code",
      "execution_count": null,
      "metadata": {
        "colab": {
          "base_uri": "https://localhost:8080/"
        },
        "id": "aBIbqmivFXa0",
        "outputId": "68c94ac8-9a57-42d2-8ea5-67bde2f50626"
      },
      "outputs": [
        {
          "output_type": "stream",
          "name": "stdout",
          "text": [
            "The standardized data matrix:\n",
            "tensor([[-0.9799, -0.7019, -0.7238, -0.9871,  0.8920],\n",
            "        [ 0.7186,  0.3509, -1.2449, -0.6050, -1.2374],\n",
            "        [-1.5025, -1.7547,  1.3607,  0.3503,  1.0647],\n",
            "        [ 1.3718,  1.4037,  0.4922,  0.6687,  0.1439],\n",
            "        [ 0.5879,  0.5615,  1.0133,  1.6876,  0.6043],\n",
            "        [-0.1960,  0.1404, -0.8975, -1.1144, -1.4676]], dtype=torch.float64)\n",
            "One-hot encoded true output labels matrx:\n",
            "tensor([[0., 1., 0.],\n",
            "        [1., 0., 0.],\n",
            "        [0., 1., 0.],\n",
            "        [0., 0., 1.],\n",
            "        [1., 0., 0.],\n",
            "        [0., 0., 1.]], dtype=torch.float64)\n",
            "The weights matrix:\n",
            "tensor([[-0.1000,  0.5000,  0.3000],\n",
            "        [ 0.9000,  0.3000,  0.5000],\n",
            "        [-1.5000,  0.4000,  0.1000],\n",
            "        [ 0.1000,  0.1000, -1.0000],\n",
            "        [-1.2000,  0.5000, -0.8000]], dtype=torch.float64)\n",
            "The raw scores matrix:\n",
            "tensor([[-0.6171, -0.6427, -0.4438],\n",
            "        [ 3.5357, -0.7126,  1.8614],\n",
            "        [-4.7127, -0.1660, -2.3940],\n",
            "        [ 0.2821,  1.4427,  0.3789],\n",
            "        [-1.6298,  1.3386, -1.6126],\n",
            "        [ 3.1418, -1.2601,  2.2101]], dtype=torch.float64)\n",
            "The softmax-activated raw scores matrix:\n",
            "tensor([[0.3161, 0.3081, 0.3759],\n",
            "        [0.8321, 0.0119, 0.1560],\n",
            "        [0.0095, 0.8942, 0.0963],\n",
            "        [0.1889, 0.6030, 0.2081],\n",
            "        [0.0466, 0.9061, 0.0474],\n",
            "        [0.7112, 0.0087, 0.2801]], dtype=torch.float64)\n",
            "One-hot encoded true output labels matrix:tensor([[0., 1., 0.],\n",
            "        [1., 0., 0.],\n",
            "        [0., 1., 0.],\n",
            "        [0., 0., 1.],\n",
            "        [1., 0., 0.],\n",
            "        [0., 0., 1.]], dtype=torch.float64)\n",
            "Hadamard product of Y and A:tensor([[0.0000, 0.3081, 0.0000],\n",
            "        [0.8321, 0.0000, 0.0000],\n",
            "        [0.0000, 0.8942, 0.0000],\n",
            "        [0.0000, 0.0000, 0.2081],\n",
            "        [0.0466, 0.0000, 0.0000],\n",
            "        [0.0000, 0.0000, 0.2801]], dtype=torch.float64)\n",
            "tensor([0.3081, 0.8321, 0.8942, 0.2081, 0.0466, 0.2801], dtype=torch.float64)\n",
            "tensor([1.1774, 0.1838, 0.1118, 1.5697, 3.0671, 1.2726], dtype=torch.float64)\n",
            "tensor(1.2304, dtype=torch.float64)\n",
            "Average training loss = 1.2303940464309857\n"
          ]
        }
      ],
      "source": [
        "# Standardize the data\n",
        "sc = StandardScaler() # create a standard scaler object\n",
        "X_std = torch.tensor(sc.fit_transform(X), dtype = torch.float64)\n",
        "print(f'The standardized data matrix:\\n{X_std}')\n",
        "\n",
        "# The one-hot encoded true output labels matrix\n",
        "print(f'One-hot encoded true output labels matrx:\\n{Y}')\n",
        "\n",
        "# Calculate the raw scores using the standardized data matrix\n",
        "# and the weights matrix\n",
        "print(f'The weights matrix:\\n{W}')\n",
        "Z = torch.matmul(X_std, W)\n",
        "print(f'The raw scores matrix:\\n{Z}')\n",
        "\n",
        "# Calculate the softmax-activated scores matrix\n",
        "softmax = torch.nn.Softmax(dim = 1)\n",
        "A = softmax(Z)\n",
        "print(f'The softmax-activated raw scores matrix:\\n{A}')\n",
        "\n",
        "# Quantify the unhappiness w.r.t. the current set of weights\n",
        "print(f'One-hot encoded true output labels matrix:{Y}')\n",
        "print(f'Hadamard product of Y and A:{Y*A}')\n",
        "print(torch.sum(Y*A, dim=1))\n",
        "print(-torch.log(torch.sum(Y*A, dim=1)))\n",
        "print(torch.mean(-torch.log(torch.sum(Y*A, dim=1))))\n",
        "# Calculate the average training loss\n",
        "L = torch.mean(-torch.log(torch.sum(Y*A, dim=1)))\n",
        "print(f'Average training loss = {L}')"
      ]
    },
    {
      "cell_type": "code",
      "source": [],
      "metadata": {
        "id": "uf_dSagSgKgY"
      },
      "execution_count": null,
      "outputs": []
    },
    {
      "cell_type": "markdown",
      "metadata": {
        "id": "xHosp-fHBRqA"
      },
      "source": [
        "---\n",
        "\n",
        "A detour to data structures in Python\n",
        "\n",
        "---"
      ]
    },
    {
      "cell_type": "code",
      "execution_count": null,
      "metadata": {
        "colab": {
          "base_uri": "https://localhost:8080/"
        },
        "id": "_RUy0ovx_DD6",
        "outputId": "09a52989-6cba-4abe-e6a2-b134dcaaff15"
      },
      "outputs": [
        {
          "name": "stdout",
          "output_type": "stream",
          "text": [
            "tensor([1., 2., 3.])\n",
            "<class 'torch.Tensor'>\n",
            "torch.Size([3])\n",
            "-------\n",
            "[1. 2. 3.]\n",
            "<class 'numpy.ndarray'>\n",
            "(3,)\n",
            "------\n",
            "[1.0, 2.0, 3.0]\n",
            "<class 'list'>\n",
            "------\n",
            "(1.0, 2.0, 3.0)\n",
            "<class 'tuple'>\n"
          ]
        }
      ],
      "source": [
        "# PyTorch tensor\n",
        "a = torch.tensor([1.0, 2.0, 3.0])\n",
        "print(a)\n",
        "print(type(a))\n",
        "print(a.shape)\n",
        "print('-------')\n",
        "\n",
        "# Numpy array\n",
        "b = np.array([1.0, 2.0, 3.0])\n",
        "print(b)\n",
        "print(type(b))\n",
        "print(b.shape)\n",
        "print('------')\n",
        "\n",
        "# List\n",
        "c = [1.0, 2.0, 3.0]\n",
        "print(c)\n",
        "print(type(c))\n",
        "#print(c.shape) # does not work\n",
        "print('------')\n",
        "\n",
        "# Tuple\n",
        "d = (1.0, 2.0, 3.0)\n",
        "print(d)\n",
        "print(type(d))\n",
        "#print(d.shape) # does not work"
      ]
    },
    {
      "cell_type": "markdown",
      "metadata": {
        "id": "g6oLUxSbibvy"
      },
      "source": [
        "---\n",
        "\n",
        "Read hourly temperature data for multiple cities\n",
        "\n",
        "---"
      ]
    },
    {
      "cell_type": "code",
      "execution_count": null,
      "metadata": {
        "colab": {
          "base_uri": "https://localhost:8080/",
          "height": 478
        },
        "id": "WxY-tjdyigHQ",
        "outputId": "c27bd435-97bd-472e-e6cb-dc0fcef1e101"
      },
      "outputs": [
        {
          "data": {
            "application/vnd.google.colaboratory.intrinsic+json": {
              "type": "dataframe",
              "variable_name": "df_temp"
            },
            "text/html": [
              "\n",
              "  <div id=\"df-1c7ac9dc-fb13-46dc-bd5f-36f18e6cbce0\" class=\"colab-df-container\">\n",
              "    <div>\n",
              "<style scoped>\n",
              "    .dataframe tbody tr th:only-of-type {\n",
              "        vertical-align: middle;\n",
              "    }\n",
              "\n",
              "    .dataframe tbody tr th {\n",
              "        vertical-align: top;\n",
              "    }\n",
              "\n",
              "    .dataframe thead th {\n",
              "        text-align: right;\n",
              "    }\n",
              "</style>\n",
              "<table border=\"1\" class=\"dataframe\">\n",
              "  <thead>\n",
              "    <tr style=\"text-align: right;\">\n",
              "      <th></th>\n",
              "      <th>Vancouver</th>\n",
              "      <th>Portland</th>\n",
              "      <th>San Francisco</th>\n",
              "      <th>Seattle</th>\n",
              "      <th>Los Angeles</th>\n",
              "      <th>San Diego</th>\n",
              "      <th>Las Vegas</th>\n",
              "      <th>Phoenix</th>\n",
              "      <th>Albuquerque</th>\n",
              "      <th>Denver</th>\n",
              "      <th>...</th>\n",
              "      <th>Philadelphia</th>\n",
              "      <th>New York</th>\n",
              "      <th>Montreal</th>\n",
              "      <th>Boston</th>\n",
              "      <th>Beersheba</th>\n",
              "      <th>Tel Aviv District</th>\n",
              "      <th>Eilat</th>\n",
              "      <th>Haifa</th>\n",
              "      <th>Nahariyya</th>\n",
              "      <th>Jerusalem</th>\n",
              "    </tr>\n",
              "    <tr>\n",
              "      <th>datetime</th>\n",
              "      <th></th>\n",
              "      <th></th>\n",
              "      <th></th>\n",
              "      <th></th>\n",
              "      <th></th>\n",
              "      <th></th>\n",
              "      <th></th>\n",
              "      <th></th>\n",
              "      <th></th>\n",
              "      <th></th>\n",
              "      <th></th>\n",
              "      <th></th>\n",
              "      <th></th>\n",
              "      <th></th>\n",
              "      <th></th>\n",
              "      <th></th>\n",
              "      <th></th>\n",
              "      <th></th>\n",
              "      <th></th>\n",
              "      <th></th>\n",
              "      <th></th>\n",
              "    </tr>\n",
              "  </thead>\n",
              "  <tbody>\n",
              "    <tr>\n",
              "      <th>2012-10-01 13:00:00</th>\n",
              "      <td>284.630000</td>\n",
              "      <td>282.080000</td>\n",
              "      <td>289.480000</td>\n",
              "      <td>281.800000</td>\n",
              "      <td>291.870000</td>\n",
              "      <td>291.530000</td>\n",
              "      <td>293.410000</td>\n",
              "      <td>296.600000</td>\n",
              "      <td>285.120000</td>\n",
              "      <td>284.610000</td>\n",
              "      <td>...</td>\n",
              "      <td>285.630000</td>\n",
              "      <td>288.220000</td>\n",
              "      <td>285.830000</td>\n",
              "      <td>287.170000</td>\n",
              "      <td>307.590000</td>\n",
              "      <td>305.470000</td>\n",
              "      <td>310.580000</td>\n",
              "      <td>304.4</td>\n",
              "      <td>304.4</td>\n",
              "      <td>303.5</td>\n",
              "    </tr>\n",
              "    <tr>\n",
              "      <th>2012-10-01 14:00:00</th>\n",
              "      <td>284.629041</td>\n",
              "      <td>282.083252</td>\n",
              "      <td>289.474993</td>\n",
              "      <td>281.797217</td>\n",
              "      <td>291.868186</td>\n",
              "      <td>291.533501</td>\n",
              "      <td>293.403141</td>\n",
              "      <td>296.608509</td>\n",
              "      <td>285.154558</td>\n",
              "      <td>284.607306</td>\n",
              "      <td>...</td>\n",
              "      <td>285.663208</td>\n",
              "      <td>288.247676</td>\n",
              "      <td>285.834650</td>\n",
              "      <td>287.186092</td>\n",
              "      <td>307.590000</td>\n",
              "      <td>304.310000</td>\n",
              "      <td>310.495769</td>\n",
              "      <td>304.4</td>\n",
              "      <td>304.4</td>\n",
              "      <td>303.5</td>\n",
              "    </tr>\n",
              "    <tr>\n",
              "      <th>2012-10-01 15:00:00</th>\n",
              "      <td>284.626998</td>\n",
              "      <td>282.091866</td>\n",
              "      <td>289.460618</td>\n",
              "      <td>281.789833</td>\n",
              "      <td>291.862844</td>\n",
              "      <td>291.543355</td>\n",
              "      <td>293.392177</td>\n",
              "      <td>296.631487</td>\n",
              "      <td>285.233952</td>\n",
              "      <td>284.599918</td>\n",
              "      <td>...</td>\n",
              "      <td>285.756824</td>\n",
              "      <td>288.326940</td>\n",
              "      <td>285.847790</td>\n",
              "      <td>287.231672</td>\n",
              "      <td>307.391513</td>\n",
              "      <td>304.281841</td>\n",
              "      <td>310.411538</td>\n",
              "      <td>304.4</td>\n",
              "      <td>304.4</td>\n",
              "      <td>303.5</td>\n",
              "    </tr>\n",
              "    <tr>\n",
              "      <th>2012-10-01 16:00:00</th>\n",
              "      <td>284.624955</td>\n",
              "      <td>282.100481</td>\n",
              "      <td>289.446243</td>\n",
              "      <td>281.782449</td>\n",
              "      <td>291.857503</td>\n",
              "      <td>291.553209</td>\n",
              "      <td>293.381213</td>\n",
              "      <td>296.654466</td>\n",
              "      <td>285.313345</td>\n",
              "      <td>284.592530</td>\n",
              "      <td>...</td>\n",
              "      <td>285.850440</td>\n",
              "      <td>288.406203</td>\n",
              "      <td>285.860929</td>\n",
              "      <td>287.277251</td>\n",
              "      <td>307.145200</td>\n",
              "      <td>304.238015</td>\n",
              "      <td>310.327308</td>\n",
              "      <td>304.4</td>\n",
              "      <td>304.4</td>\n",
              "      <td>303.5</td>\n",
              "    </tr>\n",
              "    <tr>\n",
              "      <th>2012-10-01 17:00:00</th>\n",
              "      <td>284.622911</td>\n",
              "      <td>282.109095</td>\n",
              "      <td>289.431869</td>\n",
              "      <td>281.775065</td>\n",
              "      <td>291.852162</td>\n",
              "      <td>291.563063</td>\n",
              "      <td>293.370249</td>\n",
              "      <td>296.677445</td>\n",
              "      <td>285.392738</td>\n",
              "      <td>284.585142</td>\n",
              "      <td>...</td>\n",
              "      <td>285.944057</td>\n",
              "      <td>288.485467</td>\n",
              "      <td>285.874069</td>\n",
              "      <td>287.322831</td>\n",
              "      <td>306.898887</td>\n",
              "      <td>304.194188</td>\n",
              "      <td>310.243077</td>\n",
              "      <td>304.4</td>\n",
              "      <td>304.4</td>\n",
              "      <td>303.5</td>\n",
              "    </tr>\n",
              "  </tbody>\n",
              "</table>\n",
              "<p>5 rows × 36 columns</p>\n",
              "</div>\n",
              "    <div class=\"colab-df-buttons\">\n",
              "\n",
              "  <div class=\"colab-df-container\">\n",
              "    <button class=\"colab-df-convert\" onclick=\"convertToInteractive('df-1c7ac9dc-fb13-46dc-bd5f-36f18e6cbce0')\"\n",
              "            title=\"Convert this dataframe to an interactive table.\"\n",
              "            style=\"display:none;\">\n",
              "\n",
              "  <svg xmlns=\"http://www.w3.org/2000/svg\" height=\"24px\" viewBox=\"0 -960 960 960\">\n",
              "    <path d=\"M120-120v-720h720v720H120Zm60-500h600v-160H180v160Zm220 220h160v-160H400v160Zm0 220h160v-160H400v160ZM180-400h160v-160H180v160Zm440 0h160v-160H620v160ZM180-180h160v-160H180v160Zm440 0h160v-160H620v160Z\"/>\n",
              "  </svg>\n",
              "    </button>\n",
              "\n",
              "  <style>\n",
              "    .colab-df-container {\n",
              "      display:flex;\n",
              "      gap: 12px;\n",
              "    }\n",
              "\n",
              "    .colab-df-convert {\n",
              "      background-color: #E8F0FE;\n",
              "      border: none;\n",
              "      border-radius: 50%;\n",
              "      cursor: pointer;\n",
              "      display: none;\n",
              "      fill: #1967D2;\n",
              "      height: 32px;\n",
              "      padding: 0 0 0 0;\n",
              "      width: 32px;\n",
              "    }\n",
              "\n",
              "    .colab-df-convert:hover {\n",
              "      background-color: #E2EBFA;\n",
              "      box-shadow: 0px 1px 2px rgba(60, 64, 67, 0.3), 0px 1px 3px 1px rgba(60, 64, 67, 0.15);\n",
              "      fill: #174EA6;\n",
              "    }\n",
              "\n",
              "    .colab-df-buttons div {\n",
              "      margin-bottom: 4px;\n",
              "    }\n",
              "\n",
              "    [theme=dark] .colab-df-convert {\n",
              "      background-color: #3B4455;\n",
              "      fill: #D2E3FC;\n",
              "    }\n",
              "\n",
              "    [theme=dark] .colab-df-convert:hover {\n",
              "      background-color: #434B5C;\n",
              "      box-shadow: 0px 1px 3px 1px rgba(0, 0, 0, 0.15);\n",
              "      filter: drop-shadow(0px 1px 2px rgba(0, 0, 0, 0.3));\n",
              "      fill: #FFFFFF;\n",
              "    }\n",
              "  </style>\n",
              "\n",
              "    <script>\n",
              "      const buttonEl =\n",
              "        document.querySelector('#df-1c7ac9dc-fb13-46dc-bd5f-36f18e6cbce0 button.colab-df-convert');\n",
              "      buttonEl.style.display =\n",
              "        google.colab.kernel.accessAllowed ? 'block' : 'none';\n",
              "\n",
              "      async function convertToInteractive(key) {\n",
              "        const element = document.querySelector('#df-1c7ac9dc-fb13-46dc-bd5f-36f18e6cbce0');\n",
              "        const dataTable =\n",
              "          await google.colab.kernel.invokeFunction('convertToInteractive',\n",
              "                                                    [key], {});\n",
              "        if (!dataTable) return;\n",
              "\n",
              "        const docLinkHtml = 'Like what you see? Visit the ' +\n",
              "          '<a target=\"_blank\" href=https://colab.research.google.com/notebooks/data_table.ipynb>data table notebook</a>'\n",
              "          + ' to learn more about interactive tables.';\n",
              "        element.innerHTML = '';\n",
              "        dataTable['output_type'] = 'display_data';\n",
              "        await google.colab.output.renderOutput(dataTable, element);\n",
              "        const docLink = document.createElement('div');\n",
              "        docLink.innerHTML = docLinkHtml;\n",
              "        element.appendChild(docLink);\n",
              "      }\n",
              "    </script>\n",
              "  </div>\n",
              "\n",
              "\n",
              "    <div id=\"df-ac2d3bac-4352-4533-91ba-c2ddac336ca2\">\n",
              "      <button class=\"colab-df-quickchart\" onclick=\"quickchart('df-ac2d3bac-4352-4533-91ba-c2ddac336ca2')\"\n",
              "                title=\"Suggest charts\"\n",
              "                style=\"display:none;\">\n",
              "\n",
              "<svg xmlns=\"http://www.w3.org/2000/svg\" height=\"24px\"viewBox=\"0 0 24 24\"\n",
              "     width=\"24px\">\n",
              "    <g>\n",
              "        <path d=\"M19 3H5c-1.1 0-2 .9-2 2v14c0 1.1.9 2 2 2h14c1.1 0 2-.9 2-2V5c0-1.1-.9-2-2-2zM9 17H7v-7h2v7zm4 0h-2V7h2v10zm4 0h-2v-4h2v4z\"/>\n",
              "    </g>\n",
              "</svg>\n",
              "      </button>\n",
              "\n",
              "<style>\n",
              "  .colab-df-quickchart {\n",
              "      --bg-color: #E8F0FE;\n",
              "      --fill-color: #1967D2;\n",
              "      --hover-bg-color: #E2EBFA;\n",
              "      --hover-fill-color: #174EA6;\n",
              "      --disabled-fill-color: #AAA;\n",
              "      --disabled-bg-color: #DDD;\n",
              "  }\n",
              "\n",
              "  [theme=dark] .colab-df-quickchart {\n",
              "      --bg-color: #3B4455;\n",
              "      --fill-color: #D2E3FC;\n",
              "      --hover-bg-color: #434B5C;\n",
              "      --hover-fill-color: #FFFFFF;\n",
              "      --disabled-bg-color: #3B4455;\n",
              "      --disabled-fill-color: #666;\n",
              "  }\n",
              "\n",
              "  .colab-df-quickchart {\n",
              "    background-color: var(--bg-color);\n",
              "    border: none;\n",
              "    border-radius: 50%;\n",
              "    cursor: pointer;\n",
              "    display: none;\n",
              "    fill: var(--fill-color);\n",
              "    height: 32px;\n",
              "    padding: 0;\n",
              "    width: 32px;\n",
              "  }\n",
              "\n",
              "  .colab-df-quickchart:hover {\n",
              "    background-color: var(--hover-bg-color);\n",
              "    box-shadow: 0 1px 2px rgba(60, 64, 67, 0.3), 0 1px 3px 1px rgba(60, 64, 67, 0.15);\n",
              "    fill: var(--button-hover-fill-color);\n",
              "  }\n",
              "\n",
              "  .colab-df-quickchart-complete:disabled,\n",
              "  .colab-df-quickchart-complete:disabled:hover {\n",
              "    background-color: var(--disabled-bg-color);\n",
              "    fill: var(--disabled-fill-color);\n",
              "    box-shadow: none;\n",
              "  }\n",
              "\n",
              "  .colab-df-spinner {\n",
              "    border: 2px solid var(--fill-color);\n",
              "    border-color: transparent;\n",
              "    border-bottom-color: var(--fill-color);\n",
              "    animation:\n",
              "      spin 1s steps(1) infinite;\n",
              "  }\n",
              "\n",
              "  @keyframes spin {\n",
              "    0% {\n",
              "      border-color: transparent;\n",
              "      border-bottom-color: var(--fill-color);\n",
              "      border-left-color: var(--fill-color);\n",
              "    }\n",
              "    20% {\n",
              "      border-color: transparent;\n",
              "      border-left-color: var(--fill-color);\n",
              "      border-top-color: var(--fill-color);\n",
              "    }\n",
              "    30% {\n",
              "      border-color: transparent;\n",
              "      border-left-color: var(--fill-color);\n",
              "      border-top-color: var(--fill-color);\n",
              "      border-right-color: var(--fill-color);\n",
              "    }\n",
              "    40% {\n",
              "      border-color: transparent;\n",
              "      border-right-color: var(--fill-color);\n",
              "      border-top-color: var(--fill-color);\n",
              "    }\n",
              "    60% {\n",
              "      border-color: transparent;\n",
              "      border-right-color: var(--fill-color);\n",
              "    }\n",
              "    80% {\n",
              "      border-color: transparent;\n",
              "      border-right-color: var(--fill-color);\n",
              "      border-bottom-color: var(--fill-color);\n",
              "    }\n",
              "    90% {\n",
              "      border-color: transparent;\n",
              "      border-bottom-color: var(--fill-color);\n",
              "    }\n",
              "  }\n",
              "</style>\n",
              "\n",
              "      <script>\n",
              "        async function quickchart(key) {\n",
              "          const quickchartButtonEl =\n",
              "            document.querySelector('#' + key + ' button');\n",
              "          quickchartButtonEl.disabled = true;  // To prevent multiple clicks.\n",
              "          quickchartButtonEl.classList.add('colab-df-spinner');\n",
              "          try {\n",
              "            const charts = await google.colab.kernel.invokeFunction(\n",
              "                'suggestCharts', [key], {});\n",
              "          } catch (error) {\n",
              "            console.error('Error during call to suggestCharts:', error);\n",
              "          }\n",
              "          quickchartButtonEl.classList.remove('colab-df-spinner');\n",
              "          quickchartButtonEl.classList.add('colab-df-quickchart-complete');\n",
              "        }\n",
              "        (() => {\n",
              "          let quickchartButtonEl =\n",
              "            document.querySelector('#df-ac2d3bac-4352-4533-91ba-c2ddac336ca2 button');\n",
              "          quickchartButtonEl.style.display =\n",
              "            google.colab.kernel.accessAllowed ? 'block' : 'none';\n",
              "        })();\n",
              "      </script>\n",
              "    </div>\n",
              "\n",
              "    </div>\n",
              "  </div>\n"
            ],
            "text/plain": [
              "                      Vancouver    Portland  San Francisco     Seattle  \\\n",
              "datetime                                                                 \n",
              "2012-10-01 13:00:00  284.630000  282.080000     289.480000  281.800000   \n",
              "2012-10-01 14:00:00  284.629041  282.083252     289.474993  281.797217   \n",
              "2012-10-01 15:00:00  284.626998  282.091866     289.460618  281.789833   \n",
              "2012-10-01 16:00:00  284.624955  282.100481     289.446243  281.782449   \n",
              "2012-10-01 17:00:00  284.622911  282.109095     289.431869  281.775065   \n",
              "\n",
              "                     Los Angeles   San Diego   Las Vegas     Phoenix  \\\n",
              "datetime                                                               \n",
              "2012-10-01 13:00:00   291.870000  291.530000  293.410000  296.600000   \n",
              "2012-10-01 14:00:00   291.868186  291.533501  293.403141  296.608509   \n",
              "2012-10-01 15:00:00   291.862844  291.543355  293.392177  296.631487   \n",
              "2012-10-01 16:00:00   291.857503  291.553209  293.381213  296.654466   \n",
              "2012-10-01 17:00:00   291.852162  291.563063  293.370249  296.677445   \n",
              "\n",
              "                     Albuquerque      Denver  ...  Philadelphia    New York  \\\n",
              "datetime                                      ...                             \n",
              "2012-10-01 13:00:00   285.120000  284.610000  ...    285.630000  288.220000   \n",
              "2012-10-01 14:00:00   285.154558  284.607306  ...    285.663208  288.247676   \n",
              "2012-10-01 15:00:00   285.233952  284.599918  ...    285.756824  288.326940   \n",
              "2012-10-01 16:00:00   285.313345  284.592530  ...    285.850440  288.406203   \n",
              "2012-10-01 17:00:00   285.392738  284.585142  ...    285.944057  288.485467   \n",
              "\n",
              "                       Montreal      Boston   Beersheba  Tel Aviv District  \\\n",
              "datetime                                                                     \n",
              "2012-10-01 13:00:00  285.830000  287.170000  307.590000         305.470000   \n",
              "2012-10-01 14:00:00  285.834650  287.186092  307.590000         304.310000   \n",
              "2012-10-01 15:00:00  285.847790  287.231672  307.391513         304.281841   \n",
              "2012-10-01 16:00:00  285.860929  287.277251  307.145200         304.238015   \n",
              "2012-10-01 17:00:00  285.874069  287.322831  306.898887         304.194188   \n",
              "\n",
              "                          Eilat  Haifa  Nahariyya  Jerusalem  \n",
              "datetime                                                      \n",
              "2012-10-01 13:00:00  310.580000  304.4      304.4      303.5  \n",
              "2012-10-01 14:00:00  310.495769  304.4      304.4      303.5  \n",
              "2012-10-01 15:00:00  310.411538  304.4      304.4      303.5  \n",
              "2012-10-01 16:00:00  310.327308  304.4      304.4      303.5  \n",
              "2012-10-01 17:00:00  310.243077  304.4      304.4      303.5  \n",
              "\n",
              "[5 rows x 36 columns]"
            ]
          },
          "execution_count": 6,
          "metadata": {},
          "output_type": "execute_result"
        }
      ],
      "source": [
        "## Read hourly temperature data for multiple cities\n",
        "FILE = DATA_DIR + 'temperature.csv'\n",
        "df_temp = pd.read_csv(FILE,sep=',',header=0,skiprows=[1])\n",
        "df_temp['datetime'] = pd.to_datetime(df_temp['datetime'], format='%Y-%m-%d %H:%M:%S')\n",
        "df_temp = df_temp.set_index('datetime')\n",
        "df_temp.head(5)"
      ]
    },
    {
      "cell_type": "markdown",
      "metadata": {
        "id": "OOfaJiJOjVfz"
      },
      "source": [
        "---\n",
        "\n",
        "Extract daily temperature vectors for San Francisco for October 2, 2012 and December 2, 2012 and make component plots of those vectors\n",
        "\n",
        "---"
      ]
    },
    {
      "cell_type": "code",
      "execution_count": null,
      "metadata": {
        "colab": {
          "base_uri": "https://localhost:8080/"
        },
        "id": "EdaS3MOyFEV7",
        "outputId": "d04c0b9e-eb8a-4f24-c916-faf8b8732c26"
      },
      "outputs": [
        {
          "data": {
            "text/plain": [
              "2"
            ]
          },
          "execution_count": 12,
          "metadata": {},
          "output_type": "execute_result"
        }
      ],
      "source": [
        "a=df_temp['Vancouver'] #named array is called a series\n",
        "# df_temp['Vancouver'].values #numpy array\n",
        "# df_temp.iloc[1:4,0]\n",
        "# df_temp.index\n",
        "df_temp.index.get_loc('2012-10-02')\n",
        "df_temp.columns.get_loc('San Francisco')"
      ]
    },
    {
      "cell_type": "code",
      "execution_count": null,
      "metadata": {
        "colab": {
          "base_uri": "https://localhost:8080/",
          "height": 824
        },
        "id": "pCX3O2DkjXVU",
        "outputId": "8455316c-8512-4d1a-e269-6608c105ab93"
      },
      "outputs": [
        {
          "name": "stdout",
          "output_type": "stream",
          "text": [
            "T1:  [16.18124581 16.16687111 16.15249641 16.13812171 16.12374701 16.10937231\n",
            " 16.0949976  16.0806229  16.0662482  16.0518735  16.0374988  16.0231241\n",
            " 16.0087494  15.9943747  15.98       17.58       19.87       23.03\n",
            " 26.51       26.88       27.92       29.14       31.55       31.71      ]\n",
            "T2:  [15.24 14.93 14.74 14.7  14.5  14.46 14.28 14.02 14.23 14.17 14.4  14.07\n",
            " 14.06 14.36 13.92 14.04 14.16 14.16 15.6  16.39 16.57 17.08 16.83 16.52]\n"
          ]
        },
        {
          "data": {
            "text/plain": [
              "[<matplotlib.lines.Line2D at 0x7e7533d0c550>]"
            ]
          },
          "execution_count": 13,
          "metadata": {},
          "output_type": "execute_result"
        },
        {
          "data": {
            "image/png": "[encoded data removed]",
            "text/plain": [
              "<Figure size 600x800 with 2 Axes>"
            ]
          },
          "metadata": {},
          "output_type": "display_data"
        }
      ],
      "source": [
        "# Temperature vector for San Francisco for 2012-10-02\n",
        "t1 = df_temp.iloc[df_temp.index.get_loc('2012-10-02'),df_temp.columns.get_loc('San Francisco')].values\n",
        "t1 = t1-273.15\n",
        "print(\"T1: \",t1)\n",
        "\n",
        "# Temperature vector for San Francisco for 2012-12-02\n",
        "t2 = df_temp.iloc[df_temp.index.get_loc('2012-12-02'),df_temp.columns.get_loc('San Francisco')].values\n",
        "t2 = t2-273.15\n",
        "print(\"T2: \",t2)\n",
        "\n",
        "# # Plot temperature vectors for both days\n",
        "fig,(ax1,ax2)=plt.subplots(2,1,figsize=(6,8))\n",
        "component_index=range(0,len(t1))\n",
        "ax1.set_xlabel('hour')\n",
        "ax1.set_ylabel('Temp')\n",
        "ax1.set_title('Temperature vector for San Francisco for 2012-10-02')\n",
        "# plt.legend()\n",
        "ax1.plot(component_index,[np.mean(t1)]*len(t1), color='blue', linestyle='dashed',linewidth=1)\n",
        "ax1.plot(component_index,[np.mean(t1)+np.std(t1)]*len(t1), color='red', linestyle='dashed',linewidth=1)\n",
        "ax1.plot(component_index,[np.mean(t1)-np.std(t1)]*len(t1), color='red', linestyle='dashed',linewidth=1)\n",
        "ax1.plot(component_index,t1,color='green',marker='.')\n",
        "\n",
        "ax2.set_xlabel='hour'\n",
        "ax2.set_ylabel='Temp'\n",
        "ax2.set_title('Temperature vector for San Francisco for 2012-12-02')\n",
        "ax2.plot(component_index,[np.mean(t2)]*len(t2),color='Blue',linestyle='dashed',linewidth=2)\n",
        "ax2.plot(component_index,[np.mean(t2)-np.std(t2)]*len(t1),color='red', linestyle='dashed',linewidth=1)\n",
        "ax2.plot(component_index,[np.mean(t2)+np.std(t2)]*len(t1),color='red', linestyle='dashed',linewidth=1)\n",
        "ax2.plot(component_index,t2,color='green',marker='.')\n"
      ]
    },
    {
      "cell_type": "code",
      "execution_count": null,
      "metadata": {
        "colab": {
          "base_uri": "https://localhost:8080/",
          "height": 430
        },
        "id": "uLr47EYAkbzV",
        "outputId": "1c41c80a-2231-4338-b5d9-75044a2533f7"
      },
      "outputs": [
        {
          "data": {
            "image/png": "[encoded data removed]",
            "text/plain": [
              "<Figure size 640x480 with 1 Axes>"
            ]
          },
          "metadata": {},
          "output_type": "display_data"
        }
      ],
      "source": [
        "import matplotlib.pyplot as plt\n",
        "\n",
        "line1, = plt.plot([1, 2, 3], [2, 4, 6])  # create a line\n",
        "line1.set_label(\"Speed = 2 m/s\")         # set its label\n",
        "\n",
        "plt.legend()  # show the legend\n",
        "plt.show()"
      ]
    },
    {
      "cell_type": "markdown",
      "metadata": {
        "id": "0XHj06rFot3v"
      },
      "source": [
        "---\n",
        "\n",
        "Mean-center the daily temperature vectors for San Francisco for October 2, 2012 and December 2, 2012 and make component plots of those vectors\n",
        "\n",
        "---"
      ]
    },
    {
      "cell_type": "code",
      "execution_count": null,
      "metadata": {
        "colab": {
          "base_uri": "https://localhost:8080/",
          "height": 860
        },
        "id": "J7pJlYVqpDBJ",
        "outputId": "3bbed51f-45ff-4cfe-872e-bdeef8bd19f0"
      },
      "outputs": [
        {
          "name": "stdout",
          "output_type": "stream",
          "text": [
            "[-3.62706017 -3.64143487 -3.65580958 -3.67018428 -3.68455898 -3.69893368\n",
            " -3.71330838 -3.72768308 -3.74205778 -3.75643248 -3.77080718 -3.78518188\n",
            " -3.79955658 -3.81393128 -3.82830598 -2.22830598  0.06169402  3.22169402\n",
            "  6.70169402  7.07169402  8.11169402  9.33169402 11.74169402 11.90169402]\n",
            "[ 0.34708333  0.03708333 -0.15291667 -0.19291667 -0.39291667 -0.43291667\n",
            " -0.61291667 -0.87291667 -0.66291667 -0.72291667 -0.49291667 -0.82291667\n",
            " -0.83291667 -0.53291667 -0.97291667 -0.85291667 -0.73291667 -0.73291667\n",
            "  0.70708333  1.49708333  1.67708333  2.18708333  1.93708333  1.62708333]\n"
          ]
        },
        {
          "data": {
            "text/plain": [
              "[<matplotlib.lines.Line2D at 0x7e7533d88a90>]"
            ]
          },
          "execution_count": 15,
          "metadata": {},
          "output_type": "execute_result"
        },
        {
          "data": {
            "image/png": "[encoded data removed]",
            "text/plain": [
              "<Figure size 600x800 with 2 Axes>"
            ]
          },
          "metadata": {},
          "output_type": "display_data"
        }
      ],
      "source": [
        "# Mean-centered temperature vector for San Francisco for 2012-10-02\n",
        "t1_mc = t1-np.mean(t1)\n",
        "print(t1_mc)\n",
        "\n",
        "# Mean-centered temperature vector for San Francisco for 2012-12-02\n",
        "t2_mc = t2-np.mean(t2)\n",
        "print(t2_mc)\n",
        "\n",
        "# Plot mean-centered temperature vectors for both days\n",
        "fig,(ax1,ax2)=plt.subplots(2,1,figsize=(6,8))\n",
        "component_index=range(0,len(t1_mc))\n",
        "ax1.set_xlabel('hour')\n",
        "ax1.set_ylabel('Temp')\n",
        "ax1.set_title('Mean-centered temperature vector for San Francisco for 2012-10-02')\n",
        "# plt.legend()\n",
        "ax1.plot(component_index,[np.mean(t1_mc)]*len(t1_mc), color='purple', linestyle='dashed',linewidth=1)\n",
        "ax1.plot(component_index,[np.mean(t1_mc)+np.std(t1_mc)]*len(t1_mc), color='pink', linestyle='dashed',linewidth=1)\n",
        "ax1.plot(component_index,[np.mean(t1_mc)-np.std(t1_mc)]*len(t1_mc), color='pink', linestyle='dashed',linewidth=1)\n",
        "ax1.plot(component_index,t1_mc,color='green',marker='.')\n",
        "\n",
        "ax2.set_xlabel='hour'\n",
        "ax2.set_ylabel='Temp'\n",
        "ax2.set_title('Mean-centered temperature vector for San Francisco for 2012-12-02')\n",
        "ax2.plot(component_index,[np.mean(t2_mc)]*len(t2_mc),color='purple',linestyle='dashed',linewidth=2)\n",
        "ax2.plot(component_index,[np.mean(t2_mc)-np.std(t2_mc)]*len(t2_mc),color='pink', linestyle='dashed',linewidth=1)\n",
        "ax2.plot(component_index,[np.mean(t2_mc)+np.std(t2_mc)]*len(t2_mc),color='pink', linestyle='dashed',linewidth=1)\n",
        "ax2.plot(component_index,t2_mc,color='red',marker='.')"
      ]
    },
    {
      "cell_type": "markdown",
      "metadata": {
        "id": "xA2Vzv-kphSq"
      },
      "source": [
        "---\n",
        "\n",
        "Standardize daily temperature vectors for San Francisco for October 2, 2012 and December 2, 2012 and make component plots of those vectors\n",
        "\n",
        "---"
      ]
    },
    {
      "cell_type": "code",
      "execution_count": null,
      "metadata": {
        "colab": {
          "base_uri": "https://localhost:8080/",
          "height": 860
        },
        "id": "zasEwqTKptuz",
        "outputId": "e0f94222-f546-4dbb-8991-a766f6b2c826"
      },
      "outputs": [
        {
          "name": "stdout",
          "output_type": "stream",
          "text": [
            "[-0.64832707 -0.65089651 -0.65346595 -0.65603539 -0.65860483 -0.66117427\n",
            " -0.6637437  -0.66631314 -0.66888258 -0.67145202 -0.67402146 -0.6765909\n",
            " -0.67916033 -0.68172977 -0.68429921 -0.39830359  0.01102764  0.57586898\n",
            "  1.19790945  1.26404594  1.44994309  1.66801475  2.09879565  2.12739521]\n",
            "[ 0.34703204  0.03707785 -0.15289407 -0.19288815 -0.39285859 -0.43285268\n",
            " -0.61282608 -0.87278765 -0.66281869 -0.72280982 -0.49284382 -0.82279504\n",
            " -0.83279356 -0.5328379  -0.97277287 -0.85279061 -0.73280834 -0.73280834\n",
            "  0.70697883  1.49686207  1.67683547  2.18676009  1.93679704  1.62684286]\n"
          ]
        },
        {
          "data": {
            "text/plain": [
              "[<matplotlib.lines.Line2D at 0x7e7533804dd0>]"
            ]
          },
          "execution_count": 28,
          "metadata": {},
          "output_type": "execute_result"
        },
        {
          "data": {
            "image/png": "[encoded data removed]",
            "text/plain": [
              "<Figure size 600x800 with 2 Axes>"
            ]
          },
          "metadata": {},
          "output_type": "display_data"
        }
      ],
      "source": [
        "# Standardized temperature vector for San Francisco for 2012-10-02\n",
        "z1 = t1_mc/np.std(t1)\n",
        "print(z1)\n",
        "\n",
        "# Mean-centered temperature vector for San Francisco for 2012-12-02\n",
        "z2 = t2_mc/np.std(t2)\n",
        "print(z2)\n",
        "\n",
        "# Plot standardized temperature vectors for both days\n",
        "fig,(ax1,ax2)=plt.subplots(2,1,figsize=(6,8))\n",
        "component_index=range(0,len(z1))\n",
        "ax1.set_xlabel('hour')\n",
        "ax1.set_ylabel('Temp')\n",
        "ax1.set_title('Standardized temperature vector for San Francisco for 2012-10-02')\n",
        "# plt.legend()\n",
        "ax1.plot(component_index,[np.mean(z1)]*len(z1), color='purple', linestyle='dashed',linewidth=1)\n",
        "ax1.plot(component_index,[np.mean(z1)+np.std(z1)]*len(z1), color='pink', linestyle='dashed',linewidth=1)\n",
        "ax1.plot(component_index,[np.mean(z1)-np.std(z1)]*len(t1_mc), color='pink', linestyle='dashed',linewidth=1)\n",
        "ax1.plot(component_index,z1,color='red',marker='.')\n",
        "\n",
        "ax2.set_xlabel='hour'\n",
        "ax2.set_ylabel='Temp'\n",
        "ax2.set_title('Standardized temperature vector for San Francisco for 2012-12-02');\n",
        "ax2.plot(component_index,[np.mean(z2)]*len(z2),color='purple',linestyle='dashed',linewidth=2)\n",
        "ax2.plot(component_index,[np.mean(z2)-np.std(z2)]*len(z2),color='pink', linestyle='dashed',linewidth=1)\n",
        "ax2.plot(component_index,[np.mean(z2)+np.std(z2)]*len(z2),color='pink', linestyle='dashed',linewidth=1)\n",
        "ax2.plot(component_index,z2,color='red',marker='.')"
      ]
    },
    {
      "cell_type": "markdown",
      "metadata": {
        "id": "p4JI3Vxvp95B"
      },
      "source": [
        "---\n",
        "\n",
        "Identify outliers in the daily temperature vectors for San Francisco for October 2, 2012 and December 2, 2012\n",
        "\n",
        "---"
      ]
    },
    {
      "cell_type": "code",
      "execution_count": null,
      "metadata": {
        "colab": {
          "base_uri": "https://localhost:8080/"
        },
        "id": "pngfJpRLqHpz",
        "outputId": "bf98bb97-4eed-415f-9a00-43f6b0fd4336"
      },
      "outputs": [
        {
          "name": "stdout",
          "output_type": "stream",
          "text": [
            "On 2012-10-02, outliers hours were: [2.09879565 2.12739521]\n",
            "On 2012-10-02, outliers hours were: [2.18676009]\n"
          ]
        }
      ],
      "source": [
        "# Z-score threshold\n",
        "threshold = 2.0 #number of standard deviations beyond which samples are outliers\n",
        "outliers = z1[np.abs(z1) >= threshold]\n",
        "outliers2 = z2[np.abs(z2) >= threshold]\n",
        "print(f\"On 2012-10-02, outliers hours were: {outliers if outliers.size > 0 else 'None'}\")\n",
        "print(f\"On 2012-10-02, outliers hours were: {outliers2 if outliers2.size > 0 else 'None'}\")"
      ]
    },
    {
      "cell_type": "markdown",
      "metadata": {
        "id": "XRhsABfMv6bX"
      },
      "source": [
        "---\n",
        "\n",
        "Download popular stock prices data from Yahoo Finance for the range August 1, 2024 to August 1, 2025\n",
        "\n",
        "---"
      ]
    },
    {
      "cell_type": "code",
      "execution_count": null,
      "metadata": {
        "colab": {
          "base_uri": "https://localhost:8080/",
          "height": 290
        },
        "id": "uFLvp6n6wNnz",
        "outputId": "7e950ed1-ca1c-4cba-feb6-926373681305"
      },
      "outputs": [
        {
          "output_type": "stream",
          "name": "stderr",
          "text": [
            "/tmp/ipython-input-3698485642.py:3: FutureWarning: YF.download() has changed argument auto_adjust default to True\n",
            "  dfstock = yf.download(stocks, start = \"2024-08-01\", end = \"2025-08-01\")\n",
            "[*********************100%***********************]  10 of 10 completed\n"
          ]
        },
        {
          "output_type": "execute_result",
          "data": {
            "text/plain": [
              "Ticker            AAPL        AMZN        GOOG         JNJ         JPM  \\\n",
              "Date                                                                     \n",
              "2024-08-01  217.097183  184.070007  171.626068  154.552948  203.392670   \n",
              "2024-08-02  218.588501  167.899994  167.595413  157.802460  194.766373   \n",
              "2024-08-05  208.059738  161.020004  159.872498  155.024048  190.619476   \n",
              "2024-08-06  206.031540  161.929993  159.772964  152.832077  195.940002   \n",
              "2024-08-07  208.606567  162.770004  159.981964  152.764801  195.998688   \n",
              "\n",
              "Ticker            META        MSFT        NVDA        TSLA         XOM  \n",
              "Date                                                                    \n",
              "2024-08-01  496.041473  413.256989  109.175514  216.860001  111.967537  \n",
              "2024-08-02  486.474274  404.716644  107.236122  207.669998  111.900520  \n",
              "2024-08-05  474.106598  391.499878  100.418274  198.880005  109.880409  \n",
              "2024-08-06  492.403961  395.918671  104.217072  200.639999  109.296410  \n",
              "2024-08-07  487.251587  394.749542   98.878769  191.759995  110.751648  "
            ],
            "text/html": [
              "\n",
              "  <div id=\"df-e5713ae4-b4c4-41f8-825b-7a941a086c13\" class=\"colab-df-container\">\n",
              "    <div>\n",
              "<style scoped>\n",
              "    .dataframe tbody tr th:only-of-type {\n",
              "        vertical-align: middle;\n",
              "    }\n",
              "\n",
              "    .dataframe tbody tr th {\n",
              "        vertical-align: top;\n",
              "    }\n",
              "\n",
              "    .dataframe thead th {\n",
              "        text-align: right;\n",
              "    }\n",
              "</style>\n",
              "<table border=\"1\" class=\"dataframe\">\n",
              "  <thead>\n",
              "    <tr style=\"text-align: right;\">\n",
              "      <th>Ticker</th>\n",
              "      <th>AAPL</th>\n",
              "      <th>AMZN</th>\n",
              "      <th>GOOG</th>\n",
              "      <th>JNJ</th>\n",
              "      <th>JPM</th>\n",
              "      <th>META</th>\n",
              "      <th>MSFT</th>\n",
              "      <th>NVDA</th>\n",
              "      <th>TSLA</th>\n",
              "      <th>XOM</th>\n",
              "    </tr>\n",
              "    <tr>\n",
              "      <th>Date</th>\n",
              "      <th></th>\n",
              "      <th></th>\n",
              "      <th></th>\n",
              "      <th></th>\n",
              "      <th></th>\n",
              "      <th></th>\n",
              "      <th></th>\n",
              "      <th></th>\n",
              "      <th></th>\n",
              "      <th></th>\n",
              "    </tr>\n",
              "  </thead>\n",
              "  <tbody>\n",
              "    <tr>\n",
              "      <th>2024-08-01</th>\n",
              "      <td>217.097183</td>\n",
              "      <td>184.070007</td>\n",
              "      <td>171.626068</td>\n",
              "      <td>154.552948</td>\n",
              "      <td>203.392670</td>\n",
              "      <td>496.041473</td>\n",
              "      <td>413.256989</td>\n",
              "      <td>109.175514</td>\n",
              "      <td>216.860001</td>\n",
              "      <td>111.967537</td>\n",
              "    </tr>\n",
              "    <tr>\n",
              "      <th>2024-08-02</th>\n",
              "      <td>218.588501</td>\n",
              "      <td>167.899994</td>\n",
              "      <td>167.595413</td>\n",
              "      <td>157.802460</td>\n",
              "      <td>194.766373</td>\n",
              "      <td>486.474274</td>\n",
              "      <td>404.716644</td>\n",
              "      <td>107.236122</td>\n",
              "      <td>207.669998</td>\n",
              "      <td>111.900520</td>\n",
              "    </tr>\n",
              "    <tr>\n",
              "      <th>2024-08-05</th>\n",
              "      <td>208.059738</td>\n",
              "      <td>161.020004</td>\n",
              "      <td>159.872498</td>\n",
              "      <td>155.024048</td>\n",
              "      <td>190.619476</td>\n",
              "      <td>474.106598</td>\n",
              "      <td>391.499878</td>\n",
              "      <td>100.418274</td>\n",
              "      <td>198.880005</td>\n",
              "      <td>109.880409</td>\n",
              "    </tr>\n",
              "    <tr>\n",
              "      <th>2024-08-06</th>\n",
              "      <td>206.031540</td>\n",
              "      <td>161.929993</td>\n",
              "      <td>159.772964</td>\n",
              "      <td>152.832077</td>\n",
              "      <td>195.940002</td>\n",
              "      <td>492.403961</td>\n",
              "      <td>395.918671</td>\n",
              "      <td>104.217072</td>\n",
              "      <td>200.639999</td>\n",
              "      <td>109.296410</td>\n",
              "    </tr>\n",
              "    <tr>\n",
              "      <th>2024-08-07</th>\n",
              "      <td>208.606567</td>\n",
              "      <td>162.770004</td>\n",
              "      <td>159.981964</td>\n",
              "      <td>152.764801</td>\n",
              "      <td>195.998688</td>\n",
              "      <td>487.251587</td>\n",
              "      <td>394.749542</td>\n",
              "      <td>98.878769</td>\n",
              "      <td>191.759995</td>\n",
              "      <td>110.751648</td>\n",
              "    </tr>\n",
              "  </tbody>\n",
              "</table>\n",
              "</div>\n",
              "    <div class=\"colab-df-buttons\">\n",
              "\n",
              "  <div class=\"colab-df-container\">\n",
              "    <button class=\"colab-df-convert\" onclick=\"convertToInteractive('df-e5713ae4-b4c4-41f8-825b-7a941a086c13')\"\n",
              "            title=\"Convert this dataframe to an interactive table.\"\n",
              "            style=\"display:none;\">\n",
              "\n",
              "  <svg xmlns=\"http://www.w3.org/2000/svg\" height=\"24px\" viewBox=\"0 -960 960 960\">\n",
              "    <path d=\"M120-120v-720h720v720H120Zm60-500h600v-160H180v160Zm220 220h160v-160H400v160Zm0 220h160v-160H400v160ZM180-400h160v-160H180v160Zm440 0h160v-160H620v160ZM180-180h160v-160H180v160Zm440 0h160v-160H620v160Z\"/>\n",
              "  </svg>\n",
              "    </button>\n",
              "\n",
              "  <style>\n",
              "    .colab-df-container {\n",
              "      display:flex;\n",
              "      gap: 12px;\n",
              "    }\n",
              "\n",
              "    .colab-df-convert {\n",
              "      background-color: #E8F0FE;\n",
              "      border: none;\n",
              "      border-radius: 50%;\n",
              "      cursor: pointer;\n",
              "      display: none;\n",
              "      fill: #1967D2;\n",
              "      height: 32px;\n",
              "      padding: 0 0 0 0;\n",
              "      width: 32px;\n",
              "    }\n",
              "\n",
              "    .colab-df-convert:hover {\n",
              "      background-color: #E2EBFA;\n",
              "      box-shadow: 0px 1px 2px rgba(60, 64, 67, 0.3), 0px 1px 3px 1px rgba(60, 64, 67, 0.15);\n",
              "      fill: #174EA6;\n",
              "    }\n",
              "\n",
              "    .colab-df-buttons div {\n",
              "      margin-bottom: 4px;\n",
              "    }\n",
              "\n",
              "    [theme=dark] .colab-df-convert {\n",
              "      background-color: #3B4455;\n",
              "      fill: #D2E3FC;\n",
              "    }\n",
              "\n",
              "    [theme=dark] .colab-df-convert:hover {\n",
              "      background-color: #434B5C;\n",
              "      box-shadow: 0px 1px 3px 1px rgba(0, 0, 0, 0.15);\n",
              "      filter: drop-shadow(0px 1px 2px rgba(0, 0, 0, 0.3));\n",
              "      fill: #FFFFFF;\n",
              "    }\n",
              "  </style>\n",
              "\n",
              "    <script>\n",
              "      const buttonEl =\n",
              "        document.querySelector('#df-e5713ae4-b4c4-41f8-825b-7a941a086c13 button.colab-df-convert');\n",
              "      buttonEl.style.display =\n",
              "        google.colab.kernel.accessAllowed ? 'block' : 'none';\n",
              "\n",
              "      async function convertToInteractive(key) {\n",
              "        const element = document.querySelector('#df-e5713ae4-b4c4-41f8-825b-7a941a086c13');\n",
              "        const dataTable =\n",
              "          await google.colab.kernel.invokeFunction('convertToInteractive',\n",
              "                                                    [key], {});\n",
              "        if (!dataTable) return;\n",
              "\n",
              "        const docLinkHtml = 'Like what you see? Visit the ' +\n",
              "          '<a target=\"_blank\" href=https://colab.research.google.com/notebooks/data_table.ipynb>data table notebook</a>'\n",
              "          + ' to learn more about interactive tables.';\n",
              "        element.innerHTML = '';\n",
              "        dataTable['output_type'] = 'display_data';\n",
              "        await google.colab.output.renderOutput(dataTable, element);\n",
              "        const docLink = document.createElement('div');\n",
              "        docLink.innerHTML = docLinkHtml;\n",
              "        element.appendChild(docLink);\n",
              "      }\n",
              "    </script>\n",
              "  </div>\n",
              "\n",
              "\n",
              "    <div id=\"df-0e41ed68-db12-4d6c-ae94-6eff98379d25\">\n",
              "      <button class=\"colab-df-quickchart\" onclick=\"quickchart('df-0e41ed68-db12-4d6c-ae94-6eff98379d25')\"\n",
              "                title=\"Suggest charts\"\n",
              "                style=\"display:none;\">\n",
              "\n",
              "<svg xmlns=\"http://www.w3.org/2000/svg\" height=\"24px\"viewBox=\"0 0 24 24\"\n",
              "     width=\"24px\">\n",
              "    <g>\n",
              "        <path d=\"M19 3H5c-1.1 0-2 .9-2 2v14c0 1.1.9 2 2 2h14c1.1 0 2-.9 2-2V5c0-1.1-.9-2-2-2zM9 17H7v-7h2v7zm4 0h-2V7h2v10zm4 0h-2v-4h2v4z\"/>\n",
              "    </g>\n",
              "</svg>\n",
              "      </button>\n",
              "\n",
              "<style>\n",
              "  .colab-df-quickchart {\n",
              "      --bg-color: #E8F0FE;\n",
              "      --fill-color: #1967D2;\n",
              "      --hover-bg-color: #E2EBFA;\n",
              "      --hover-fill-color: #174EA6;\n",
              "      --disabled-fill-color: #AAA;\n",
              "      --disabled-bg-color: #DDD;\n",
              "  }\n",
              "\n",
              "  [theme=dark] .colab-df-quickchart {\n",
              "      --bg-color: #3B4455;\n",
              "      --fill-color: #D2E3FC;\n",
              "      --hover-bg-color: #434B5C;\n",
              "      --hover-fill-color: #FFFFFF;\n",
              "      --disabled-bg-color: #3B4455;\n",
              "      --disabled-fill-color: #666;\n",
              "  }\n",
              "\n",
              "  .colab-df-quickchart {\n",
              "    background-color: var(--bg-color);\n",
              "    border: none;\n",
              "    border-radius: 50%;\n",
              "    cursor: pointer;\n",
              "    display: none;\n",
              "    fill: var(--fill-color);\n",
              "    height: 32px;\n",
              "    padding: 0;\n",
              "    width: 32px;\n",
              "  }\n",
              "\n",
              "  .colab-df-quickchart:hover {\n",
              "    background-color: var(--hover-bg-color);\n",
              "    box-shadow: 0 1px 2px rgba(60, 64, 67, 0.3), 0 1px 3px 1px rgba(60, 64, 67, 0.15);\n",
              "    fill: var(--button-hover-fill-color);\n",
              "  }\n",
              "\n",
              "  .colab-df-quickchart-complete:disabled,\n",
              "  .colab-df-quickchart-complete:disabled:hover {\n",
              "    background-color: var(--disabled-bg-color);\n",
              "    fill: var(--disabled-fill-color);\n",
              "    box-shadow: none;\n",
              "  }\n",
              "\n",
              "  .colab-df-spinner {\n",
              "    border: 2px solid var(--fill-color);\n",
              "    border-color: transparent;\n",
              "    border-bottom-color: var(--fill-color);\n",
              "    animation:\n",
              "      spin 1s steps(1) infinite;\n",
              "  }\n",
              "\n",
              "  @keyframes spin {\n",
              "    0% {\n",
              "      border-color: transparent;\n",
              "      border-bottom-color: var(--fill-color);\n",
              "      border-left-color: var(--fill-color);\n",
              "    }\n",
              "    20% {\n",
              "      border-color: transparent;\n",
              "      border-left-color: var(--fill-color);\n",
              "      border-top-color: var(--fill-color);\n",
              "    }\n",
              "    30% {\n",
              "      border-color: transparent;\n",
              "      border-left-color: var(--fill-color);\n",
              "      border-top-color: var(--fill-color);\n",
              "      border-right-color: var(--fill-color);\n",
              "    }\n",
              "    40% {\n",
              "      border-color: transparent;\n",
              "      border-right-color: var(--fill-color);\n",
              "      border-top-color: var(--fill-color);\n",
              "    }\n",
              "    60% {\n",
              "      border-color: transparent;\n",
              "      border-right-color: var(--fill-color);\n",
              "    }\n",
              "    80% {\n",
              "      border-color: transparent;\n",
              "      border-right-color: var(--fill-color);\n",
              "      border-bottom-color: var(--fill-color);\n",
              "    }\n",
              "    90% {\n",
              "      border-color: transparent;\n",
              "      border-bottom-color: var(--fill-color);\n",
              "    }\n",
              "  }\n",
              "</style>\n",
              "\n",
              "      <script>\n",
              "        async function quickchart(key) {\n",
              "          const quickchartButtonEl =\n",
              "            document.querySelector('#' + key + ' button');\n",
              "          quickchartButtonEl.disabled = true;  // To prevent multiple clicks.\n",
              "          quickchartButtonEl.classList.add('colab-df-spinner');\n",
              "          try {\n",
              "            const charts = await google.colab.kernel.invokeFunction(\n",
              "                'suggestCharts', [key], {});\n",
              "          } catch (error) {\n",
              "            console.error('Error during call to suggestCharts:', error);\n",
              "          }\n",
              "          quickchartButtonEl.classList.remove('colab-df-spinner');\n",
              "          quickchartButtonEl.classList.add('colab-df-quickchart-complete');\n",
              "        }\n",
              "        (() => {\n",
              "          let quickchartButtonEl =\n",
              "            document.querySelector('#df-0e41ed68-db12-4d6c-ae94-6eff98379d25 button');\n",
              "          quickchartButtonEl.style.display =\n",
              "            google.colab.kernel.accessAllowed ? 'block' : 'none';\n",
              "        })();\n",
              "      </script>\n",
              "    </div>\n",
              "\n",
              "    </div>\n",
              "  </div>\n"
            ],
            "application/vnd.google.colaboratory.intrinsic+json": {
              "type": "dataframe",
              "variable_name": "dfstock",
              "summary": "{\n  \"name\": \"dfstock\",\n  \"rows\": 250,\n  \"fields\": [\n    {\n      \"column\": \"Date\",\n      \"properties\": {\n        \"dtype\": \"date\",\n        \"min\": \"2024-08-01 00:00:00\",\n        \"max\": \"2025-07-31 00:00:00\",\n        \"num_unique_values\": 250,\n        \"samples\": [\n          \"2025-02-26 00:00:00\",\n          \"2024-08-09 00:00:00\",\n          \"2024-12-18 00:00:00\"\n        ],\n        \"semantic_type\": \"\",\n        \"description\": \"\"\n      }\n    },\n    {\n      \"column\": \"AAPL\",\n      \"properties\": {\n        \"dtype\": \"number\",\n        \"std\": 15.858714070764552,\n        \"min\": 171.99899291992188,\n        \"max\": 258.1037292480469,\n        \"num_unique_values\": 247,\n        \"samples\": [\n          227.8097686767578,\n          214.98944091796875,\n          208.76898193359375\n        ],\n        \"semantic_type\": \"\",\n        \"description\": \"\"\n      }\n    },\n    {\n      \"column\": \"AMZN\",\n      \"properties\": {\n        \"dtype\": \"number\",\n        \"std\": 19.98341066431429,\n        \"min\": 161.02000427246094,\n        \"max\": 242.05999755859375,\n        \"num_unique_values\": 246,\n        \"samples\": [\n          186.42999267578125,\n          166.94000244140625,\n          186.5399932861328\n        ],\n        \"semantic_type\": \"\",\n        \"description\": \"\"\n      }\n    },\n    {\n      \"column\": \"GOOG\",\n      \"properties\": {\n        \"dtype\": \"number\",\n        \"std\": 13.410397756282293,\n        \"min\": 146.40402221679688,\n        \"max\": 207.22454833984375,\n        \"num_unique_values\": 246,\n        \"samples\": [\n          162.67391967773438,\n          164.59979248046875,\n          162.22500610351562\n        ],\n        \"semantic_type\": \"\",\n        \"description\": \"\"\n      }\n    },\n    {\n      \"column\": \"JNJ\",\n      \"properties\": {\n        \"dtype\": \"number\",\n        \"std\": 6.4392010501274735,\n        \"min\": 138.7157745361328,\n        \"max\": 168.32447814941406,\n        \"num_unique_values\": 242,\n        \"samples\": [\n          159.8236083984375,\n          154.41836547851562,\n          160.72230529785156\n        ],\n        \"semantic_type\": \"\",\n        \"description\": \"\"\n      }\n    },\n    {\n      \"column\": \"JPM\",\n      \"properties\": {\n        \"dtype\": \"number\",\n        \"std\": 26.753685836581127,\n        \"min\": 190.61947631835938,\n        \"max\": 299.6300048828125,\n        \"num_unique_values\": 249,\n        \"samples\": [\n          276.2098083496094,\n          201.2801055908203,\n          226.69117736816406\n        ],\n        \"semantic_type\": \"\",\n        \"description\": \"\"\n      }\n    },\n    {\n      \"column\": \"META\",\n      \"properties\": {\n        \"dtype\": \"number\",\n        \"std\": 68.26861277814957,\n        \"min\": 474.1065979003906,\n        \"max\": 773.4400024414062,\n        \"num_unique_values\": 247,\n        \"samples\": [\n          557.7236328125,\n          516.003173828125,\n          549.3173217773438\n        ],\n        \"semantic_type\": \"\",\n        \"description\": \"\"\n      }\n    },\n    {\n      \"column\": \"MSFT\",\n      \"properties\": {\n        \"dtype\": \"number\",\n        \"std\": 36.2285592725281,\n        \"min\": 353.3294372558594,\n        \"max\": 532.6243896484375,\n        \"num_unique_values\": 250,\n        \"samples\": [\n          398.3426513671875,\n          402.26947021484375,\n          434.999755859375\n        ],\n        \"semantic_type\": \"\",\n        \"description\": \"\"\n      }\n    },\n    {\n      \"column\": \"NVDA\",\n      \"properties\": {\n        \"dtype\": \"number\",\n        \"std\": 17.89758925622631,\n        \"min\": 94.30345153808594,\n        \"max\": 179.27000427246094,\n        \"num_unique_values\": 248,\n        \"samples\": [\n          113.34388732910156,\n          104.7169189453125,\n          108.72245025634766\n        ],\n        \"semantic_type\": \"\",\n        \"description\": \"\"\n      }\n    },\n    {\n      \"column\": \"TSLA\",\n      \"properties\": {\n        \"dtype\": \"number\",\n        \"std\": 67.45590671936226,\n        \"min\": 191.75999450683594,\n        \"max\": 479.8599853515625,\n        \"num_unique_values\": 249,\n        \"samples\": [\n          360.55999755859375,\n          200.0,\n          440.1300048828125\n        ],\n        \"semantic_type\": \"\",\n        \"description\": \"\"\n      }\n    },\n    {\n      \"column\": \"XOM\",\n      \"properties\": {\n        \"dtype\": \"number\",\n        \"std\": 4.876721413944914,\n        \"min\": 98.1051254272461,\n        \"max\": 120.99515533447266,\n        \"num_unique_values\": 243,\n        \"samples\": [\n          109.22087860107422,\n          113.7865982055664,\n          111.68257141113281\n        ],\n        \"semantic_type\": \"\",\n        \"description\": \"\"\n      }\n    }\n  ]\n}"
            }
          },
          "metadata": {},
          "execution_count": 3
        }
      ],
      "source": [
        "# Download stock price data of popular companies\n",
        "stocks = ['AAPL', 'MSFT', 'GOOG', 'TSLA', 'JNJ', 'JPM', 'NVDA', 'AMZN', 'META', 'XOM']\n",
        "dfstock = yf.download(stocks, start = \"2024-08-01\", end = \"2025-08-01\")\n",
        "dfstock = dfstock.xs('Close', axis = 1, level = 0)\n",
        "dfstock.dropna(inplace = True)\n",
        "dfstock.head()"
      ]
    },
    {
      "cell_type": "code",
      "execution_count": null,
      "metadata": {
        "colab": {
          "base_uri": "https://localhost:8080/"
        },
        "id": "rjkffevdtiAm",
        "outputId": "69106d17-2fc0-4f12-9376-9a4f0c2055f9"
      },
      "outputs": [
        {
          "data": {
            "text/plain": [
              "Index(['AAPL', 'AMZN', 'GOOG', 'JNJ', 'JPM', 'META', 'MSFT', 'NVDA', 'TSLA',\n",
              "       'XOM'],\n",
              "      dtype='object', name='Ticker')"
            ]
          },
          "execution_count": 6,
          "metadata": {},
          "output_type": "execute_result"
        }
      ],
      "source": [
        "dfstock.columns"
      ]
    },
    {
      "cell_type": "markdown",
      "metadata": {
        "id": "b6fWdwuwzcBo"
      },
      "source": [
        "---\n",
        "\n",
        "Compute daily log returns as $\\log\\left(\\frac{P_t}{P_{t-1}}\\right)$ where $P_t$ is stock price today and $P_{t-1}$ is stock price yesterday. For each company, its log return values can be treated as a vector."
      ]
    },
    {
      "cell_type": "code",
      "execution_count": null,
      "metadata": {
        "colab": {
          "base_uri": "https://localhost:8080/",
          "height": 238
        },
        "id": "lxkvKEC7zx7T",
        "outputId": "45ee828c-2e15-49f0-c1d5-751b850788d9"
      },
      "outputs": [
        {
          "output_type": "execute_result",
          "data": {
            "text/plain": [
              "Ticker          AAPL      AMZN      GOOG       JNJ       JPM      META  \\\n",
              "Date                                                                     \n",
              "2024-08-02  0.006846 -0.091948 -0.023765  0.020807 -0.043338 -0.019476   \n",
              "2024-08-05 -0.049366 -0.041840 -0.047176 -0.017764 -0.021522 -0.025752   \n",
              "2024-08-06 -0.009796  0.005635 -0.000623 -0.014240  0.027529  0.037867   \n",
              "2024-08-07  0.012421  0.005174  0.001307 -0.000440  0.000299 -0.010519   \n",
              "2024-08-08  0.016496  0.018444  0.019040  0.008273  0.018099  0.041486   \n",
              "\n",
              "Ticker          MSFT      NVDA      TSLA       XOM  \n",
              "Date                                                \n",
              "2024-08-02 -0.020882 -0.017924 -0.043302 -0.000599  \n",
              "2024-08-05 -0.033202 -0.065689 -0.043249 -0.018218  \n",
              "2024-08-06  0.011224  0.037132  0.008811 -0.005329  \n",
              "2024-08-07 -0.002957 -0.052581 -0.045268  0.013227  \n",
              "2024-08-08  0.010635  0.059464  0.036256  0.018924  "
            ],
            "text/html": [
              "\n",
              "  <div id=\"df-b214aef9-126e-466e-bf14-d10107d9128e\" class=\"colab-df-container\">\n",
              "    <div>\n",
              "<style scoped>\n",
              "    .dataframe tbody tr th:only-of-type {\n",
              "        vertical-align: middle;\n",
              "    }\n",
              "\n",
              "    .dataframe tbody tr th {\n",
              "        vertical-align: top;\n",
              "    }\n",
              "\n",
              "    .dataframe thead th {\n",
              "        text-align: right;\n",
              "    }\n",
              "</style>\n",
              "<table border=\"1\" class=\"dataframe\">\n",
              "  <thead>\n",
              "    <tr style=\"text-align: right;\">\n",
              "      <th>Ticker</th>\n",
              "      <th>AAPL</th>\n",
              "      <th>AMZN</th>\n",
              "      <th>GOOG</th>\n",
              "      <th>JNJ</th>\n",
              "      <th>JPM</th>\n",
              "      <th>META</th>\n",
              "      <th>MSFT</th>\n",
              "      <th>NVDA</th>\n",
              "      <th>TSLA</th>\n",
              "      <th>XOM</th>\n",
              "    </tr>\n",
              "    <tr>\n",
              "      <th>Date</th>\n",
              "      <th></th>\n",
              "      <th></th>\n",
              "      <th></th>\n",
              "      <th></th>\n",
              "      <th></th>\n",
              "      <th></th>\n",
              "      <th></th>\n",
              "      <th></th>\n",
              "      <th></th>\n",
              "      <th></th>\n",
              "    </tr>\n",
              "  </thead>\n",
              "  <tbody>\n",
              "    <tr>\n",
              "      <th>2024-08-02</th>\n",
              "      <td>0.006846</td>\n",
              "      <td>-0.091948</td>\n",
              "      <td>-0.023765</td>\n",
              "      <td>0.020807</td>\n",
              "      <td>-0.043338</td>\n",
              "      <td>-0.019476</td>\n",
              "      <td>-0.020882</td>\n",
              "      <td>-0.017924</td>\n",
              "      <td>-0.043302</td>\n",
              "      <td>-0.000599</td>\n",
              "    </tr>\n",
              "    <tr>\n",
              "      <th>2024-08-05</th>\n",
              "      <td>-0.049366</td>\n",
              "      <td>-0.041840</td>\n",
              "      <td>-0.047176</td>\n",
              "      <td>-0.017764</td>\n",
              "      <td>-0.021522</td>\n",
              "      <td>-0.025752</td>\n",
              "      <td>-0.033202</td>\n",
              "      <td>-0.065689</td>\n",
              "      <td>-0.043249</td>\n",
              "      <td>-0.018218</td>\n",
              "    </tr>\n",
              "    <tr>\n",
              "      <th>2024-08-06</th>\n",
              "      <td>-0.009796</td>\n",
              "      <td>0.005635</td>\n",
              "      <td>-0.000623</td>\n",
              "      <td>-0.014240</td>\n",
              "      <td>0.027529</td>\n",
              "      <td>0.037867</td>\n",
              "      <td>0.011224</td>\n",
              "      <td>0.037132</td>\n",
              "      <td>0.008811</td>\n",
              "      <td>-0.005329</td>\n",
              "    </tr>\n",
              "    <tr>\n",
              "      <th>2024-08-07</th>\n",
              "      <td>0.012421</td>\n",
              "      <td>0.005174</td>\n",
              "      <td>0.001307</td>\n",
              "      <td>-0.000440</td>\n",
              "      <td>0.000299</td>\n",
              "      <td>-0.010519</td>\n",
              "      <td>-0.002957</td>\n",
              "      <td>-0.052581</td>\n",
              "      <td>-0.045268</td>\n",
              "      <td>0.013227</td>\n",
              "    </tr>\n",
              "    <tr>\n",
              "      <th>2024-08-08</th>\n",
              "      <td>0.016496</td>\n",
              "      <td>0.018444</td>\n",
              "      <td>0.019040</td>\n",
              "      <td>0.008273</td>\n",
              "      <td>0.018099</td>\n",
              "      <td>0.041486</td>\n",
              "      <td>0.010635</td>\n",
              "      <td>0.059464</td>\n",
              "      <td>0.036256</td>\n",
              "      <td>0.018924</td>\n",
              "    </tr>\n",
              "  </tbody>\n",
              "</table>\n",
              "</div>\n",
              "    <div class=\"colab-df-buttons\">\n",
              "\n",
              "  <div class=\"colab-df-container\">\n",
              "    <button class=\"colab-df-convert\" onclick=\"convertToInteractive('df-b214aef9-126e-466e-bf14-d10107d9128e')\"\n",
              "            title=\"Convert this dataframe to an interactive table.\"\n",
              "            style=\"display:none;\">\n",
              "\n",
              "  <svg xmlns=\"http://www.w3.org/2000/svg\" height=\"24px\" viewBox=\"0 -960 960 960\">\n",
              "    <path d=\"M120-120v-720h720v720H120Zm60-500h600v-160H180v160Zm220 220h160v-160H400v160Zm0 220h160v-160H400v160ZM180-400h160v-160H180v160Zm440 0h160v-160H620v160ZM180-180h160v-160H180v160Zm440 0h160v-160H620v160Z\"/>\n",
              "  </svg>\n",
              "    </button>\n",
              "\n",
              "  <style>\n",
              "    .colab-df-container {\n",
              "      display:flex;\n",
              "      gap: 12px;\n",
              "    }\n",
              "\n",
              "    .colab-df-convert {\n",
              "      background-color: #E8F0FE;\n",
              "      border: none;\n",
              "      border-radius: 50%;\n",
              "      cursor: pointer;\n",
              "      display: none;\n",
              "      fill: #1967D2;\n",
              "      height: 32px;\n",
              "      padding: 0 0 0 0;\n",
              "      width: 32px;\n",
              "    }\n",
              "\n",
              "    .colab-df-convert:hover {\n",
              "      background-color: #E2EBFA;\n",
              "      box-shadow: 0px 1px 2px rgba(60, 64, 67, 0.3), 0px 1px 3px 1px rgba(60, 64, 67, 0.15);\n",
              "      fill: #174EA6;\n",
              "    }\n",
              "\n",
              "    .colab-df-buttons div {\n",
              "      margin-bottom: 4px;\n",
              "    }\n",
              "\n",
              "    [theme=dark] .colab-df-convert {\n",
              "      background-color: #3B4455;\n",
              "      fill: #D2E3FC;\n",
              "    }\n",
              "\n",
              "    [theme=dark] .colab-df-convert:hover {\n",
              "      background-color: #434B5C;\n",
              "      box-shadow: 0px 1px 3px 1px rgba(0, 0, 0, 0.15);\n",
              "      filter: drop-shadow(0px 1px 2px rgba(0, 0, 0, 0.3));\n",
              "      fill: #FFFFFF;\n",
              "    }\n",
              "  </style>\n",
              "\n",
              "    <script>\n",
              "      const buttonEl =\n",
              "        document.querySelector('#df-b214aef9-126e-466e-bf14-d10107d9128e button.colab-df-convert');\n",
              "      buttonEl.style.display =\n",
              "        google.colab.kernel.accessAllowed ? 'block' : 'none';\n",
              "\n",
              "      async function convertToInteractive(key) {\n",
              "        const element = document.querySelector('#df-b214aef9-126e-466e-bf14-d10107d9128e');\n",
              "        const dataTable =\n",
              "          await google.colab.kernel.invokeFunction('convertToInteractive',\n",
              "                                                    [key], {});\n",
              "        if (!dataTable) return;\n",
              "\n",
              "        const docLinkHtml = 'Like what you see? Visit the ' +\n",
              "          '<a target=\"_blank\" href=https://colab.research.google.com/notebooks/data_table.ipynb>data table notebook</a>'\n",
              "          + ' to learn more about interactive tables.';\n",
              "        element.innerHTML = '';\n",
              "        dataTable['output_type'] = 'display_data';\n",
              "        await google.colab.output.renderOutput(dataTable, element);\n",
              "        const docLink = document.createElement('div');\n",
              "        docLink.innerHTML = docLinkHtml;\n",
              "        element.appendChild(docLink);\n",
              "      }\n",
              "    </script>\n",
              "  </div>\n",
              "\n",
              "\n",
              "    <div id=\"df-fd92b0ea-e2b4-4287-97d8-a745d7b42eab\">\n",
              "      <button class=\"colab-df-quickchart\" onclick=\"quickchart('df-fd92b0ea-e2b4-4287-97d8-a745d7b42eab')\"\n",
              "                title=\"Suggest charts\"\n",
              "                style=\"display:none;\">\n",
              "\n",
              "<svg xmlns=\"http://www.w3.org/2000/svg\" height=\"24px\"viewBox=\"0 0 24 24\"\n",
              "     width=\"24px\">\n",
              "    <g>\n",
              "        <path d=\"M19 3H5c-1.1 0-2 .9-2 2v14c0 1.1.9 2 2 2h14c1.1 0 2-.9 2-2V5c0-1.1-.9-2-2-2zM9 17H7v-7h2v7zm4 0h-2V7h2v10zm4 0h-2v-4h2v4z\"/>\n",
              "    </g>\n",
              "</svg>\n",
              "      </button>\n",
              "\n",
              "<style>\n",
              "  .colab-df-quickchart {\n",
              "      --bg-color: #E8F0FE;\n",
              "      --fill-color: #1967D2;\n",
              "      --hover-bg-color: #E2EBFA;\n",
              "      --hover-fill-color: #174EA6;\n",
              "      --disabled-fill-color: #AAA;\n",
              "      --disabled-bg-color: #DDD;\n",
              "  }\n",
              "\n",
              "  [theme=dark] .colab-df-quickchart {\n",
              "      --bg-color: #3B4455;\n",
              "      --fill-color: #D2E3FC;\n",
              "      --hover-bg-color: #434B5C;\n",
              "      --hover-fill-color: #FFFFFF;\n",
              "      --disabled-bg-color: #3B4455;\n",
              "      --disabled-fill-color: #666;\n",
              "  }\n",
              "\n",
              "  .colab-df-quickchart {\n",
              "    background-color: var(--bg-color);\n",
              "    border: none;\n",
              "    border-radius: 50%;\n",
              "    cursor: pointer;\n",
              "    display: none;\n",
              "    fill: var(--fill-color);\n",
              "    height: 32px;\n",
              "    padding: 0;\n",
              "    width: 32px;\n",
              "  }\n",
              "\n",
              "  .colab-df-quickchart:hover {\n",
              "    background-color: var(--hover-bg-color);\n",
              "    box-shadow: 0 1px 2px rgba(60, 64, 67, 0.3), 0 1px 3px 1px rgba(60, 64, 67, 0.15);\n",
              "    fill: var(--button-hover-fill-color);\n",
              "  }\n",
              "\n",
              "  .colab-df-quickchart-complete:disabled,\n",
              "  .colab-df-quickchart-complete:disabled:hover {\n",
              "    background-color: var(--disabled-bg-color);\n",
              "    fill: var(--disabled-fill-color);\n",
              "    box-shadow: none;\n",
              "  }\n",
              "\n",
              "  .colab-df-spinner {\n",
              "    border: 2px solid var(--fill-color);\n",
              "    border-color: transparent;\n",
              "    border-bottom-color: var(--fill-color);\n",
              "    animation:\n",
              "      spin 1s steps(1) infinite;\n",
              "  }\n",
              "\n",
              "  @keyframes spin {\n",
              "    0% {\n",
              "      border-color: transparent;\n",
              "      border-bottom-color: var(--fill-color);\n",
              "      border-left-color: var(--fill-color);\n",
              "    }\n",
              "    20% {\n",
              "      border-color: transparent;\n",
              "      border-left-color: var(--fill-color);\n",
              "      border-top-color: var(--fill-color);\n",
              "    }\n",
              "    30% {\n",
              "      border-color: transparent;\n",
              "      border-left-color: var(--fill-color);\n",
              "      border-top-color: var(--fill-color);\n",
              "      border-right-color: var(--fill-color);\n",
              "    }\n",
              "    40% {\n",
              "      border-color: transparent;\n",
              "      border-right-color: var(--fill-color);\n",
              "      border-top-color: var(--fill-color);\n",
              "    }\n",
              "    60% {\n",
              "      border-color: transparent;\n",
              "      border-right-color: var(--fill-color);\n",
              "    }\n",
              "    80% {\n",
              "      border-color: transparent;\n",
              "      border-right-color: var(--fill-color);\n",
              "      border-bottom-color: var(--fill-color);\n",
              "    }\n",
              "    90% {\n",
              "      border-color: transparent;\n",
              "      border-bottom-color: var(--fill-color);\n",
              "    }\n",
              "  }\n",
              "</style>\n",
              "\n",
              "      <script>\n",
              "        async function quickchart(key) {\n",
              "          const quickchartButtonEl =\n",
              "            document.querySelector('#' + key + ' button');\n",
              "          quickchartButtonEl.disabled = true;  // To prevent multiple clicks.\n",
              "          quickchartButtonEl.classList.add('colab-df-spinner');\n",
              "          try {\n",
              "            const charts = await google.colab.kernel.invokeFunction(\n",
              "                'suggestCharts', [key], {});\n",
              "          } catch (error) {\n",
              "            console.error('Error during call to suggestCharts:', error);\n",
              "          }\n",
              "          quickchartButtonEl.classList.remove('colab-df-spinner');\n",
              "          quickchartButtonEl.classList.add('colab-df-quickchart-complete');\n",
              "        }\n",
              "        (() => {\n",
              "          let quickchartButtonEl =\n",
              "            document.querySelector('#df-fd92b0ea-e2b4-4287-97d8-a745d7b42eab button');\n",
              "          quickchartButtonEl.style.display =\n",
              "            google.colab.kernel.accessAllowed ? 'block' : 'none';\n",
              "        })();\n",
              "      </script>\n",
              "    </div>\n",
              "\n",
              "    </div>\n",
              "  </div>\n"
            ],
            "application/vnd.google.colaboratory.intrinsic+json": {
              "type": "dataframe",
              "variable_name": "log_returns",
              "summary": "{\n  \"name\": \"log_returns\",\n  \"rows\": 249,\n  \"fields\": [\n    {\n      \"column\": \"Date\",\n      \"properties\": {\n        \"dtype\": \"date\",\n        \"min\": \"2024-08-02 00:00:00\",\n        \"max\": \"2025-07-31 00:00:00\",\n        \"num_unique_values\": 249,\n        \"samples\": [\n          \"2025-02-20 00:00:00\",\n          \"2024-08-12 00:00:00\",\n          \"2024-12-19 00:00:00\"\n        ],\n        \"semantic_type\": \"\",\n        \"description\": \"\"\n      }\n    },\n    {\n      \"column\": \"AAPL\",\n      \"properties\": {\n        \"dtype\": \"number\",\n        \"std\": 0.019814636228193818,\n        \"min\": -0.09701330683544312,\n        \"max\": 0.1426174047866074,\n        \"num_unique_values\": 249,\n        \"samples\": [\n          0.003912786638377083,\n          0.007104597625675034,\n          0.006990209734520397\n        ],\n        \"semantic_type\": \"\",\n        \"description\": \"\"\n      }\n    },\n    {\n      \"column\": \"AMZN\",\n      \"properties\": {\n        \"dtype\": \"number\",\n        \"std\": 0.02150131016407998,\n        \"min\": -0.0940813573992858,\n        \"max\": 0.11312358861813517,\n        \"num_unique_values\": 249,\n        \"samples\": [\n          -0.016685221316839496,\n          -0.0008389728264874979,\n          0.012482931876037162\n        ],\n        \"semantic_type\": \"\",\n        \"description\": \"\"\n      }\n    },\n    {\n      \"column\": \"GOOG\",\n      \"properties\": {\n        \"dtype\": \"number\",\n        \"std\": 0.019646959697883003,\n        \"min\": -0.07802690955010853,\n        \"max\": 0.09420561215442394,\n        \"num_unique_values\": 249,\n        \"samples\": [\n          -0.002622050372495185,\n          -0.008744729500456641,\n          -0.002369335406156849\n        ],\n        \"semantic_type\": \"\",\n        \"description\": \"\"\n      }\n    },\n    {\n      \"column\": \"JNJ\",\n      \"properties\": {\n        \"dtype\": \"number\",\n        \"std\": 0.012190151811753834,\n        \"min\": -0.07895290784696309,\n        \"max\": 0.06008997499124939,\n        \"num_unique_values\": 249,\n        \"samples\": [\n          0.011273148430408582,\n          -0.004617777465823697,\n          -0.008115737612947356\n        ],\n        \"semantic_type\": \"\",\n        \"description\": \"\"\n      }\n    },\n    {\n      \"column\": \"JPM\",\n      \"properties\": {\n        \"dtype\": \"number\",\n        \"std\": 0.01755320740490701,\n        \"min\": -0.07778678843371709,\n        \"max\": 0.10925370479454441,\n        \"num_unique_values\": 249,\n        \"samples\": [\n          -0.0456082249114675,\n          0.001893273244665311,\n          0.011180075792048069\n        ],\n        \"semantic_type\": \"\",\n        \"description\": \"\"\n      }\n    },\n    {\n      \"column\": \"META\",\n      \"properties\": {\n        \"dtype\": \"number\",\n        \"std\": 0.022928910782498896,\n        \"min\": -0.09385215742044108,\n        \"max\": 0.13763451852648712,\n        \"num_unique_values\": 249,\n        \"samples\": [\n          -0.012770022120222975,\n          -0.0035211329019536938,\n          -0.0027164830362195395\n        ],\n        \"semantic_type\": \"\",\n        \"description\": \"\"\n      }\n    },\n    {\n      \"column\": \"MSFT\",\n      \"properties\": {\n        \"dtype\": \"number\",\n        \"std\": 0.015702099560562288,\n        \"min\": -0.06380176711700852,\n        \"max\": 0.0965246962256866,\n        \"num_unique_values\": 249,\n        \"samples\": [\n          0.00527676000702823,\n          0.0019438570541029578,\n          -0.0008234721672858013\n        ],\n        \"semantic_type\": \"\",\n        \"description\": \"\"\n      }\n    },\n    {\n      \"column\": \"NVDA\",\n      \"properties\": {\n        \"dtype\": \"number\",\n        \"std\": 0.03412320183793399,\n        \"min\": -0.1859461111169654,\n        \"max\": 0.17162060308658567,\n        \"num_unique_values\": 249,\n        \"samples\": [\n          0.006300655283237534,\n          0.039954744636581094,\n          0.013636984092378849\n        ],\n        \"semantic_type\": \"\",\n        \"description\": \"\"\n      }\n    },\n    {\n      \"column\": \"TSLA\",\n      \"properties\": {\n        \"dtype\": \"number\",\n        \"std\": 0.04500839002753893,\n        \"min\": -0.16754574067757613,\n        \"max\": 0.20449058000160142,\n        \"num_unique_values\": 249,\n        \"samples\": [\n          -0.01723217010242546,\n          -0.012629388585244743,\n          -0.009038042516689774\n        ],\n        \"semantic_type\": \"\",\n        \"description\": \"\"\n      }\n    },\n    {\n      \"column\": \"XOM\",\n      \"properties\": {\n        \"dtype\": \"number\",\n        \"std\": 0.015348867480651984,\n        \"min\": -0.07467605024703375,\n        \"max\": 0.04870986874569039,\n        \"num_unique_values\": 249,\n        \"samples\": [\n          0.01529492295519084,\n          0.0012612199440092736,\n          -0.00858784998332021\n        ],\n        \"semantic_type\": \"\",\n        \"description\": \"\"\n      }\n    }\n  ]\n}"
            }
          },
          "metadata": {},
          "execution_count": 4
        }
      ],
      "source": [
        "# Compute log returns\n",
        "log_returns = np.log(dfstock/dfstock.shift(1)).dropna()\n",
        "log_returns.head()"
      ]
    },
    {
      "cell_type": "markdown",
      "metadata": {
        "id": "lwZNy-Nxz9aP"
      },
      "source": [
        "---\n",
        "\n",
        "The risk or volatility associated with a stock can be quantified by the standard deviation of the log returns of that stock.\n",
        "\n",
        "First, compute the volatility in the log returns of TSLA. Then, compute the volatility in the log returns of the all the stocks and plot them in a bar plot in descending order.\n",
        "\n",
        "---"
      ]
    },
    {
      "cell_type": "code",
      "execution_count": null,
      "metadata": {
        "colab": {
          "base_uri": "https://localhost:8080/",
          "height": 653
        },
        "id": "Z-XM7M-_0Bm1",
        "outputId": "9457160f-88d1-42c2-9b48-45e6c08c1721"
      },
      "outputs": [
        {
          "output_type": "stream",
          "name": "stdout",
          "text": [
            "Volatility in the log returns of TSLA = 0.04491792081038267\n",
            "Volatility in the log returns of all stocks =\n",
            " Ticker\n",
            "TSLA    0.045008\n",
            "NVDA    0.034123\n",
            "META    0.022929\n",
            "AMZN    0.021501\n",
            "AAPL    0.019815\n",
            "GOOG    0.019647\n",
            "JPM     0.017553\n",
            "MSFT    0.015702\n",
            "XOM     0.015349\n",
            "JNJ     0.012190\n",
            "dtype: float64\n"
          ]
        },
        {
          "output_type": "display_data",
          "data": {
            "text/plain": [
              "<Figure size 600x400 with 1 Axes>"
            ],
            "image/png": "[encoded data removed]"
          },
          "metadata": {}
        }
      ],
      "source": [
        "# Compute standard deviation a.k.a. volatility a.k.a. risk of TSLA\n",
        "a = log_returns['TSLA'].values\n",
        "volatility_TSLA = a.std()\n",
        "print(f'Volatility in the log returns of TSLA = {volatility_TSLA}')\n",
        "\n",
        "# All stocks volatilities\n",
        "volatilities = log_returns.std().sort_values(ascending = False)\n",
        "print(f'Volatility in the log returns of all stocks =\\n {volatilities}')\n",
        "\n",
        "# Plot volatilities\n",
        "fig, ax = plt.subplots(1, 1, figsize = (6, 4))\n",
        "ax.bar(volatilities.index, volatilities.values)\n",
        "ax.set_xlabel('Company')\n",
        "ax.set_ylabel('Volatility')\n",
        "ax.set_title('Volatility (Std Dev) of Stocks');"
      ]
    },
    {
      "cell_type": "markdown",
      "metadata": {
        "id": "siWXCKtjBiAV"
      },
      "source": [
        "---\n",
        "\n",
        "The covariance between two vectors is a measure of how the two vectors co-vary about their respective means. It is calculated as the average dot product of their mean-centered versions. If $\\mathbf{a}_{mc}$ and $\\mathbf{b}_{mc}$ represent the mean-centered versions of vectors $\\mathbf{a}$ and $\\mathbf{b},$ respectively, then the covariance between $\\mathbf{a}$ and $\\mathbf{b}$ is denoted and calculated as $$\\text{cov}(\\mathbf{a},\\mathbf{b}) = \\frac{1}{n}\\times\\left(\\mathbf{a}_{mc}\\cdot\\mathbf{b}_{mc}\\right).$$\n",
        "\n",
        "In the component plot below of mean-centered heart rate and blood pressure values, it can be seen that the heart rates and blood pressures of the patients are co-varying similarly; that is, as the heart rate increases or decreases w.r.t. the average heart rate from one patient to another, the blood pressure also typically does the same w.r.t the average blood pressure.\n",
        "\n",
        "![Covariance](https://1drv.ms/i/c/37720f927b6ddc34/IQTLFeKh-TzhSpSSm3swzRsaAarPH-HPV-j9tmHPV7eiDuY?width=375&height=580)\n",
        "\n",
        "Calculate the covariance between the log returns of AAPL and AMZN. Does it indicate that those stocks co-vary similarly?\n",
        "\n",
        "Make component plots of the log returns of AAPL and AMZN. Do you see the stocks co-varying similarly?\n",
        "\n",
        "Modify the component plots to show the mean-centered log returns. Now do you see the stocks co-varying similarly?\n",
        "\n",
        "\n",
        "\n",
        "---"
      ]
    },
    {
      "cell_type": "code",
      "execution_count": null,
      "metadata": {
        "colab": {
          "base_uri": "https://localhost:8080/",
          "height": 907
        },
        "id": "Z0TCVUv9B2RS",
        "outputId": "78c407bc-3db3-4bb6-e97a-6ab18a17d934"
      },
      "outputs": [
        {
          "output_type": "stream",
          "name": "stdout",
          "text": [
            "Covariance between AAPL and AMZN log returns = [[0.00039262 0.00024668]\n",
            " [0.00024668 0.00046231]]\n"
          ]
        },
        {
          "output_type": "display_data",
          "data": {
            "text/plain": [
              "<Figure size 600x1000 with 1 Axes>"
            ],
            "image/png": "[encoded data removed]"
          },
          "metadata": {}
        }
      ],
      "source": [
        "# Covariance between log returns of APPL and AMZN\n",
        "a = log_returns['AAPL']\n",
        "a_mc = a-np.mean(a)\n",
        "b = log_returns['AMZN']\n",
        "b_mc = b-np.mean(b)\n",
        "cov = np.cov(a,b) #np.mean(a_mc*b_mc)\n",
        "print(f'Covariance between AAPL and AMZN log returns = {cov}');\n",
        "\n",
        "# Component plot of the log returns of AAPL and AMZN\n",
        "fig, ax = plt.subplots(1, 1, figsize = (6, 10))\n",
        "component_index = range(0, len(log_returns))\n",
        "ax.plot(component_index, a, color = 'red', marker = '*')\n",
        "ax.plot(component_index, b, color = 'blue', marker = '*')\n",
        "ax.set_xlabel('Day')\n",
        "ax.set_ylabel('Log Returns')\n",
        "ax.set_title( 'Log Returns of AAPL and AMZN');"
      ]
    },
    {
      "cell_type": "markdown",
      "metadata": {
        "id": "WJ2_XcGAY2Lc"
      },
      "source": [
        "---\n",
        "\n",
        "Compute the covariance between all pairs of log returns. The resulting matrix, denoted as $\\pmb{\\Sigma}$ is called the covariance matrix.\n",
        "\n",
        "From that matrix, are you able to identify stocks that co-vary?\n",
        "\n",
        "---"
      ]
    },
    {
      "cell_type": "code",
      "execution_count": null,
      "metadata": {
        "colab": {
          "base_uri": "https://localhost:8080/"
        },
        "id": "w8oGMdzlZB0G",
        "outputId": "0d7f8238-2620-4060-ea2e-322b8d292fd0"
      },
      "outputs": [
        {
          "output_type": "stream",
          "name": "stdout",
          "text": [
            "Ticker      AAPL      AMZN      GOOG       JNJ       JPM      META      MSFT  \\\n",
            "Ticker                                                                         \n",
            "AAPL    0.000393  0.000247  0.000193  0.000021  0.000164  0.000250  0.000175   \n",
            "AMZN    0.000247  0.000462  0.000272 -0.000039  0.000211  0.000364  0.000242   \n",
            "GOOG    0.000193  0.000272  0.000386 -0.000032  0.000140  0.000242  0.000167   \n",
            "JNJ     0.000021 -0.000039 -0.000032  0.000149  0.000019 -0.000047 -0.000027   \n",
            "JPM     0.000164  0.000211  0.000140  0.000019  0.000308  0.000188  0.000123   \n",
            "META    0.000250  0.000364  0.000242 -0.000047  0.000188  0.000526  0.000244   \n",
            "MSFT    0.000175  0.000242  0.000167 -0.000027  0.000123  0.000244  0.000247   \n",
            "NVDA    0.000299  0.000426  0.000340 -0.000108  0.000249  0.000439  0.000335   \n",
            "TSLA    0.000428  0.000514  0.000464 -0.000030  0.000364  0.000498  0.000328   \n",
            "XOM     0.000122  0.000077  0.000058  0.000039  0.000106  0.000080  0.000035   \n",
            "\n",
            "Ticker      NVDA      TSLA       XOM  \n",
            "Ticker                                \n",
            "AAPL    0.000299  0.000428  0.000122  \n",
            "AMZN    0.000426  0.000514  0.000077  \n",
            "GOOG    0.000340  0.000464  0.000058  \n",
            "JNJ    -0.000108 -0.000030  0.000039  \n",
            "JPM     0.000249  0.000364  0.000106  \n",
            "META    0.000439  0.000498  0.000080  \n",
            "MSFT    0.000335  0.000328  0.000035  \n",
            "NVDA    0.001164  0.000704  0.000103  \n",
            "TSLA    0.000704  0.002026  0.000126  \n",
            "XOM     0.000103  0.000126  0.000236  \n"
          ]
        }
      ],
      "source": [
        "# Covariance matrix matrix of log returns\n",
        "covmatrix = log_returns.cov()\n",
        "print(covmatrix)"
      ]
    },
    {
      "cell_type": "markdown",
      "metadata": {
        "id": "4TBk1_U24Cy1"
      },
      "source": [
        "---\n",
        "\n",
        "The correlation coefficient between two vectors $\\mathbf{a}$ and $\\mathbf{c}$ is a normalized measure (between -1 and 1) of their covariance which is denoted and calculated as $$\\text{cor}(\\mathbf{a},\\mathbf{b}) = \\frac{\\left(\\mathbf{a}_{mc}\\cdot\\mathbf{b}_{mc}\\right)}{\\lVert \\mathbf{a}_{mc}\\rVert_2\\lVert\\mathbf{b}_{mc}\\rVert_2}.$$ Note that the cauchy-Schwarz inequality guarantees that the above quantity is between -1 and 1.\n",
        "\n",
        "If the correlation coefficient is close to 1, then as one vector's components increase, the other vectors components also increase typically along a straight line. If the correlation coefficient is close to -1, then as one vector's components increase, the other vectors components decrease typically along a straight line.\n",
        "\n",
        "Compute the correlation coefficient between the log returns of AAPL and AMZN. Does it indicate that those stocks co-vary similarly?\n",
        "\n",
        "Make a scatter plot of the log returns of AAPL and AMZN. Does the plot indicate that the two stocks co-vary similarly?\n",
        "\n",
        "---"
      ]
    },
    {
      "cell_type": "code",
      "execution_count": null,
      "metadata": {
        "id": "Q5ljw5ZfuEvj",
        "colab": {
          "base_uri": "https://localhost:8080/"
        },
        "outputId": "0ff55853-4fa9-47e1-9433-639cc50b0251"
      },
      "outputs": [
        {
          "output_type": "stream",
          "name": "stdout",
          "text": [
            "Correation coefficient between AAPL and AMZN log returns = [[1.         0.57899412]\n",
            " [0.57899412 1.        ]]\n"
          ]
        }
      ],
      "source": [
        "corr = np.corrcoef(a,b)\n",
        "# print(f'Correation covarience between AAPL and AMZN log returns = {corr}')\n",
        "print(f'Correation coefficient between AAPL and AMZN log returns = {corr}')\n"
      ]
    },
    {
      "cell_type": "code",
      "execution_count": null,
      "metadata": {
        "colab": {
          "base_uri": "https://localhost:8080/",
          "height": 427
        },
        "id": "LAY02c5Q7vgQ",
        "outputId": "918c1090-3695-494a-ebbe-15872cb2210c"
      },
      "outputs": [
        {
          "output_type": "stream",
          "name": "stdout",
          "text": [
            "Correation coefficient between AAPL and AMZN log returns = 0.5789941243414024\n"
          ]
        },
        {
          "output_type": "display_data",
          "data": {
            "text/plain": [
              "<Figure size 600x400 with 1 Axes>"
            ],
            "image/png": "[encoded data removed]"
          },
          "metadata": {}
        }
      ],
      "source": [
        "# Correlation between APPL and AMZN)\n",
        "corr = np.corrcoef(log_returns['AAPL'],log_returns['AMZN'])[0,1]\n",
        "print(f'Correation coefficient between AAPL and AMZN log returns = {corr}')\n",
        "\n",
        "# Scatter plot of the log returns of AAPL and AMZN\n",
        "fig, ax = plt.subplots(1, 1, figsize = (6, 4))\n",
        "ax.scatter(log_returns['AAPL'], log_returns['AMZN'],s=10, color='blue', alpha=0.6)\n",
        "ax.set_xlabel('AAPL')\n",
        "ax.set_ylabel('AMZN')\n",
        "ax.set_title('Log Returns of Stock Prices');"
      ]
    },
    {
      "cell_type": "markdown",
      "metadata": {
        "id": "l1Mr7Em1Urnf"
      },
      "source": [
        "---\n",
        "\n",
        "Compute the correlation coefficient between all pairs of log returns and visualize the resulting correlation matrix. From that, identify stocks that co-vary typically.\n",
        "\n",
        "---"
      ]
    },
    {
      "cell_type": "code",
      "execution_count": null,
      "metadata": {
        "colab": {
          "base_uri": "https://localhost:8080/",
          "height": 935
        },
        "id": "7WInIgqNUsH7",
        "outputId": "18a1a896-1c2d-4712-e051-f52ac7d65102"
      },
      "outputs": [
        {
          "output_type": "stream",
          "name": "stdout",
          "text": [
            "Ticker      AAPL      AMZN      GOOG       JNJ       JPM      META      MSFT  \\\n",
            "Ticker                                                                         \n",
            "AAPL    1.000000  0.578994  0.495729  0.085638  0.470447  0.550175  0.563963   \n",
            "AMZN    0.578994  1.000000  0.644258 -0.150147  0.557740  0.737865  0.715403   \n",
            "GOOG    0.495729  0.644258  1.000000 -0.132492  0.405255  0.537130  0.540948   \n",
            "JNJ     0.085638 -0.150147 -0.132492  1.000000  0.086823 -0.167628 -0.143415   \n",
            "JPM     0.470447  0.557740  0.405255  0.086823  1.000000  0.467597  0.447861   \n",
            "META    0.550175  0.737865  0.537130 -0.167628  0.467597  1.000000  0.678692   \n",
            "MSFT    0.563963  0.715403  0.540948 -0.143415  0.447861  0.678692  1.000000   \n",
            "NVDA    0.442177  0.580955  0.506882 -0.259722  0.415699  0.561024  0.624664   \n",
            "TSLA    0.479896  0.530854  0.525204 -0.055565  0.460606  0.482292  0.464443   \n",
            "XOM     0.402425  0.233551  0.191923  0.210414  0.394069  0.226467  0.145205   \n",
            "\n",
            "Ticker      NVDA      TSLA       XOM  \n",
            "Ticker                                \n",
            "AAPL    0.442177  0.479896  0.402425  \n",
            "AMZN    0.580955  0.530854  0.233551  \n",
            "GOOG    0.506882  0.525204  0.191923  \n",
            "JNJ    -0.259722 -0.055565  0.210414  \n",
            "JPM     0.415699  0.460606  0.394069  \n",
            "META    0.561024  0.482292  0.226467  \n",
            "MSFT    0.624664  0.464443  0.145205  \n",
            "NVDA    1.000000  0.458481  0.197568  \n",
            "TSLA    0.458481  1.000000  0.182243  \n",
            "XOM     0.197568  0.182243  1.000000  \n"
          ]
        },
        {
          "output_type": "display_data",
          "data": {
            "text/plain": [
              "<Figure size 640x480 with 2 Axes>"
            ],
            "image/png": "[encoded data removed]"
          },
          "metadata": {}
        }
      ],
      "source": [
        "# Correlation matrix of log returns\n",
        "corrmatrix = log_returns.corr()\n",
        "print(corrmatrix)\n",
        "sns.heatmap(corrmatrix);\n",
        "plt.title(\"Correlation Between Stocks\")\n",
        "plt.show()"
      ]
    },
    {
      "cell_type": "markdown",
      "metadata": {
        "id": "PEsZixQiWfeJ"
      },
      "source": [
        "---\n",
        "\n",
        "The average log return (or simply return) associated with a stock (AAPL) is simply the average or mean of the log returns of the that stock. For example, if we denote the log returns of AAPL as an $n$-vector $\\mathbf{a},$ then its average log return in pen & paper can be written as $$\\frac{1}{n}\\times\\left(a_1+a_2+\\cdots+a_n\\right) = \\frac{1}{n}\\times\\left(\\pmb{1}\\cdot\\mathbf{a}\\right),$$ where $\\pmb{1}$ is an $n$-vector whose elements are all equal to ones.\n",
        "\n",
        "For a blended investment on the 10 stocks (called a portfolio) with weights that add up to 1 and represented as the vector $$\\mathbf{w}=\\begin{bmatrix}w_1\\\\w_2\\\\w_3\\\\\\vdots\\\\w_{10}\\end{bmatrix},$$\n",
        "- the averate return can be shown to be $\\mathbf{w}\\cdot\\mathbf{r},$ where $\\mathbf{r}$ is the vector of average returns of all the 10 stocks;\n",
        "- the overall risk (or simply risk) in the portfolio is $\\mathbf{w}\\cdot\\left(\\pmb{\\Sigma}\\mathbf{w}\\right),$ which takes into account the individual volatility of each stock and their co-movement w.r.t. the other stocks.\n",
        "\n",
        "Try to come up with a portfolio (that is, values for the components of the weights vector $\\mathbf{w})$ that results in the best return-to-risk ratio. The best return-to-risk ratio is also referred to as the sharpe ratio.\n",
        "\n",
        "---"
      ]
    },
    {
      "cell_type": "code",
      "execution_count": null,
      "metadata": {
        "id": "oX-tMCqIc7ms"
      },
      "outputs": [],
      "source": [
        "# Optimizing portfolio"
      ]
    },
    {
      "cell_type": "code",
      "execution_count": null,
      "metadata": {
        "id": "0GrLXjt3bR5a"
      },
      "outputs": [],
      "source": []
    },
    {
      "cell_type": "code",
      "execution_count": null,
      "metadata": {
        "colab": {
          "base_uri": "https://localhost:8080/",
          "height": 472
        },
        "id": "gZHV7VZObRqq",
        "outputId": "c85632eb-39a7-48ac-c2a6-a9c3df1f7c56"
      },
      "outputs": [
        {
          "data": {
            "image/png": "[encoded data removed]",
            "text/plain": [
              "<Figure size 640x480 with 1 Axes>"
            ]
          },
          "metadata": {},
          "output_type": "display_data"
        }
      ],
      "source": [
        "import matplotlib.pyplot as plt\n",
        "\n",
        "x = [1, 2, 3, 4, 5]\n",
        "y = [10,4,7,3,6]\n",
        "\n",
        "plt.scatter(x, y, color='blue', marker='o')\n",
        "\n",
        "plt.xlabel('X Axis')\n",
        "plt.ylabel('Y Axis')\n",
        "plt.title('Simple Scatter Plot')\n",
        "\n",
        "plt.grid(True)\n",
        "\n",
        "plt.show()\n"
      ]
    },
    {
      "cell_type": "code",
      "source": [
        "import torch\n",
        "\n",
        "def optimize_weights(r, Sigma, epochs=2000, lr=0.01):\n",
        "    \"\"\"\n",
        "    Optimize portfolio weights using PyTorch to maximize Sharpe ratio\n",
        "    based on loss = -(w⋅r)/(w⋅Σw).\n",
        "\n",
        "    Args:\n",
        "        r: numpy array of mean returns (shape: [n])\n",
        "        Sigma: numpy covariance matrix (shape: [n, n])\n",
        "        epochs: number of training iterations\n",
        "        lr: learning rate for optimizer\n",
        "\n",
        "    Returns:\n",
        "        optimal weights (numpy array), final loss\n",
        "    \"\"\"\n",
        "\n",
        "    # Convert to torch tensors\n",
        "    r_torch = torch.tensor(r, dtype=torch.float32)\n",
        "    Sigma_torch = torch.tensor(Sigma, dtype=torch.float32)\n",
        "\n",
        "    n = len(r)\n",
        "    # Initialize weights as trainable parameters\n",
        "    raw_w = torch.randn(n, requires_grad=True)\n",
        "\n",
        "    # Optimizer\n",
        "    optimizer = torch.optim.Adam([raw_w], lr=lr)\n",
        "\n",
        "    for epoch in range(epochs):\n",
        "        optimizer.zero_grad()\n",
        "\n",
        "        # Apply softmax to ensure weights sum to 1 and are positive\n",
        "        w = torch.softmax(raw_w, dim=0)\n",
        "\n",
        "        # Compute portfolio return and risk (custom Sharpe-like formula)\n",
        "        port_return = torch.dot(w, r_torch)\n",
        "        port_risk = torch.dot(w, torch.mv(Sigma_torch, w))  # wᵀ Σ w\n",
        "\n",
        "        # Loss = negative Sharpe ratio (since we minimize)\n",
        "        loss = -(port_return / port_risk)\n",
        "\n",
        "        # Backpropagation\n",
        "        loss.backward()\n",
        "        optimizer.step()\n",
        "\n",
        "        # if epoch % 500 == 0:\n",
        "            # print(f\"Epoch {epoch}, Loss: {loss.item()}, Sharpe Approx: {-loss.item()}\")\n",
        "\n",
        "    # Final weights\n",
        "    final_w = torch.softmax(raw_w, dim=0).detach().numpy()\n",
        "    return final_w, loss.item()\n",
        "\n",
        "# Example usage (with your data)\n",
        "r = log_returns.mean().values\n",
        "Sigma = log_returns.cov().values\n",
        "\n",
        "optimal_w, final_loss = optimize_weights(r, Sigma)\n",
        "print(\"Optimal weights:\", optimal_w)\n",
        "print(\"Final Sharpe Approximation:\", -final_loss)"
      ],
      "metadata": {
        "colab": {
          "base_uri": "https://localhost:8080/"
        },
        "id": "KO6ekRhl5weT",
        "outputId": "77290e43-2415-463a-d89a-d430e89ca6f3"
      },
      "execution_count": null,
      "outputs": [
        {
          "output_type": "stream",
          "name": "stdout",
          "text": [
            "Optimal weights: [4.09762230e-04 3.29564995e-04 1.66714410e-04 4.52112049e-01\n",
            " 2.05920145e-01 1.18791245e-01 1.99403957e-01 2.26294249e-02\n",
            " 1.73590219e-04 6.35429460e-05]\n",
            "Final Sharpe Approximation: 9.555262565612793\n"
          ]
        }
      ]
    },
    {
      "cell_type": "code",
      "source": [
        "log_returns.mean(),np.dtype"
      ],
      "metadata": {
        "colab": {
          "base_uri": "https://localhost:8080/"
        },
        "id": "We2x_XD7EiUp",
        "outputId": "3bdb9550-fc2f-4e5c-f9c0-fb59b0b23d57"
      },
      "execution_count": null,
      "outputs": [
        {
          "output_type": "execute_result",
          "data": {
            "text/plain": [
              "(Ticker\n",
              " AAPL   -0.000185\n",
              " AMZN    0.000966\n",
              " GOOG    0.000468\n",
              " JNJ     0.000227\n",
              " JPM     0.001510\n",
              " META    0.001784\n",
              " MSFT    0.001019\n",
              " NVDA    0.001960\n",
              " TSLA    0.001413\n",
              " XOM    -0.000049\n",
              " dtype: float64,\n",
              " numpy.dtype)"
            ]
          },
          "metadata": {},
          "execution_count": 15
        }
      ]
    },
    {
      "cell_type": "code",
      "source": [
        "0.1*np.ones(10)"
      ],
      "metadata": {
        "colab": {
          "base_uri": "https://localhost:8080/"
        },
        "id": "q3g9cB3VFdNu",
        "outputId": "2424193a-3b70-4433-a3a6-df47dcd8348d"
      },
      "execution_count": null,
      "outputs": [
        {
          "output_type": "execute_result",
          "data": {
            "text/plain": [
              "array([0.1, 0.1, 0.1, 0.1, 0.1, 0.1, 0.1, 0.1, 0.1, 0.1])"
            ]
          },
          "metadata": {},
          "execution_count": 19
        }
      ]
    },
    {
      "cell_type": "code",
      "source": [
        "#expected portfolio return vector\n",
        "r = torch.tensor(log_returns.mean().values,dtype=torch.float64)\n",
        "\n",
        "#Initial portfolio weights vector\n",
        "w = torch.tensor(0.1*np.ones(10),dtype=torch.float64,requires_grad=True)\n",
        "\n",
        "#covariance matrix of risks\n",
        "S = torch.tensor(np.array(log_returns.cov()),dtype=torch.float64)\n",
        "\n",
        "#Define optimizer (Adam object)\n",
        "optimizer = torch.optim.Adam([w],lr=1e-02)\n",
        "\n",
        "# loss functoin\n",
        "def loss_fun(w):\n",
        "  loss=-torch.dot(r,w)/torch.dot(w,torch.matmul(S,w))\n",
        "  return loss\n",
        "\n",
        "#optimization loop\n",
        "num_epochs = 10000\n",
        "for epoch in range(num_epochs):\n",
        "  #Zero out the gradient\n",
        "  optimizer.zero_grad()\n",
        "\n",
        "  #Loss calculation\n",
        "  w_constrained = torch.softmax(w,dim=0)\n",
        "  loss = loss_fun(w_constrained)\n",
        "\n",
        "  # do backward propogation and optimization\n",
        "  loss.backward()\n",
        "  optimizer.step()\n",
        "\n",
        "  # print the loss every 1000 epoch\n",
        "  if epoch % 1000 == 0:\n",
        "    print(f\"Epoch {epoch}, Loss: {loss.item()}\")\n",
        "\n",
        "w= torch.softmax(w,dim=0)\n",
        "# print the optimized portfolio weights\n",
        "print(\"Optimal weights:\", w)\n",
        "\n"
      ],
      "metadata": {
        "id": "7je6Kv-D9uYJ",
        "colab": {
          "base_uri": "https://localhost:8080/"
        },
        "outputId": "e2a5f936-0dd6-4eb7-d6cc-2b3b1479df94"
      },
      "execution_count": null,
      "outputs": [
        {
          "output_type": "stream",
          "name": "stdout",
          "text": [
            "Epoch 0, Loss: -3.7785785056576446\n",
            "Epoch 1000, Loss: -9.524346332942491\n",
            "Epoch 2000, Loss: -9.554891648429676\n",
            "Epoch 3000, Loss: -9.562095640137033\n",
            "Epoch 4000, Loss: -9.56488440812254\n",
            "Epoch 5000, Loss: -9.566208412865192\n",
            "Epoch 6000, Loss: -9.566906108455106\n",
            "Epoch 7000, Loss: -9.56729570776288\n",
            "Epoch 8000, Loss: -9.56752067460732\n",
            "Epoch 9000, Loss: -9.567653167885494\n",
            "Optimal weights: tensor([2.1168e-06, 2.1946e-06, 3.8793e-06, 4.5258e-01, 2.0600e-01, 1.1889e-01,\n",
            "        1.9953e-01, 2.2979e-02, 3.1563e-06, 1.9336e-06], dtype=torch.float64,\n",
            "       grad_fn=<SoftmaxBackward0>)\n"
          ]
        }
      ]
    },
    {
      "cell_type": "code",
      "source": [
        "#optimal sharpe ratio\n",
        "average_ratio = torch.dot(w,r)\n",
        "overall_risk=torch.dot(w,torch.matmul(S,w))\n",
        "print(f'optimal sharpe ratio = {average_ratio/overall_risk}')"
      ],
      "metadata": {
        "id": "GH_e_M1JE7TK",
        "colab": {
          "base_uri": "https://localhost:8080/"
        },
        "outputId": "1c259a28-0dcb-432f-d780-1cf44a4254c7"
      },
      "execution_count": null,
      "outputs": [
        {
          "output_type": "stream",
          "name": "stdout",
          "text": [
            "optimal sharpe ratio = 9.567730629016777\n"
          ]
        }
      ]
    },
    {
      "cell_type": "code",
      "source": [
        "# Patients data matrix\n",
        "X = torch.tensor([[72, 120, 37.3, 104, 32.5],\n",
        "                 [85, 130, 37.0, 110, 14],\n",
        "                 [68, 110, 38.5, 125, 34],\n",
        "                 [90, 140, 38.0, 130, 26],\n",
        "                 [84, 132, 38.3, 146, 30],\n",
        "                 [78, 128, 37.2, 102, 12]], dtype = torch.float64)\n",
        "print(f'Patient data matrix X:\\n {X}') #f-string in Python\n",
        "\n",
        "# Weights matrix\n",
        "W = torch.tensor([[-0.1, 0.5, 0.3],\n",
        "                  [0.9, 0.3, 0.5],\n",
        "                  [-1.5, 0.4, 0.1],\n",
        "                  [0.1, 0.1, -1.0],\n",
        "                  [-1.2, 0.5, -0.8]], dtype = torch.float64,requires_grad=True)\n",
        "print(f'Weights matrix:\\n {W}')\n",
        "\n",
        "# Raw scores matrix (matrix-matrix multiplication)\n",
        "# Z = torch.matmul(X, W)\n",
        "# print(f'Raw zcores matrix:\\n {Z}')\n",
        "# The raw scores are also referred to as the logits"
      ],
      "metadata": {
        "colab": {
          "base_uri": "https://localhost:8080/"
        },
        "id": "VF9Nd1-uaJ8b",
        "outputId": "30e2a69e-d614-4477-885e-6db46aa42330"
      },
      "execution_count": null,
      "outputs": [
        {
          "output_type": "stream",
          "name": "stdout",
          "text": [
            "Patient data matrix X:\n",
            " tensor([[ 72.0000, 120.0000,  37.3000, 104.0000,  32.5000],\n",
            "        [ 85.0000, 130.0000,  37.0000, 110.0000,  14.0000],\n",
            "        [ 68.0000, 110.0000,  38.5000, 125.0000,  34.0000],\n",
            "        [ 90.0000, 140.0000,  38.0000, 130.0000,  26.0000],\n",
            "        [ 84.0000, 132.0000,  38.3000, 146.0000,  30.0000],\n",
            "        [ 78.0000, 128.0000,  37.2000, 102.0000,  12.0000]],\n",
            "       dtype=torch.float64)\n",
            "Weights matrix:\n",
            " tensor([[-0.1000,  0.5000,  0.3000],\n",
            "        [ 0.9000,  0.3000,  0.5000],\n",
            "        [-1.5000,  0.4000,  0.1000],\n",
            "        [ 0.1000,  0.1000, -1.0000],\n",
            "        [-1.2000,  0.5000, -0.8000]], dtype=torch.float64, requires_grad=True)\n"
          ]
        }
      ]
    },
    {
      "cell_type": "code",
      "source": [
        "y = np.array(['non-diabetic',\n",
        "              'diabetic',\n",
        "              'non-diabetic',\n",
        "              'pre-diabetic',\n",
        "              'diabetic',\n",
        "              'pre-diabetic'])\n",
        "\n",
        "y = y.reshape(-1, 1)\n",
        "ohe = OneHotEncoder(sparse_output = False)\n",
        "# Create the one-hot encoded true output labels matrix\n",
        "Y = torch.tensor(ohe.fit_transform(y), dtype = torch.float64)\n",
        "print(Y)\n",
        "# Standardize the data\n",
        "sc = StandardScaler() # create a standard scaler object\n",
        "X_std = torch.tensor(sc.fit_transform(X), dtype = torch.float64)\n",
        "\n"
      ],
      "metadata": {
        "colab": {
          "base_uri": "https://localhost:8080/"
        },
        "id": "5vBY46fThFP1",
        "outputId": "81145962-7711-4df9-9796-176e964890bf"
      },
      "execution_count": null,
      "outputs": [
        {
          "output_type": "stream",
          "name": "stdout",
          "text": [
            "tensor([[0., 1., 0.],\n",
            "        [1., 0., 0.],\n",
            "        [0., 1., 0.],\n",
            "        [0., 0., 1.],\n",
            "        [1., 0., 0.],\n",
            "        [0., 0., 1.]], dtype=torch.float64)\n"
          ]
        }
      ]
    },
    {
      "cell_type": "code",
      "source": [
        "\n",
        "#Define optimizer (Adam object)\n",
        "optimizer = torch.optim.Adam([W],lr=1e-02)\n",
        "\n",
        "# loss functoin\n",
        "def loss_fun(W):\n",
        "  Z = torch.matmul(X_std, W)\n",
        "  softmax = torch.nn.Softmax(dim = 1)\n",
        "  A = softmax(Z)\n",
        "  loss = torch.mean(-torch.log(torch.sum(Y*A, dim=1)))\n",
        "  return loss\n",
        "\n",
        "#optimization loop\n",
        "num_epochs = 10000\n",
        "for epoch in range(num_epochs):\n",
        "  #Zero out the gradient\n",
        "  optimizer.zero_grad()\n",
        "  #loss cal\n",
        "  loss=loss_fun(W)\n",
        "  # do backward propogation and optimization\n",
        "  loss.backward()\n",
        "  optimizer.step()\n",
        "\n",
        "  # print the loss every 1000 epoch\n",
        "  if epoch % 1000 == 0:\n",
        "    print(f\"Epoch {epoch}, Loss: {loss.item()}\")\n",
        "\n",
        "W= torch.softmax(W,dim=0)\n",
        "# print the optimized portfolio weights\n",
        "print(\"Optimal weights:\", W)\n",
        "\n"
      ],
      "metadata": {
        "colab": {
          "base_uri": "https://localhost:8080/"
        },
        "id": "LgsPN9ZUgjr7",
        "outputId": "447d1179-88f4-4606-f5e7-eac47980ae55"
      },
      "execution_count": null,
      "outputs": [
        {
          "output_type": "stream",
          "name": "stdout",
          "text": [
            "Epoch 0, Loss: 1.2303940464309857\n",
            "Epoch 1000, Loss: 0.018399732280405298\n",
            "Epoch 2000, Loss: 0.005553742501022239\n",
            "Epoch 3000, Loss: 0.0024706458206458126\n",
            "Epoch 4000, Loss: 0.0012747228155419502\n",
            "Epoch 5000, Loss: 0.0007065782346071862\n",
            "Epoch 6000, Loss: 0.00040700132319583683\n",
            "Epoch 7000, Loss: 0.0002395832067849751\n",
            "Epoch 8000, Loss: 0.00014282078783290256\n",
            "Epoch 9000, Loss: 8.57742685444377e-05\n",
            "Optimal weights: tensor([[8.3236e-01, 9.1044e-05, 5.1375e-06],\n",
            "        [1.1880e-07, 5.2340e-05, 1.6671e-03],\n",
            "        [4.8971e-06, 1.0165e-04, 9.9833e-01],\n",
            "        [1.6739e-01, 2.7712e-05, 2.3011e-13],\n",
            "        [2.4421e-04, 9.9973e-01, 5.9324e-07]], dtype=torch.float64,\n",
            "       grad_fn=<SoftmaxBackward0>)\n"
          ]
        }
      ]
    },
    {
      "cell_type": "code",
      "source": [
        "X = np.array ([[76, 126, 38], [74, 120, 38], [72, 118, 37.5], [78, 136, 37.0]])\n",
        "print(X) # Patient data matrix\n",
        "\n",
        "v = np.array([1, 1, 1])\n",
        "print(v) # This is the direction vector\n",
        "\n",
        "v=v/np.linalg.norm(v)\n",
        "print(v) # This is the unit vector (1/sqrt(3))\n",
        "\n",
        "print(np.dot(X, v)) # This is the scalar projection of all the patients in the direction v\n",
        "\n",
        "mu = np.mean(X, axis = 0)\n",
        "print(mu) # This is the average patient\n",
        "\n",
        "print(np.dot (mu, v)) # This is the projection of the average patient\n",
        "\n",
        "print(np.mean (np.dot(X, v))) # This is also the projection of the average patient (interpreted in a different way)\n",
        "\n",
        "print(np.var (np.dot (X, v))) # This is the variance of the projected patients\n",
        "\n",
        "print(np.mean(np.square (np.dot(X, v)-np.mean(np.dot(X, v))))) # This is the variance calculated with the saclar projection of all patients\n",
        "\n",
        "print(np.mean (np.square (np.dot(X, v)-np.dot(mu, v)))) # This is the variance calculated with the projection of average patient"
      ],
      "metadata": {
        "id": "dUOl2TUwjiBq",
        "colab": {
          "base_uri": "https://localhost:8080/"
        },
        "outputId": "aabf7178-851f-4df2-be43-2b35311ac983"
      },
      "execution_count": null,
      "outputs": [
        {
          "output_type": "stream",
          "name": "stdout",
          "text": [
            "[[ 76.  126.   38. ]\n",
            " [ 74.  120.   38. ]\n",
            " [ 72.  118.   37.5]\n",
            " [ 78.  136.   37. ]]\n",
            "[1 1 1]\n",
            "[0.57735027 0.57735027 0.57735027]\n",
            "[138.56406461 133.94526245 131.34718624 144.91491757]\n",
            "[ 75.    125.     37.625]\n",
            "137.19285771618485\n",
            "137.19285771618485\n",
            "26.55729166666677\n",
            "26.55729166666677\n",
            "26.55729166666677\n"
          ]
        }
      ]
    }
  ],
  "metadata": {
    "colab": {
      "provenance": [],
      "include_colab_link": true
    },
    "kernelspec": {
      "display_name": "colab-windows",
      "language": "python",
      "name": "python3"
    },
    "language_info": {
      "codemirror_mode": {
        "name": "ipython",
        "version": 3
      },
      "file_extension": ".py",
      "mimetype": "text/x-python",
      "name": "python",
      "nbconvert_exporter": "python",
      "pygments_lexer": "ipython3",
      "version": "3.9.15"
    }
  },
  "nbformat": 4,
  "nbformat_minor": 0
}